{
  "nbformat": 4,
  "nbformat_minor": 0,
  "metadata": {
    "colab": {
      "provenance": []
    },
    "kernelspec": {
      "name": "python3",
      "display_name": "Python 3"
    },
    "language_info": {
      "name": "python"
    }
  },
  "cells": [
    {
      "cell_type": "markdown",
      "source": [
        "### Question 1.1: Write the Answer to these questions.\n",
        "\n"
      ],
      "metadata": {
        "id": "iYvFQy-tdzok"
      }
    },
    {
      "cell_type": "markdown",
      "source": [
        "• What is the difference between static and dynamic variables in Python?\n"
      ],
      "metadata": {
        "id": "HmRaD2Ozeh04"
      }
    },
    {
      "cell_type": "markdown",
      "source": [
        "Python doesn't have the concept of static variables. All variables in Python are dynamic."
      ],
      "metadata": {
        "id": "6QN-yXRlgQDT"
      }
    },
    {
      "cell_type": "code",
      "source": [
        "x = 10\n",
        "x = \"hello\"\n"
      ],
      "metadata": {
        "id": "5sGiDLgigPfF"
      },
      "execution_count": null,
      "outputs": []
    },
    {
      "cell_type": "markdown",
      "source": [
        "• Explain the purpose of \"pop\",\"popitem\",\"clear()\" in a dictionary with suitable examples.\n"
      ],
      "metadata": {
        "id": "yAK7KG_ZgisS"
      }
    },
    {
      "cell_type": "markdown",
      "source": [
        "The pop() method in Python dictionaries removes and returns an element from a dictionary by its key."
      ],
      "metadata": {
        "id": "-1r7TwQJgmOM"
      }
    },
    {
      "cell_type": "code",
      "execution_count": null,
      "metadata": {
        "id": "LysLIFqCdk2E",
        "colab": {
          "base_uri": "https://localhost:8080/"
        },
        "outputId": "8aeddb54-4bba-4477-c38f-f5fedda99052"
      },
      "outputs": [
        {
          "output_type": "stream",
          "name": "stdout",
          "text": [
            "2\n",
            "{'a': 1, 'c': 3}\n"
          ]
        }
      ],
      "source": [
        "my_dict = {'a': 1, 'b': 2, 'c': 3}\n",
        "value = my_dict.pop('b')\n",
        "print(value)  # Output: 2\n",
        "print(my_dict)  # Output: {'a': 1, 'c': 3}\n"
      ]
    },
    {
      "cell_type": "markdown",
      "source": [
        "The popitem() method removes and returns an arbitrary (key, value) pair from the dictionary. It's useful when you don't need to specify the key."
      ],
      "metadata": {
        "id": "pdrrEN-5sqU_"
      }
    },
    {
      "cell_type": "code",
      "source": [
        "my_dict = {'a': 1, 'b': 2, 'c': 3}\n",
        "key, value = my_dict.popitem()\n",
        "print(key, value)  # Output: ('c', 3)\n",
        "print(my_dict)  # Output: {'a': 1, 'b': 2}\n"
      ],
      "metadata": {
        "id": "mSYxLo87sxXY",
        "colab": {
          "base_uri": "https://localhost:8080/"
        },
        "outputId": "1538ba3e-c483-4e7d-af9b-65bddbf02079"
      },
      "execution_count": null,
      "outputs": [
        {
          "output_type": "stream",
          "name": "stdout",
          "text": [
            "c 3\n",
            "{'a': 1, 'b': 2}\n"
          ]
        }
      ]
    },
    {
      "cell_type": "markdown",
      "source": [
        "The clear() method removes all elements from a dictionary, leaving it empty.\n",
        "\n"
      ],
      "metadata": {
        "id": "w5O6rrGatTgt"
      }
    },
    {
      "cell_type": "code",
      "source": [
        "my_dict = {'a': 1, 'b': 2, 'c': 3}\n",
        "my_dict.clear()\n",
        "print(my_dict)  # Output: {} (empty dictionary)\n"
      ],
      "metadata": {
        "id": "wsqRfrEXtVGJ",
        "colab": {
          "base_uri": "https://localhost:8080/"
        },
        "outputId": "45c883af-4b54-4355-dc45-c7142ad69244"
      },
      "execution_count": null,
      "outputs": [
        {
          "output_type": "stream",
          "name": "stdout",
          "text": [
            "{}\n"
          ]
        }
      ]
    },
    {
      "cell_type": "markdown",
      "source": [
        "• What do you mean by FrozenSet? Explain it with suitable examples.\n"
      ],
      "metadata": {
        "id": "aNX_CpzMsnpH"
      }
    },
    {
      "cell_type": "markdown",
      "source": [
        "A frozenset in Python is an immutable version of a set. This means once a frozenset is created, its elements cannot be changed, added, or removed."
      ],
      "metadata": {
        "id": "3bkDXoWvtV3q"
      }
    },
    {
      "cell_type": "code",
      "source": [
        "my_frozenset = frozenset([1, 2, 3])\n",
        "\n",
        "try:\n",
        "    my_frozenset.add(4)\n",
        "except AttributeError as e:\n",
        "    print(e)\n"
      ],
      "metadata": {
        "id": "Ly1CYsedthfA",
        "colab": {
          "base_uri": "https://localhost:8080/"
        },
        "outputId": "e777c3ec-dc21-4fc7-9439-4c43841b04ae"
      },
      "execution_count": null,
      "outputs": [
        {
          "output_type": "stream",
          "name": "stdout",
          "text": [
            "'frozenset' object has no attribute 'add'\n"
          ]
        }
      ]
    },
    {
      "cell_type": "markdown",
      "source": [
        "• Differentiate between mutable and immutable data types in Python and give examples of mutable and immutable data types.\n"
      ],
      "metadata": {
        "id": "beiJmmPRhbjd"
      }
    },
    {
      "cell_type": "markdown",
      "source": [
        "Immutable Data Types\n",
        "Immutable data types cannot be changed after they are created. Any operation that appears to change them actually creates a new object.\n",
        "\n",
        "Numbers: Integers, floats, complex numbers, booleans.\n",
        "Strings: Textual data.\n",
        "Tuples: Ordered collections of immutable objects."
      ],
      "metadata": {
        "id": "WczRHD87h_KN"
      }
    },
    {
      "cell_type": "code",
      "source": [
        "x = 5\n",
        "y = x + 2  # Creates a new integer object\n",
        "print(x)  # Output: 5\n",
        "print(y)  # Output: 7\n"
      ],
      "metadata": {
        "colab": {
          "base_uri": "https://localhost:8080/"
        },
        "id": "bifvsiFXh-Sx",
        "outputId": "9a1f570a-702b-43a3-fe54-cf51284d7255"
      },
      "execution_count": null,
      "outputs": [
        {
          "output_type": "stream",
          "name": "stdout",
          "text": [
            "5\n",
            "7\n"
          ]
        }
      ]
    },
    {
      "cell_type": "markdown",
      "source": [
        "Mutable Data Types\n",
        "Mutable data types can be modified after creation.\n",
        "\n",
        "Lists: Ordered collections of objects.\n",
        "Dictionaries: Unordered collections of key-value pairs.\n",
        "Sets: Unordered collections of unique objects."
      ],
      "metadata": {
        "id": "oVB2dWBciBL1"
      }
    },
    {
      "cell_type": "code",
      "source": [
        "my_list = [1, 2, 3]\n",
        "my_list.append(4)  # Modifies the list in-place\n",
        "print(my_list)  # Output: [1, 2, 3, 4]\n"
      ],
      "metadata": {
        "colab": {
          "base_uri": "https://localhost:8080/"
        },
        "id": "tPxOC8xliD2L",
        "outputId": "c6c2d9f1-5ddf-4e2b-db45-70f11a46b5b0"
      },
      "execution_count": null,
      "outputs": [
        {
          "output_type": "stream",
          "name": "stdout",
          "text": [
            "[1, 2, 3, 4]\n"
          ]
        }
      ]
    },
    {
      "cell_type": "markdown",
      "source": [
        "• What is __init__?Explain with an example.\n"
      ],
      "metadata": {
        "id": "pXiQOYvZuBuf"
      }
    },
    {
      "cell_type": "markdown",
      "source": [
        "__init__ is a special method in Python that is automatically called when an object of a class is created. It's often referred to as the constructor of the class. Its primary purpose is to initialize the attributes (properties) of the object."
      ],
      "metadata": {
        "id": "V0i-qpwZuEC1"
      }
    },
    {
      "cell_type": "code",
      "source": [
        "class Dog:\n",
        "  def __init__(self, name, breed):\n",
        "    self.name = name\n",
        "    self.breed = breed\n",
        "\n",
        "# Creating objects\n",
        "dog1 = Dog(\"Buddy\", \"Golden Retriever\")\n",
        "dog2 = Dog(\"Max\", \"Labrador\")\n"
      ],
      "metadata": {
        "id": "hiJ3QzN1uN6C"
      },
      "execution_count": null,
      "outputs": []
    },
    {
      "cell_type": "markdown",
      "source": [
        "• What is docstring in Python?Explain with an example.\n"
      ],
      "metadata": {
        "id": "yU8K_2RUuP9q"
      }
    },
    {
      "cell_type": "markdown",
      "source": [
        "A docstring is a string literal that occurs as the first statement in a module, function, class, or method definition. It provides a concise description of what the code does.\n",
        "\n"
      ],
      "metadata": {
        "id": "d7snUMaatmsA"
      }
    },
    {
      "cell_type": "code",
      "source": [
        "def my_function(x, y):\n",
        "  \"\"\"\n",
        "  This function adds two numbers.\n",
        "\n",
        "  Args:\n",
        "    x: The first number.\n",
        "    y: The second number.\n",
        "\n",
        "  Returns:\n",
        "    The sum of x and y.\n",
        "  \"\"\"\n",
        "  return x + y\n",
        "\n",
        "help(my_function)\n"
      ],
      "metadata": {
        "id": "fd4RFBcVuVyH",
        "colab": {
          "base_uri": "https://localhost:8080/"
        },
        "outputId": "f9b677a7-7769-4798-ab06-b0684c05e1cf"
      },
      "execution_count": null,
      "outputs": [
        {
          "output_type": "stream",
          "name": "stdout",
          "text": [
            "Help on function my_function in module __main__:\n",
            "\n",
            "my_function(x, y)\n",
            "    This function adds two numbers.\n",
            "    \n",
            "    Args:\n",
            "      x: The first number.\n",
            "      y: The second number.\n",
            "    \n",
            "    Returns:\n",
            "      The sum of x and y.\n",
            "\n"
          ]
        }
      ]
    },
    {
      "cell_type": "markdown",
      "source": [
        "• What are unit tests in Python?\n"
      ],
      "metadata": {
        "id": "c19c4wbLu4v-"
      }
    },
    {
      "cell_type": "markdown",
      "source": [
        "Unit tests are individual test cases that verify the correctness of a specific unit of code, typically a function or a method. They are a crucial part of software development as they help ensure code quality and reliability."
      ],
      "metadata": {
        "id": "Q8TDZh8Ou9TU"
      }
    },
    {
      "cell_type": "code",
      "source": [
        "import unittest\n",
        "\n",
        "def add(x, y):\n",
        "    return x + y\n",
        "\n",
        "class TestAdd(unittest.TestCase):\n",
        "    def test_add_positive(self):\n",
        "        self.assertEqual(add(2, 3), 5)\n",
        "\n",
        "    def test_add_negative(self):\n",
        "        self.assertEqual(add(-2, -3), -5)\n",
        "\n",
        "if __name__ == '__main__':\n",
        "    unittest.main(argv=['first-arg-is-ignored'], exit=False)\n",
        "\n"
      ],
      "metadata": {
        "id": "QwqV4-Udu382",
        "colab": {
          "base_uri": "https://localhost:8080/"
        },
        "outputId": "69007649-9805-4a2d-9611-5a1b1f1e040d"
      },
      "execution_count": null,
      "outputs": [
        {
          "output_type": "stream",
          "name": "stderr",
          "text": [
            "..\n",
            "----------------------------------------------------------------------\n",
            "Ran 2 tests in 0.008s\n",
            "\n",
            "OK\n"
          ]
        }
      ]
    },
    {
      "cell_type": "markdown",
      "source": [
        "• What is break, continue and pass in Python?\n"
      ],
      "metadata": {
        "id": "csb2jiBbwjCT"
      }
    },
    {
      "cell_type": "markdown",
      "source": [
        "The break statement is used to terminate the current loop prematurely. Once the break statement is executed, the control flow jumps to the statement immediately after the loop.\n",
        "\n"
      ],
      "metadata": {
        "id": "z-E0WOl_ws1s"
      }
    },
    {
      "cell_type": "code",
      "source": [
        "for i in range(10):\n",
        "    if i == 5:\n",
        "        break\n",
        "    print(i)\n"
      ],
      "metadata": {
        "id": "mnR2q916wiZW",
        "colab": {
          "base_uri": "https://localhost:8080/"
        },
        "outputId": "ae1e5af0-064a-4fd4-d0ad-b87ec9b9290c"
      },
      "execution_count": null,
      "outputs": [
        {
          "output_type": "stream",
          "name": "stdout",
          "text": [
            "0\n",
            "1\n",
            "2\n",
            "3\n",
            "4\n"
          ]
        }
      ]
    },
    {
      "cell_type": "markdown",
      "source": [
        "The continue statement skips the rest of the current iteration of a loop and jumps to the next iteration."
      ],
      "metadata": {
        "id": "BRGi1kWrwyC5"
      }
    },
    {
      "cell_type": "code",
      "source": [
        "for i in range(5):\n",
        "    if i == 2:\n",
        "        continue\n",
        "    print(i)\n"
      ],
      "metadata": {
        "id": "cffdwVPEwz-V",
        "colab": {
          "base_uri": "https://localhost:8080/"
        },
        "outputId": "91b0a5c0-1fd0-4aba-9986-436f4b32a1d0"
      },
      "execution_count": null,
      "outputs": [
        {
          "output_type": "stream",
          "name": "stdout",
          "text": [
            "0\n",
            "1\n",
            "3\n",
            "4\n"
          ]
        }
      ]
    },
    {
      "cell_type": "markdown",
      "source": [
        "The pass statement is a null operation. It does nothing. It is often used as a placeholder when a statement is syntactically required but no action is needed.\n",
        "\n"
      ],
      "metadata": {
        "id": "v47RHolAw1Wm"
      }
    },
    {
      "cell_type": "code",
      "source": [
        "def function():\n",
        "    pass  # Placeholder for future implementation\n"
      ],
      "metadata": {
        "id": "a3h7bjNXw5bC"
      },
      "execution_count": null,
      "outputs": []
    },
    {
      "cell_type": "markdown",
      "source": [
        "• What is the use of self in Python?\n"
      ],
      "metadata": {
        "id": "JWCeSZzLw4xt"
      }
    },
    {
      "cell_type": "markdown",
      "source": [
        "self in Python is a special keyword used to refer to the instance of a class. It's passed implicitly to instance methods when they are called.\n",
        "\n"
      ],
      "metadata": {
        "id": "1bwYR7VMxHy_"
      }
    },
    {
      "cell_type": "code",
      "source": [
        "class Dog:\n",
        "    def __init__(self, name, breed):\n",
        "        self.name = name\n",
        "        self.breed = breed\n",
        "\n",
        "    def bark(self):\n",
        "        print(f\"{self.name} says woof!\")\n",
        "\n",
        "# Create two dog objects\n",
        "dog1 = Dog(\"Buddy\", \"Golden Retriever\")\n",
        "dog2 = Dog(\"Max\", \"Labrador\")\n",
        "\n",
        "# Accessing attributes and calling methods\n",
        "print(dog1.name)  # Output: Buddy\n",
        "dog1.bark()      # Output: Buddy says woof!\n"
      ],
      "metadata": {
        "id": "gwgnrHJWxKbc",
        "colab": {
          "base_uri": "https://localhost:8080/"
        },
        "outputId": "c9aee734-ed11-4c65-ba68-5dbd6104a903"
      },
      "execution_count": null,
      "outputs": [
        {
          "output_type": "stream",
          "name": "stdout",
          "text": [
            "Buddy\n",
            "Buddy says woof!\n"
          ]
        }
      ]
    },
    {
      "cell_type": "markdown",
      "source": [
        "• What are global, protected and private attributes in Python?\n"
      ],
      "metadata": {
        "id": "2XkVOB76xeu0"
      }
    },
    {
      "cell_type": "markdown",
      "source": [
        "Global Attributes\n",
        "1. Defined outside of any class.\n",
        "2. Accessible from anywhere in the code."
      ],
      "metadata": {
        "id": "N0gYp4SpxhGc"
      }
    },
    {
      "cell_type": "code",
      "source": [
        "global_var = \"I am a global variable\"\n",
        "\n",
        "class MyClass:\n",
        "    def __init__(self):\n",
        "        print(global_var)  # Accessing global variable\n"
      ],
      "metadata": {
        "id": "Id_Fo_QFxpE0"
      },
      "execution_count": null,
      "outputs": []
    },
    {
      "cell_type": "markdown",
      "source": [
        "Protected Attributes\n",
        "1. Denoted by a single underscore (_) prefix.\n",
        "2. Conventionally meant to be accessed only within the class and its subclasses.\n",
        "3. Not enforced strictly, but it's a strong convention to follow."
      ],
      "metadata": {
        "id": "10O0RuUJxseg"
      }
    },
    {
      "cell_type": "code",
      "source": [
        "class MyClass:\n",
        "    def __init__(self):\n",
        "        self._protected_var = \"I am a protected attribute\"\n",
        "\n",
        "class SubClass(MyClass):\n",
        "    def access_protected(self):\n",
        "        print(self._protected_var)  # Accessing protected attribute from subclass\n",
        "\n",
        "# Accessing protected attribute directly from outside the class (not recommended)\n",
        "obj = MyClass()\n",
        "print(obj._protected_var)  # This works, but it's not ideal\n"
      ],
      "metadata": {
        "id": "bu8PcO5hxyIJ",
        "colab": {
          "base_uri": "https://localhost:8080/"
        },
        "outputId": "95aba332-d698-44be-9554-a954563b693b"
      },
      "execution_count": null,
      "outputs": [
        {
          "output_type": "stream",
          "name": "stdout",
          "text": [
            "I am a protected attribute\n"
          ]
        }
      ]
    },
    {
      "cell_type": "markdown",
      "source": [
        "Private Attributes\n",
        "1. Denoted by a double underscore (__) prefix.\n",
        "2. Intended to be accessed only within the class.\n",
        "3. Python uses name mangling to obscure the attribute name, making it harder to access from outside."
      ],
      "metadata": {
        "id": "NZvCwEVpx4Oo"
      }
    },
    {
      "cell_type": "code",
      "source": [
        "class MyClass:\n",
        "    def __init__(self):\n",
        "        self.__private_var = \"I am a private attribute\"\n",
        "\n",
        "# Accessing private attribute from outside the class\n",
        "obj = MyClass()\n",
        "# print(obj.__private_var)  # This will raise an AttributeError\n"
      ],
      "metadata": {
        "id": "TouAtYtvx40R"
      },
      "execution_count": null,
      "outputs": []
    },
    {
      "cell_type": "markdown",
      "source": [
        "• What are modules and packages in Python?\n"
      ],
      "metadata": {
        "id": "qgnJ9eM8y8sv"
      }
    },
    {
      "cell_type": "markdown",
      "source": [
        "Modules\n",
        "A module in Python is essentially a single Python file containing definitions and statements. It can include functions, classes, and variables. Think of it as a toolbox with specific tools (functions, classes) for a particular task."
      ],
      "metadata": {
        "id": "UGlq646ny_vA"
      }
    },
    {
      "cell_type": "code",
      "source": [
        "# module_name.py\n",
        "def greet(name):\n",
        "    print(f\"Hello, {name}!\")\n",
        "\n",
        "def add(x, y):\n",
        "    return x + y\n"
      ],
      "metadata": {
        "id": "fhD32ElXzLr9"
      },
      "execution_count": null,
      "outputs": []
    },
    {
      "cell_type": "markdown",
      "source": [
        "Packages\n",
        "A package is a way of structuring Python modules by using dot notation in module names. It's essentially a directory containing multiple modules along with an __init__.py file. This file indicates that the directory is a Python package."
      ],
      "metadata": {
        "id": "KgJr6hXszMZt"
      }
    },
    {
      "cell_type": "code",
      "source": [
        "import matplotlib.pyplot as plt\n",
        "from scipy import stats\n"
      ],
      "metadata": {
        "id": "D74Ko06VzQiL"
      },
      "execution_count": null,
      "outputs": []
    },
    {
      "cell_type": "markdown",
      "source": [
        "• What are lists and tuples? What is the key difference between the two?\n"
      ],
      "metadata": {
        "id": "TfiMX5URz7hA"
      }
    },
    {
      "cell_type": "markdown",
      "source": [
        "Lists\n",
        "Mutable: Lists are mutable, which means their contents can be changed after creation. You can add, remove, or modify elements.\n",
        "Ordered: Elements in a list have a specific order, and their position can be accessed using an index.\n",
        "Syntax: Defined using square brackets []."
      ],
      "metadata": {
        "id": "Sz3AuDuB0CM9"
      }
    },
    {
      "cell_type": "code",
      "source": [
        "my_list = [1, 2, 3, \"apple\", \"banana\"]\n",
        "my_list.append(4)  # Adding an element\n",
        "print(my_list)  # Output: [1, 2, 3, 'apple', 'banana', 4]\n"
      ],
      "metadata": {
        "id": "sBy-8g8c0HEJ",
        "colab": {
          "base_uri": "https://localhost:8080/"
        },
        "outputId": "1cab83ff-e040-453c-cd72-776c30219e05"
      },
      "execution_count": null,
      "outputs": [
        {
          "output_type": "stream",
          "name": "stdout",
          "text": [
            "[1, 2, 3, 'apple', 'banana', 4]\n"
          ]
        }
      ]
    },
    {
      "cell_type": "markdown",
      "source": [
        "Tuples\n",
        "Immutable: Tuples are immutable, meaning their contents cannot be changed after creation. Once a tuple is created, its elements are fixed.\n",
        "Ordered: Like lists, tuples maintain the order of their elements.\n",
        "Syntax: Defined using parentheses ()."
      ],
      "metadata": {
        "id": "L1VS4Vqr0E3B"
      }
    },
    {
      "cell_type": "code",
      "source": [
        "my_tuple = (1, 2, 3, \"apple\", \"banana\")\n",
        "# my_tuple.append(4)  # This will raise an error as tuples are immutable\n",
        "print(my_tuple)  # Output: (1, 2, 3, 'apple', 'banana')\n"
      ],
      "metadata": {
        "id": "EmA1xjlz0RUq",
        "colab": {
          "base_uri": "https://localhost:8080/"
        },
        "outputId": "a82edf08-85e0-4818-fb25-2de20bbaad50"
      },
      "execution_count": null,
      "outputs": [
        {
          "output_type": "stream",
          "name": "stdout",
          "text": [
            "(1, 2, 3, 'apple', 'banana')\n"
          ]
        }
      ]
    },
    {
      "cell_type": "markdown",
      "source": [
        "• What is an Interpreted language & dynamically typed language?Write 5 differences between them.\n"
      ],
      "metadata": {
        "id": "ss8kGmBBAkfU"
      }
    },
    {
      "cell_type": "markdown",
      "source": [
        "Interpreted Languages\n",
        "An interpreted language is one where the code is executed directly by an interpreter, line by line, without first being compiled into machine code. This means the code is translated into machine code at runtime.\n",
        "\n",
        "Key characteristics:\n",
        "\n",
        "1. No compilation: Code is executed directly without a separate compilation step.\n",
        "2. Slower execution: Typically slower than compiled languages due to the line-by-line interpretation.\n",
        "3. Platform independence: Interpreted code can often run on different platforms without recompilation.\n",
        "4. Easier debugging: Errors are often easier to find and fix as the code is executed line by line.\n",
        "5. Error Handling: Easier to debug due to line-by-line execution\n",
        "\n",
        "Dynamically Typed Languages\n",
        "In a dynamically typed language, the data type of a variable is determined at runtime rather than being declared beforehand. This provides flexibility in code development but requires careful attention to data types.\n",
        "\n",
        "Key characteristics:\n",
        "\n",
        "1. No type declaration: Variables can hold values of any data type.\n",
        "2. Type checking at runtime: The interpreter checks data types during execution.\n",
        "3. Flexibility: Easier to write code quickly and make changes.\n",
        "4. Potential for runtime errors: Type-related errors might occur if not handled carefully.\n",
        "Examples: Python, Ruby, JavaScript\n",
        "5. Error Handling: Potential for runtime type errors\n"
      ],
      "metadata": {
        "id": "DKFSqh1IApD-"
      }
    },
    {
      "cell_type": "markdown",
      "source": [
        "• What are Dict and List comprehensions?\n"
      ],
      "metadata": {
        "id": "Jj5gG64yBAfO"
      }
    },
    {
      "cell_type": "markdown",
      "source": [
        "List Comprehensions\n",
        "\n",
        "List comprehensions offer a concise way to create lists in Python. They provide a more readable and efficient alternative to traditional for loops when constructing lists.\n"
      ],
      "metadata": {
        "id": "8Z3ZqhxFC2zI"
      }
    },
    {
      "cell_type": "code",
      "source": [
        "numbers = [1, 2, 3, 4, 5]\n",
        "squared_numbers = [x**2 for x in numbers]  # [1, 4, 9, 16, 25]\n",
        "even_numbers = [x for x in numbers if x % 2 == 0]  # [2, 4]\n",
        "print(even_numbers)"
      ],
      "metadata": {
        "colab": {
          "base_uri": "https://localhost:8080/"
        },
        "id": "6bydWpPEDNGK",
        "outputId": "a1dbd0ba-a8aa-4f4a-9c8c-84dee5019ca4"
      },
      "execution_count": null,
      "outputs": [
        {
          "output_type": "stream",
          "name": "stdout",
          "text": [
            "[2, 4]\n"
          ]
        }
      ]
    },
    {
      "cell_type": "markdown",
      "source": [
        "\n",
        "Dictionary Comprehensions\n",
        "\n",
        "Similar to list comprehensions, dictionary comprehensions provide a concise way to create dictionaries. They allow you to create key-value pairs efficiently."
      ],
      "metadata": {
        "id": "xAZXX1eMDNr6"
      }
    },
    {
      "cell_type": "code",
      "source": [
        "numbers = [1, 2, 3, 4]\n",
        "squares = {num: num**2 for num in numbers}  # {1: 1, 2: 4, 3: 9, 4: 16}\n"
      ],
      "metadata": {
        "id": "l0R5lrMpDX7M"
      },
      "execution_count": null,
      "outputs": []
    },
    {
      "cell_type": "markdown",
      "source": [
        "• What are decorators in Python? Explain it with an example.Write down its use cases.\n"
      ],
      "metadata": {
        "id": "gRs-MX6PDBaM"
      }
    },
    {
      "cell_type": "markdown",
      "source": [
        "\n",
        "Decorators in Python\n",
        "Decorators are a powerful feature in Python that allow you to modify the behavior of functions or classes without changing their source code. They are essentially functions that take another function as an argument, extend its behavior, and return a new function."
      ],
      "metadata": {
        "id": "VxgUHqHlDhRL"
      }
    },
    {
      "cell_type": "code",
      "source": [
        "import time\n",
        "\n",
        "def timer(func):\n",
        "    def wrapper(*args, **kwargs):\n",
        "        start_time = time.time()\n",
        "        result = func(*args, **kwargs)\n",
        "        end_time = time.time()\n",
        "        print(f\"Function {func.__name__} took {end_time - start_time:.4f} seconds to run\")\n",
        "        return result\n",
        "    return wrapper\n",
        "\n",
        "@timer\n",
        "def my_function(x):\n",
        "    # Simulate some work\n",
        "    time.sleep(2)\n",
        "    return x * 2\n",
        "\n",
        "result = my_function(5)\n",
        "print(result)\n"
      ],
      "metadata": {
        "colab": {
          "base_uri": "https://localhost:8080/"
        },
        "id": "CLuncNQeDjfX",
        "outputId": "7d0380d1-4ca2-4c90-cd2d-f6583860271b"
      },
      "execution_count": null,
      "outputs": [
        {
          "output_type": "stream",
          "name": "stdout",
          "text": [
            "Function my_function took 2.0022 seconds to run\n",
            "10\n"
          ]
        }
      ]
    },
    {
      "cell_type": "markdown",
      "source": [
        "Use Cases:\n",
        "\n",
        "Logging: Record function calls, arguments, and return values.\n",
        "Timing: Measure the execution time of functions.\n",
        "Authentication: Check user credentials before allowing function execution.\n",
        "Caching: Store function results to avoid redundant calculations.\n",
        "Error handling: Implement custom error handling logic."
      ],
      "metadata": {
        "id": "gaZbPe4qD6Hq"
      }
    },
    {
      "cell_type": "markdown",
      "source": [
        "• How is memory managed in Python?\n"
      ],
      "metadata": {
        "id": "fckg6y5BD60S"
      }
    },
    {
      "cell_type": "markdown",
      "source": [
        "Python employs a garbage collector to handle memory management automatically. This means you don't need to manually allocate or deallocate memory like in languages like C or C++."
      ],
      "metadata": {
        "id": "Ne5XwnRyEKBZ"
      }
    },
    {
      "cell_type": "markdown",
      "source": [
        "Private Heap: Python uses a private heap to store objects and data structures. This heap is managed internally by the Python interpreter.\n",
        "Reference Counting: Python keeps track of the number of references pointing to an object. When the reference count reaches zero, the object is considered garbage and is deallocated by the garbage collector.\n",
        "Garbage Collector: This mechanism automatically identifies and reclaims memory occupied by unused objects. It runs periodically or when the memory is low."
      ],
      "metadata": {
        "id": "ShPvFC44EPU-"
      }
    },
    {
      "cell_type": "code",
      "source": [
        "import sys\n",
        "\n",
        "x = [1, 2, 3]  # Object created, reference count increased\n",
        "y = x          # Reference count increased again\n",
        "del x          # Reference count decreased\n",
        "del y          # Reference count decreased to 0, object is garbage collected\n"
      ],
      "metadata": {
        "id": "qYEf3EH6EmuP"
      },
      "execution_count": null,
      "outputs": []
    },
    {
      "cell_type": "markdown",
      "source": [
        "• What is lambda in Python? Why is it used?\n"
      ],
      "metadata": {
        "id": "jKmnDQbsEp-e"
      }
    },
    {
      "cell_type": "markdown",
      "source": [
        "A lambda function is a small, anonymous function in Python. It can take any number of arguments, but it can only have one expression. Lambda functions are often used for short, simple operations.\n",
        "\n"
      ],
      "metadata": {
        "id": "kEPMxwHXEtO5"
      }
    },
    {
      "cell_type": "code",
      "source": [
        "numbers = [1, 2, 3, 4, 5]\n",
        "squared_numbers = list(map(lambda x: x**2, numbers))\n",
        "print(squared_numbers)  # Output: [1, 4, 9, 16, 25]\n"
      ],
      "metadata": {
        "colab": {
          "base_uri": "https://localhost:8080/"
        },
        "id": "kwrCmWPQE2WG",
        "outputId": "8a7e0076-8ede-4f9a-e61f-f8c4db586ec2"
      },
      "execution_count": null,
      "outputs": [
        {
          "output_type": "stream",
          "name": "stdout",
          "text": [
            "[1, 4, 9, 16, 25]\n"
          ]
        }
      ]
    },
    {
      "cell_type": "markdown",
      "source": [
        "Explain split() and join() functions in Python?\n"
      ],
      "metadata": {
        "id": "pTHAxH41E5Gh"
      }
    },
    {
      "cell_type": "markdown",
      "source": [
        "The split() method in Python is used to break a string into a list of substrings based on a specified delimiter."
      ],
      "metadata": {
        "id": "xnZuSNWiFCgK"
      }
    },
    {
      "cell_type": "code",
      "source": [
        "text = \"This is a sample string\"\n",
        "words = text.split()  # Splits on whitespace by default\n",
        "print(words)  # Output: ['This', 'is', 'a', 'sample', 'string']\n"
      ],
      "metadata": {
        "colab": {
          "base_uri": "https://localhost:8080/"
        },
        "id": "7TgzDwVVFDoY",
        "outputId": "106364c3-4aac-478c-c9cd-e9495d3204b2"
      },
      "execution_count": null,
      "outputs": [
        {
          "output_type": "stream",
          "name": "stdout",
          "text": [
            "['This', 'is', 'a', 'sample', 'string']\n"
          ]
        }
      ]
    },
    {
      "cell_type": "markdown",
      "source": [
        "The join() method is used to concatenate elements of an iterable (like a list or tuple) into a single string using a specified separator.\n",
        "\n"
      ],
      "metadata": {
        "id": "1WhTgpQtFFQ5"
      }
    },
    {
      "cell_type": "code",
      "source": [
        "words = ['hello', 'world']\n",
        "joined_string = ' '.join(words)\n",
        "print(joined_string)  # Output: hello world\n"
      ],
      "metadata": {
        "colab": {
          "base_uri": "https://localhost:8080/"
        },
        "id": "rokbCJZIFIeo",
        "outputId": "dd9bf8fb-bce0-41ff-b764-b26d8d0ada6c"
      },
      "execution_count": null,
      "outputs": [
        {
          "output_type": "stream",
          "name": "stdout",
          "text": [
            "hello world\n"
          ]
        }
      ]
    },
    {
      "cell_type": "markdown",
      "source": [
        "• What are iterators, iterable & generators in Python?\n"
      ],
      "metadata": {
        "id": "VxYnZnYIFVH6"
      }
    },
    {
      "cell_type": "markdown",
      "source": [
        "Iterables\n",
        "An iterable is any object that can be iterated over. This means you can use a for loop to go through its elements one by one. Examples of iterables include lists, tuples, strings, dictionaries, and sets."
      ],
      "metadata": {
        "id": "Or-BaplnFWK_"
      }
    },
    {
      "cell_type": "code",
      "source": [
        "my_list = [1, 2, 3]\n",
        "for num in my_list:\n",
        "    print(num)\n"
      ],
      "metadata": {
        "colab": {
          "base_uri": "https://localhost:8080/"
        },
        "id": "rmQ071ycFZ01",
        "outputId": "a8a0f5dc-5c3a-487e-e1c8-1f6b2dadc4f8"
      },
      "execution_count": null,
      "outputs": [
        {
          "output_type": "stream",
          "name": "stdout",
          "text": [
            "1\n",
            "2\n",
            "3\n"
          ]
        }
      ]
    },
    {
      "cell_type": "markdown",
      "source": [
        "Iterators\n",
        "An iterator is an object that implements the iterator protocol. It has two methods:"
      ],
      "metadata": {
        "id": "0S3nk0jpFbdp"
      }
    },
    {
      "cell_type": "code",
      "source": [
        "my_list = [1, 2, 3]\n",
        "my_iterator = iter(my_list)\n",
        "\n",
        "print(next(my_iterator))  # Output: 1\n",
        "print(next(my_iterator))  # Output: 2\n",
        "print(next(my_iterator))  # Output: 3\n",
        "# print(next(my_iterator))  # Raises StopIteration\n"
      ],
      "metadata": {
        "colab": {
          "base_uri": "https://localhost:8080/"
        },
        "id": "VuFb4SmhFeBq",
        "outputId": "fab6125f-14f9-4288-90d5-1960946a1c48"
      },
      "execution_count": null,
      "outputs": [
        {
          "output_type": "stream",
          "name": "stdout",
          "text": [
            "1\n",
            "2\n",
            "3\n"
          ]
        }
      ]
    },
    {
      "cell_type": "markdown",
      "source": [
        "Generators\n",
        "Generators are a special type of iterator created using the yield keyword. They provide a convenient way to implement custom iterators."
      ],
      "metadata": {
        "id": "p27-Nk9vFn4x"
      }
    },
    {
      "cell_type": "code",
      "source": [
        "def my_generator():\n",
        "    yield 1\n",
        "    yield 2\n",
        "    yield 3\n",
        "\n",
        "for num in my_generator():\n",
        "    print(num)\n"
      ],
      "metadata": {
        "colab": {
          "base_uri": "https://localhost:8080/"
        },
        "id": "EQ6eb-hVFpHt",
        "outputId": "2c220926-91a3-4292-a0fd-8b3d7c598354"
      },
      "execution_count": null,
      "outputs": [
        {
          "output_type": "stream",
          "name": "stdout",
          "text": [
            "1\n",
            "2\n",
            "3\n"
          ]
        }
      ]
    },
    {
      "cell_type": "markdown",
      "source": [
        "• What is the difference between xrange and range in Python?\n"
      ],
      "metadata": {
        "id": "useDdNcOFwPt"
      }
    },
    {
      "cell_type": "markdown",
      "source": [
        "xrange: Returned a generator object. It generated numbers on-the-fly as needed, saving memory, especially for large ranges.\n",
        "\n",
        "range: Returned a list of all numbers in the specified range, consuming more memory."
      ],
      "metadata": {
        "id": "1XRUE4CmFy9f"
      }
    },
    {
      "cell_type": "code",
      "source": [
        "# Python 2\n",
        "# for i in xrange(1000000):  # More efficient for large ranges\n",
        "#     pass\n",
        "\n",
        "# Python 3\n",
        "for i in range(1000000):  # Equivalent to xrange in Python 2\n",
        "    pass\n"
      ],
      "metadata": {
        "id": "55JhC2ghGCUh"
      },
      "execution_count": null,
      "outputs": []
    },
    {
      "cell_type": "markdown",
      "source": [
        "• Pillars of Oops.\n"
      ],
      "metadata": {
        "id": "VRMPeM1FGpuH"
      }
    },
    {
      "cell_type": "markdown",
      "source": [
        "\n",
        "1. Encapsulation\n",
        "Encapsulation is the bundling of data (attributes) and methods that operate on that data within a single unit (an object). This concept protects the data from accidental modification and misuse."
      ],
      "metadata": {
        "id": "MQpf-b4dccq-"
      }
    },
    {
      "cell_type": "code",
      "source": [
        "class Car:\n",
        "    def __init__(self, color, make, model):\n",
        "        self.__color = color  # Encapsulating color as a private attribute\n",
        "        self.make = make\n",
        "        self.model = model\n",
        "\n",
        "    def get_color(self):\n",
        "        return self.__color\n",
        "\n",
        "    def set_color(self, color):\n",
        "        self.__color = color\n",
        "\n",
        "# Create a car object\n",
        "my_car = Car(\"Red\", \"Toyota\", \"Camry\")\n",
        "print(my_car.get_color())  # Accessing color through getter method\n",
        "my_car.set_color(\"Blue\")  # Modifying color through setter method\n"
      ],
      "metadata": {
        "id": "_ONp4kVbGqdO",
        "colab": {
          "base_uri": "https://localhost:8080/"
        },
        "outputId": "7bc4a200-a454-4e50-8278-24e47493fdc1"
      },
      "execution_count": null,
      "outputs": [
        {
          "output_type": "stream",
          "name": "stdout",
          "text": [
            "Red\n"
          ]
        }
      ]
    },
    {
      "cell_type": "markdown",
      "source": [
        "2. Inheritance\n",
        "Inheritance is the mechanism by which one class (the subclass or child class) inherits the attributes and methods of another class (the superclass or parent class). This promotes code reusability and creates hierarchical relationships between classes."
      ],
      "metadata": {
        "id": "PjRUvclbcg-_"
      }
    },
    {
      "cell_type": "code",
      "source": [
        "class Animal:\n",
        "    def __init__(self, name):\n",
        "        self.name = name\n",
        "\n",
        "    def make_sound(self):\n",
        "        print(\"Generic animal sound\")\n",
        "\n",
        "class Dog(Animal):\n",
        "    def __init__(self, name, breed):\n",
        "        super().__init__(name)\n",
        "        self.breed = breed\n",
        "\n",
        "    def make_sound(self):\n",
        "        print(f\"{self.name} barks!\")\n",
        "\n",
        "# Create objects\n",
        "animal = Animal(\"Generic Animal\")\n",
        "dog = Dog(\"Buddy\", \"Golden Retriever\")\n",
        "\n",
        "animal.make_sound()  # Output: Generic animal sound\n",
        "dog.make_sound()  # Output: Buddy barks!\n"
      ],
      "metadata": {
        "colab": {
          "base_uri": "https://localhost:8080/"
        },
        "id": "CXJGizKFcpFK",
        "outputId": "ff0a58bb-120d-4939-9899-faabdecf60ed"
      },
      "execution_count": null,
      "outputs": [
        {
          "output_type": "stream",
          "name": "stdout",
          "text": [
            "Generic animal sound\n",
            "Buddy barks!\n"
          ]
        }
      ]
    },
    {
      "cell_type": "markdown",
      "source": [
        "3. Polymorphism\n",
        "Polymorphism allows objects of different types to be treated as if they were of the same type. It enables you to write code that can work with objects of different classes in a uniform way."
      ],
      "metadata": {
        "id": "nygFm8oDckOn"
      }
    },
    {
      "cell_type": "code",
      "source": [
        "class Animal:\n",
        "    def make_sound(self):\n",
        "        pass\n",
        "\n",
        "class Dog(Animal):\n",
        "    def make_sound(self):\n",
        "        print(\"Woof!\")\n",
        "\n",
        "class Cat(Animal):\n",
        "    def make_sound(self):\n",
        "        print(\"Meow!\")\n",
        "\n",
        "def animal_sound(animal):\n",
        "    animal.make_sound()\n",
        "\n",
        "# Create objects\n",
        "dog = Dog()\n",
        "cat = Cat()\n",
        "\n",
        "animal_sound(dog)  # Output: Woof!\n",
        "animal_sound(cat)  # Output: Meow!\n"
      ],
      "metadata": {
        "colab": {
          "base_uri": "https://localhost:8080/"
        },
        "id": "xVJOOOGicrMA",
        "outputId": "c1b50ec0-f0e6-4c4c-a5a5-409523ed9352"
      },
      "execution_count": null,
      "outputs": [
        {
          "output_type": "stream",
          "name": "stdout",
          "text": [
            "Woof!\n",
            "Meow!\n"
          ]
        }
      ]
    },
    {
      "cell_type": "markdown",
      "source": [
        "4. Abstraction\n",
        "Abstraction focuses on the essential features of an object, hiding unnecessary details. It simplifies complex systems by providing a higher-level view."
      ],
      "metadata": {
        "id": "LTwLA8gBcl0T"
      }
    },
    {
      "cell_type": "code",
      "source": [
        "class Car:\n",
        "    def start(self):\n",
        "        print(\"Car started\")\n",
        "\n",
        "    def accelerate(self):\n",
        "        print(\"Car accelerating\")\n",
        "\n",
        "    def stop(self):\n",
        "        print(\"Car stopped\")\n",
        "\n",
        "# Using the car object without knowing internal details\n",
        "my_car = Car()\n",
        "my_car.start()\n",
        "my_car.accelerate()\n",
        "my_car.stop()\n"
      ],
      "metadata": {
        "colab": {
          "base_uri": "https://localhost:8080/"
        },
        "id": "gIAM9md4cs-l",
        "outputId": "13ea65e5-f020-4652-95e3-e46598fc5c90"
      },
      "execution_count": null,
      "outputs": [
        {
          "output_type": "stream",
          "name": "stdout",
          "text": [
            "Car started\n",
            "Car accelerating\n",
            "Car stopped\n"
          ]
        }
      ]
    },
    {
      "cell_type": "markdown",
      "source": [
        "• How will you check if a class is a child of another class?\n"
      ],
      "metadata": {
        "id": "h0158APjczhP"
      }
    },
    {
      "cell_type": "markdown",
      "source": [
        "In Python, you can determine if a class is a subclass of another class using the issubclass() function.\n",
        "\n"
      ],
      "metadata": {
        "id": "1inp9r0Dc9v_"
      }
    },
    {
      "cell_type": "code",
      "source": [
        "class Animal:\n",
        "    pass\n",
        "\n",
        "class Dog(Animal):\n",
        "    pass\n",
        "\n",
        "class Cat(Animal):\n",
        "    pass\n",
        "\n",
        "class GoldenRetriever(Dog):\n",
        "    pass\n",
        "\n",
        "print(issubclass(Dog, Animal))  # Output: True\n",
        "print(issubclass(Cat, Animal))  # Output: True\n",
        "print(issubclass(GoldenRetriever, Dog))  # Output: True\n",
        "print(issubclass(Dog, Cat))  # Output: False\n"
      ],
      "metadata": {
        "colab": {
          "base_uri": "https://localhost:8080/"
        },
        "id": "ThSqFwcUc26C",
        "outputId": "0fd1d1b4-c4e0-452b-c17b-01a516c2093e"
      },
      "execution_count": null,
      "outputs": [
        {
          "output_type": "stream",
          "name": "stdout",
          "text": [
            "True\n",
            "True\n",
            "True\n",
            "False\n"
          ]
        }
      ]
    },
    {
      "cell_type": "markdown",
      "source": [
        "• How does inheritance work in python? Explain all types of inheritance with an example.\n"
      ],
      "metadata": {
        "id": "1G0dU8mac7Nd"
      }
    },
    {
      "cell_type": "markdown",
      "source": [
        "Inheritance is a core concept in object-oriented programming (OOP) that allows you to create new classes (subclasses) that inherit properties and methods from existing classes (superclasses or parent classes). This promotes code reusability and hierarchical organization of classes.\n",
        "\n"
      ],
      "metadata": {
        "id": "il7T0bIzdBl1"
      }
    },
    {
      "cell_type": "code",
      "source": [
        "#1. Single Inheritance\n",
        "# A subclass inherits from only one parent class.\n",
        "\n",
        "\n",
        "class Animal:\n",
        "    def __init__(self, name):\n",
        "        self.name = name\n",
        "\n",
        "    def speak(self):\n",
        "        print(\"Animal sound\")\n",
        "\n",
        "class Dog(Animal):\n",
        "    def __init__(self, name, breed):\n",
        "        super().__init__(name)\n",
        "        self.breed = breed\n",
        "\n",
        "    def speak(self):\n",
        "        print(\"Woof!\")\n"
      ],
      "metadata": {
        "id": "cRYIDRjAd4Wr"
      },
      "execution_count": null,
      "outputs": []
    },
    {
      "cell_type": "code",
      "source": [
        "# 2. Multiple Inheritance\n",
        "# A subclass inherits from multiple parent classes.\n",
        "\n",
        "\n",
        "class Flyer:\n",
        "    def fly(self):\n",
        "        print(\"Flying\")\n",
        "\n",
        "class Swimmer:\n",
        "    def swim(self):\n",
        "        print(\"Swimming\")\n",
        "\n",
        "class FlyingFish(Flyer, Swimmer):\n",
        "    pass\n"
      ],
      "metadata": {
        "id": "fbyHnZOMd8Jl"
      },
      "execution_count": null,
      "outputs": []
    },
    {
      "cell_type": "code",
      "source": [
        "# 3. Multilevel Inheritance\n",
        "# A subclass inherits from a parent class, which itself is a subclass of another class.\n",
        "\n",
        "\n",
        "class Grandfather:\n",
        "    pass\n",
        "\n",
        "class Father(Grandfather):\n",
        "    pass\n",
        "\n",
        "class Son(Father):\n",
        "    pass\n"
      ],
      "metadata": {
        "id": "32Q2L4Wbd-cg"
      },
      "execution_count": null,
      "outputs": []
    },
    {
      "cell_type": "code",
      "source": [
        "# 4. Hierarchical Inheritance\n",
        "# Multiple subclasses inherit from a single parent class.\n",
        "\n",
        "\n",
        "class Animal:\n",
        "    pass\n",
        "\n",
        "class Dog(Animal):\n",
        "    pass\n",
        "\n",
        "class Cat(Animal):\n",
        "    pass\n"
      ],
      "metadata": {
        "id": "_lsh1LN2eG7i"
      },
      "execution_count": null,
      "outputs": []
    },
    {
      "cell_type": "code",
      "source": [
        "#5. Hybrid Inheritance\n",
        "# A combination of multiple types of inheritance.\n",
        "\n",
        "class Animal:\n",
        "    def __init__(self, name):\n",
        "        self.name = name\n",
        "\n",
        "    def speak(self):\n",
        "        print(\"Generic animal sound\")\n",
        "\n",
        "class Flyer:\n",
        "    def fly(self):\n",
        "        print(\"Flying\")\n",
        "\n",
        "class Swimmer:\n",
        "    def swim(self):\n",
        "        print(\"Swimming\")\n",
        "\n",
        "class FlyingFish(Swimmer, Flyer):\n",
        "    def __init__(self, name):\n",
        "        self.name = name\n",
        "\n",
        "    def speak(self):\n",
        "        print(\"Fish sound\")\n",
        "\n",
        "# Composition\n",
        "class Bat(Animal, Flyer):\n",
        "    def __init__(self, name):\n",
        "        super().__init__(name)\n",
        "\n",
        "    def hunt(self):\n",
        "        print(\"Hunting insects\")\n"
      ],
      "metadata": {
        "id": "sZCGRT0jeMRe"
      },
      "execution_count": null,
      "outputs": []
    },
    {
      "cell_type": "markdown",
      "source": [
        "• What is encapsulation? Explain it with an example.\n"
      ],
      "metadata": {
        "id": "RYg13FI4fDTA"
      }
    },
    {
      "cell_type": "markdown",
      "source": [
        "Encapsulation is a fundamental principle of object-oriented programming (OOP) that bundles data (attributes) and methods that operate on that data within a single unit, the object. This concept is designed to protect data from accidental modification and misuse."
      ],
      "metadata": {
        "id": "onTSuczCfKs6"
      }
    },
    {
      "cell_type": "code",
      "source": [
        "class Car:\n",
        "    def __init__(self, color, make, model):\n",
        "        self.__color = color  # Private attribute\n",
        "        self.make = make  # Public attribute\n",
        "        self.model = model  # Public attribute\n",
        "\n",
        "    def get_color(self):\n",
        "        return self.__color\n",
        "\n",
        "    def set_color(self, color):\n",
        "        self.__color = color\n"
      ],
      "metadata": {
        "id": "tHbiD5xgfOHn"
      },
      "execution_count": null,
      "outputs": []
    },
    {
      "cell_type": "markdown",
      "source": [
        "• What is polymorphism? Explain it with an example."
      ],
      "metadata": {
        "id": "1Xz2BNM8fO0t"
      }
    },
    {
      "cell_type": "markdown",
      "source": [
        "Polymorphism is a core concept in object-oriented programming that allows objects of different types to be treated as if they were of the same type. It enables you to write code that can work with objects of different classes in a uniform way.\n",
        "\n"
      ],
      "metadata": {
        "id": "kHF6ZHbSfViL"
      }
    },
    {
      "cell_type": "markdown",
      "source": [
        "Method Overriding:\n",
        "This is the most common form of polymorphism in Python. It occurs when a subclass provides a specific implementation of a method that is already defined in its parent class."
      ],
      "metadata": {
        "id": "JYNd0W18fdKV"
      }
    },
    {
      "cell_type": "code",
      "source": [
        "class Animal:\n",
        "    def make_sound(self):\n",
        "        print(\"Animal sound\")\n",
        "\n",
        "class Dog(Animal):\n",
        "    def make_sound(self):\n",
        "        print(\"Woof!\")\n",
        "\n",
        "class Cat(Animal):\n",
        "    def make_sound(self):\n",
        "        print(\"Meow!\")\n",
        "\n",
        "def animal_sound(animal):\n",
        "    animal.make_sound()\n",
        "\n",
        "# Create objects\n",
        "dog = Dog()\n",
        "cat = Cat()\n",
        "\n",
        "animal_sound(dog)  # Output: Woof!\n",
        "animal_sound(cat)  # Output: Meow!\n"
      ],
      "metadata": {
        "colab": {
          "base_uri": "https://localhost:8080/"
        },
        "id": "w__TUk7UfUk2",
        "outputId": "110bd27d-502e-42cb-9983-5dfee2a7269d"
      },
      "execution_count": null,
      "outputs": [
        {
          "output_type": "stream",
          "name": "stdout",
          "text": [
            "Woof!\n",
            "Meow!\n"
          ]
        }
      ]
    },
    {
      "cell_type": "markdown",
      "source": [
        "### Question 1. 2. Which of the following identifier names are invalid and why?\n"
      ],
      "metadata": {
        "id": "c4JE8xPPfgZ1"
      }
    },
    {
      "cell_type": "markdown",
      "source": [
        "a) Serial_no.: Ends with special character (.).\n",
        "\n",
        "b) 1st Room: Starts with a digit.\n",
        "\n",
        "c) Hundred$: Contains a special character ($$).\n",
        "\n",
        "e) total-Marks: Contains a hyphen (-).\n",
        "\n",
        "f) Total Marks: contains a space.\n",
        "\n",
        "g) True: Is a reserved keyword (boolean value)."
      ],
      "metadata": {
        "id": "gDcG1F6WjlDU"
      }
    },
    {
      "cell_type": "markdown",
      "source": [
        "### Question 1.3.\n",
        "name = [\"Mohan\", \"dash\", \"karam\", \"chandra\", gandhi\", \"Bapu\"]\n",
        "do the following operations in this list;\n"
      ],
      "metadata": {
        "id": "T2a_mtXjmyJL"
      }
    },
    {
      "cell_type": "code",
      "source": [
        "# a) add an element \"freedom_fighter\" in this list at the Oth index.\n",
        "my_list = [\"Mohan\", \"dash\", \"karam\", \"chandra\", \"gandhi\", \"Bapu\"]\n",
        "\n",
        "\n",
        "my_list.insert(0, \"freedom_fighter\")\n",
        "\n",
        "print(my_list)\n"
      ],
      "metadata": {
        "id": "WeNAbUvonDRH",
        "colab": {
          "base_uri": "https://localhost:8080/"
        },
        "outputId": "d234d772-99df-4d08-a121-517f851c12b7"
      },
      "execution_count": null,
      "outputs": [
        {
          "output_type": "stream",
          "name": "stdout",
          "text": [
            "['freedom_fighter', 'Mohan', 'dash', 'karam', 'chandra', 'gandhi', 'Bapu']\n"
          ]
        }
      ]
    },
    {
      "cell_type": "markdown",
      "source": [
        "b) find the output of the following, and explain how?\n",
        "name = [\"freedom Fighter\", \"Bapuji\", \"MOhan\" \"dash\", \"karam\", \"chandra\", \"gandhi\"]\n",
        "Length1=len((name [-len (name) +1:-1:2]))\n",
        "Length2=Len((name [-len (name)+1:-1])) print(length1+length2)\n"
      ],
      "metadata": {
        "id": "GmuUq2VIn4iw"
      }
    },
    {
      "cell_type": "code",
      "source": [
        "name = [\"freedomFighter\", \"Bapuji\", \"MOhan\" \"dash\", \"karam\", \"chandra\", \"gandhi\"]\n",
        "Length1=len((name [-len (name) +1:-1:2]))\n",
        "Length2=len((name [-len (name)+1:-1]))\n",
        "print(Length1+Length2)\n"
      ],
      "metadata": {
        "colab": {
          "base_uri": "https://localhost:8080/"
        },
        "id": "3u8Y0Hpin5TD",
        "outputId": "40c7498e-518a-4083-9b38-e2288aa4fad0"
      },
      "execution_count": null,
      "outputs": [
        {
          "output_type": "stream",
          "name": "stdout",
          "text": [
            "6\n"
          ]
        }
      ]
    },
    {
      "cell_type": "markdown",
      "source": [
        "6"
      ],
      "metadata": {
        "id": "R3wH5QReBfpw"
      }
    },
    {
      "cell_type": "markdown",
      "source": [
        "\n",
        "1. First, we have a list `name`:\n",
        "   ```python\n",
        "   name = [\"freedomFighter\", \"Bapuji\", \"MOhan\" \"dash\", \"karam\", \"chandra\", \"gandhi\"]\n",
        "   ```\n",
        "   Note that there's a missing comma between \"MOhan\" and \"dash\", so Python will concatenate these strings. The actual list is:\n",
        "   [\"freedomFighter\", \"Bapuji\", \"MOhandash\", \"karam\", \"chandra\", \"gandhi\"]\n",
        "\n",
        "2. Now, let's look at `Length1`:\n",
        "   ```python\n",
        "   Length1 = len((name[-len(name)+1:-1:2]))\n",
        "   ```\n",
        "   - `len(name)` is 6\n",
        "   - So the slice is `name[-5:-1:2]`\n",
        "   - This starts at the second element from the beginning, goes to the second-to-last element, and takes every other element.\n",
        "   - It results in [\"Bapuji\", \"karam\"]\n",
        "   - `Length1` is therefore 2\n",
        "\n",
        "3. Next, `Length2`:\n",
        "   ```python\n",
        "   Length2 = len((name[-len(name)+1:-1]))\n",
        "   ```\n",
        "   - The slice is `name[-5:-1]`\n",
        "   - This takes all elements except the first and last: [\"Bapuji\", \"MOhandash\", \"karam\", \"chandra\"]\n",
        "   - `Length2` is therefore 4\n",
        "\n",
        "4. Finally, we print `Length1 + Length2`:\n",
        "   ```python\n",
        "   print(Length1 + Length2)\n",
        "   ```\n",
        "   This is 2 + 4 = 6\n",
        "\n",
        "Therefore, the output will be 6.\n"
      ],
      "metadata": {
        "id": "3HFFiK_Cp294"
      }
    },
    {
      "cell_type": "markdown",
      "source": [
        "c) add two more elements in the name [\"Netaji\",\"Bose\"] at the end of the list.\n"
      ],
      "metadata": {
        "id": "D1JB1WscrN6z"
      }
    },
    {
      "cell_type": "code",
      "source": [
        "name.extend([\"Netaji\",\"Bose\"])\n",
        "print(name)"
      ],
      "metadata": {
        "colab": {
          "base_uri": "https://localhost:8080/"
        },
        "id": "P1DNG8rFqjoK",
        "outputId": "74c20e9e-2788-4bee-9c50-635f9a4438ef"
      },
      "execution_count": null,
      "outputs": [
        {
          "output_type": "stream",
          "name": "stdout",
          "text": [
            "['freedomFighter', 'Bapuji', 'MOhandash', 'karam', 'chandra', 'gandhi', 'Netaji', 'Bose']\n"
          ]
        }
      ]
    },
    {
      "cell_type": "markdown",
      "source": [
        "d) what will be the value of temp:"
      ],
      "metadata": {
        "id": "_M2FWyq8rRKD"
      }
    },
    {
      "cell_type": "code",
      "source": [
        "name = [\"Bapuji\", \"dash\", \"karam\", \"chandra\", \"gandi\", \"Mohan\"]\n",
        "temp=name[-1]\n",
        "name[-1]=name[0]\n",
        "name[0]=temp\n",
        "print(name)\n",
        "\n",
        "print(temp)\n"
      ],
      "metadata": {
        "colab": {
          "base_uri": "https://localhost:8080/"
        },
        "id": "xlyziXksrcRL",
        "outputId": "5786f203-5f30-45fc-ab02-c97416fb7e70"
      },
      "execution_count": null,
      "outputs": [
        {
          "output_type": "stream",
          "name": "stdout",
          "text": [
            "['Mohan', 'dash', 'karam', 'chandra', 'gandi', 'Bapuji']\n",
            "Mohan\n"
          ]
        }
      ]
    },
    {
      "cell_type": "markdown",
      "source": [
        "Mohan"
      ],
      "metadata": {
        "id": "txyO288SBl5x"
      }
    },
    {
      "cell_type": "markdown",
      "source": [
        "Question 1.4.Find the output of the following.\n",
        "animal = ['Human, cat, mat, cat, rat, 'Human', 'Lion']\n",
        "print(animal.count('Human'))\n",
        "print(animal.index('rat'))\n",
        "print(len(animal))"
      ],
      "metadata": {
        "id": "w6XkcrSosDvZ"
      }
    },
    {
      "cell_type": "markdown",
      "source": [
        "2\n",
        "\n",
        "4\n",
        "\n",
        "7"
      ],
      "metadata": {
        "id": "fLlpjOAZsk_g"
      }
    },
    {
      "cell_type": "markdown",
      "source": [
        "### Question 1.5. tuple1=(10,20,\"Apple\", 3.4, 'a',[\"master\", \"ji\"],(\"sita\",\"geeta\",22),[{\"roll_no\":1}, {\"name\":\"Navneet\"}])\n"
      ],
      "metadata": {
        "id": "gzsy7iwUs3H0"
      }
    },
    {
      "cell_type": "code",
      "source": [
        "tuple1=(10,20,\"Apple\", 3.4, 'a',[\"master\", \"ji\"],(\"sita\",\"geeta\",22),[{\"roll_no\":1}, {\"name\":\"Navneet\"}])\n"
      ],
      "metadata": {
        "id": "BViV6YzbsIFU"
      },
      "execution_count": null,
      "outputs": []
    },
    {
      "cell_type": "code",
      "source": [
        "print(len(tuple1))\n"
      ],
      "metadata": {
        "colab": {
          "base_uri": "https://localhost:8080/"
        },
        "id": "bM3dI3ZG7Ulh",
        "outputId": "7d9225e2-b1f6-482e-cc09-a46b4725ee02"
      },
      "execution_count": null,
      "outputs": [
        {
          "output_type": "stream",
          "name": "stdout",
          "text": [
            "8\n"
          ]
        }
      ]
    },
    {
      "cell_type": "markdown",
      "source": [
        "8"
      ],
      "metadata": {
        "id": "3x0vRiM3CLDn"
      }
    },
    {
      "cell_type": "code",
      "source": [
        "print(tuple1[-1][-1][\"name\"])"
      ],
      "metadata": {
        "colab": {
          "base_uri": "https://localhost:8080/"
        },
        "id": "5yhrDvSi7g8s",
        "outputId": "9938ac30-f65a-493b-da21-a35054fa2cb5"
      },
      "execution_count": null,
      "outputs": [
        {
          "output_type": "stream",
          "name": "stdout",
          "text": [
            "Navneet\n"
          ]
        }
      ]
    },
    {
      "cell_type": "markdown",
      "source": [
        "Navneet"
      ],
      "metadata": {
        "id": "iwpmx3h8CNoy"
      }
    },
    {
      "cell_type": "markdown",
      "source": [
        "c) fetch the value of roll_no from this tuple."
      ],
      "metadata": {
        "id": "2FWw-2G573C5"
      }
    },
    {
      "cell_type": "code",
      "source": [
        "print(tuple1[-1][0][\"roll_no\"])"
      ],
      "metadata": {
        "colab": {
          "base_uri": "https://localhost:8080/"
        },
        "id": "puZmjpbc8Iph",
        "outputId": "eaed755c-8a42-48c6-fdc9-ee345c78203a"
      },
      "execution_count": null,
      "outputs": [
        {
          "output_type": "stream",
          "name": "stdout",
          "text": [
            "1\n"
          ]
        }
      ]
    },
    {
      "cell_type": "markdown",
      "source": [
        "d) print(tuple1[-3][1])\n"
      ],
      "metadata": {
        "id": "-JWpO9Ke86Na"
      }
    },
    {
      "cell_type": "code",
      "source": [
        "print(tuple1[-3][1])\n"
      ],
      "metadata": {
        "colab": {
          "base_uri": "https://localhost:8080/"
        },
        "id": "bIBlI5CD9AA5",
        "outputId": "c201a39c-38d8-438c-dc89-ed926d010d26"
      },
      "execution_count": null,
      "outputs": [
        {
          "output_type": "stream",
          "name": "stdout",
          "text": [
            "ji\n"
          ]
        }
      ]
    },
    {
      "cell_type": "markdown",
      "source": [
        "ji"
      ],
      "metadata": {
        "id": "STBCMrxRCWsA"
      }
    },
    {
      "cell_type": "markdown",
      "source": [
        "e)fetch the element \"22\" from this tuple."
      ],
      "metadata": {
        "id": "Yq2t5Tpg9Ru8"
      }
    },
    {
      "cell_type": "code",
      "source": [
        "print(tuple1[6][2])"
      ],
      "metadata": {
        "colab": {
          "base_uri": "https://localhost:8080/"
        },
        "id": "XT6n_NAd9Vwz",
        "outputId": "528cc3c0-dabd-4072-e9dd-665d10e2bf60"
      },
      "execution_count": null,
      "outputs": [
        {
          "output_type": "stream",
          "name": "stdout",
          "text": [
            "22\n"
          ]
        }
      ]
    },
    {
      "cell_type": "markdown",
      "source": [
        "### 1.6. Write a program to display the appropriate message as per the color of signal (RED-Stop/Yellow-Stay/ Green-Go) at the road crossing.\n"
      ],
      "metadata": {
        "id": "4BUdNc5690st"
      }
    },
    {
      "cell_type": "code",
      "source": [
        "def signal_color(color):\n",
        "  \"\"\"Displays the appropriate message based on the signal color.\"\"\"\n",
        "  color = color.lower()  # Convert to lowercase for case-insensitive comparison\n",
        "\n",
        "  if color == \"red\":\n",
        "    print(\"Stop\")\n",
        "  elif color == \"yellow\":\n",
        "    print(\"Stay\")\n",
        "  elif color == \"green\":\n",
        "    print(\"Go\")\n",
        "  else:\n",
        "    print(\"Invalid signal color\")\n",
        "\n",
        "# Example usage:\n",
        "signal_color(\"Red\")  # Output: Stop\n",
        "signal_color(\"yellow\")  # Output: Stay\n",
        "signal_color(\"green\")  # Output: Go\n",
        "signal_color(\"blue\")  # Output: Invalid signal color\n"
      ],
      "metadata": {
        "colab": {
          "base_uri": "https://localhost:8080/"
        },
        "id": "UjM6lhvW93dT",
        "outputId": "7f871b14-aa06-4d8f-886d-bdda2e243f53"
      },
      "execution_count": null,
      "outputs": [
        {
          "output_type": "stream",
          "name": "stdout",
          "text": [
            "Stop\n",
            "Stay\n",
            "Go\n",
            "Invalid signal color\n"
          ]
        }
      ]
    },
    {
      "cell_type": "markdown",
      "source": [
        "1.7. Write a program to create a simple calculator performing only four basic operations(+, -,/,*). 1.8. Write a program to find the larger of the three pre-specified numbers using ternary operators. 1.9. Write a program to find the factors of a whole number using a while loop.\n"
      ],
      "metadata": {
        "id": "SnEahod897l3"
      }
    },
    {
      "cell_type": "code",
      "source": [
        "\n",
        "def calculator(num1, operator, num2):\n",
        "  \"\"\"Performs basic arithmetic operations.\"\"\"\n",
        "  if operator == '+':\n",
        "    result = num1 + num2\n",
        "  elif operator == '-':\n",
        "    result = num1 - num2\n",
        "  elif operator == '*':\n",
        "    result = num1 * num2\n",
        "  elif operator == '/':\n",
        "    if num2 == 0:\n",
        "      return \"Division by zero error\"\n",
        "    else:\n",
        "      result = num1 / num2\n",
        "  else:\n",
        "    return \"Invalid operator\"\n",
        "  return result\n",
        "\n",
        "num1 = float(input(\"Enter first number: \"))\n",
        "num2 = float(input(\"Enter second number: \"))\n",
        "operator = input(\"Enter operator (+, -, *, /): \")\n",
        "\n",
        "result = calculator(num1, operator, num2)\n",
        "print(\"Result:\", result)\n"
      ],
      "metadata": {
        "colab": {
          "base_uri": "https://localhost:8080/"
        },
        "id": "7LSX-JoQ9-jJ",
        "outputId": "ed40fd95-7fe5-4634-e268-f907965b356f"
      },
      "execution_count": null,
      "outputs": [
        {
          "output_type": "stream",
          "name": "stdout",
          "text": [
            "Enter first number: 2\n",
            "Enter second number: 2\n",
            "Enter operator (+, -, *, /): +\n",
            "Result: 4.0\n"
          ]
        }
      ]
    },
    {
      "cell_type": "markdown",
      "source": [
        " 1.8. Write a program to find the larger of the three pre-specified numbers using ternary operators."
      ],
      "metadata": {
        "id": "bh_MXxbH-OKz"
      }
    },
    {
      "cell_type": "code",
      "source": [
        "def find_largest(num1, num2, num3):\n",
        "  \"\"\"Finds the largest number using ternary operators.\"\"\"\n",
        "  largest = num1 if num1 > num2 and num1 > num3 else num2 if num2 > num3 else num3\n",
        "  return largest\n",
        "\n",
        "# Example usage:\n",
        "num1 = float(input(\"Enter first number: \"))\n",
        "num2 = float(input(\"Enter second number: \"))\n",
        "num3 = float(input(\"Enter third number: \"))\n",
        "largest_number = find_largest(num1, num2, num3)\n",
        "print(\"Largest number:\", largest_number)\n"
      ],
      "metadata": {
        "colab": {
          "base_uri": "https://localhost:8080/"
        },
        "id": "oGxklrgb-TR-",
        "outputId": "21940e31-56e3-4375-8bff-9decde413e3d"
      },
      "execution_count": null,
      "outputs": [
        {
          "output_type": "stream",
          "name": "stdout",
          "text": [
            "Enter first number: 12\n",
            "Enter second number: 1\n",
            "Enter third number: 2\n",
            "Largest number: 12.0\n"
          ]
        }
      ]
    },
    {
      "cell_type": "markdown",
      "source": [
        "1.9. Write a program to find the factors of a whole number using a while loop.\n"
      ],
      "metadata": {
        "id": "hfqJlSOW-dF9"
      }
    },
    {
      "cell_type": "code",
      "source": [
        "def find_factors(num):\n",
        "  \"\"\"Finds the factors of a whole number.\"\"\"\n",
        "  factors = []\n",
        "  divisor = 1\n",
        "  while divisor <= num:\n",
        "    if num % divisor == 0:\n",
        "      factors.append(divisor)\n",
        "    divisor += 1\n",
        "  return factors\n",
        "\n",
        "# Example usage:\n",
        "number = int(input(\"Enter a whole number: \"))\n",
        "factors = find_factors(number)\n",
        "print(\"Factors of\", number, \"are:\", factors)\n"
      ],
      "metadata": {
        "colab": {
          "base_uri": "https://localhost:8080/"
        },
        "id": "gXxCn-ey-mwY",
        "outputId": "28f5b7fe-0193-4fe7-ce7a-d555352ab520"
      },
      "execution_count": null,
      "outputs": [
        {
          "output_type": "stream",
          "name": "stdout",
          "text": [
            "Enter a whole number: 22\n",
            "Factors of 22 are: [1, 2, 11, 22]\n"
          ]
        }
      ]
    },
    {
      "cell_type": "markdown",
      "source": [
        "1.10. Write a program to find the sum of all the positive numbers entered by the user. As soon as the user enters a negative number, stop taking in any further input from the user and display the sum.\n"
      ],
      "metadata": {
        "id": "1Wnjq22W-yMD"
      }
    },
    {
      "cell_type": "code",
      "source": [
        "def sum_of_positives():\n",
        "  \"\"\"Calculates the sum of positive numbers entered by the user.\"\"\"\n",
        "  total = 0\n",
        "  while True:\n",
        "    num = int(input(\"Enter a positive number (enter a negative number to stop): \"))\n",
        "    if num < 0:\n",
        "      break\n",
        "    total += num\n",
        "  return total\n",
        "\n",
        "# Example usage:\n",
        "result = sum_of_positives()\n",
        "print(\"Sum of positive numbers:\", result)\n"
      ],
      "metadata": {
        "colab": {
          "base_uri": "https://localhost:8080/"
        },
        "id": "5ihD8Xqm-y-t",
        "outputId": "fa6d88cc-78ee-4821-aed0-e92a5901c895"
      },
      "execution_count": null,
      "outputs": [
        {
          "output_type": "stream",
          "name": "stdout",
          "text": [
            "Enter a positive number (enter a negative number to stop): 12\n",
            "Enter a positive number (enter a negative number to stop): 12\n",
            "Enter a positive number (enter a negative number to stop): -1\n",
            "Sum of positive numbers: 24\n"
          ]
        }
      ]
    },
    {
      "cell_type": "markdown",
      "source": [
        "1.11. Write a program to find prime numbers between 2 to 100 using nested for loops.\n"
      ],
      "metadata": {
        "id": "SI5ssVTd--ZS"
      }
    },
    {
      "cell_type": "code",
      "source": [
        "def find_prime_numbers(start, end):\n",
        "  \"\"\"Finds prime numbers within a given range.\"\"\"\n",
        "  prime_numbers = []\n",
        "  for num in range(start, end + 1):\n",
        "    if num > 1:\n",
        "      is_prime = True\n",
        "      for i in range(2, int(num**0.5) + 1):\n",
        "        if num % i == 0:\n",
        "          is_prime = False\n",
        "          break\n",
        "      if is_prime:\n",
        "        prime_numbers.append(num)\n",
        "  return prime_numbers\n",
        "\n",
        "# Find prime numbers between 2 and 100\n",
        "prime_numbers = find_prime_numbers(2, 100)\n",
        "print(prime_numbers)\n"
      ],
      "metadata": {
        "colab": {
          "base_uri": "https://localhost:8080/"
        },
        "id": "0WK9C8GPAA4m",
        "outputId": "ef0837dd-a341-4f71-8640-0190f3643efc"
      },
      "execution_count": null,
      "outputs": [
        {
          "output_type": "stream",
          "name": "stdout",
          "text": [
            "[2, 3, 5, 7, 11, 13, 17, 19, 23, 29, 31, 37, 41, 43, 47, 53, 59, 61, 67, 71, 73, 79, 83, 89, 97]\n"
          ]
        }
      ]
    },
    {
      "cell_type": "markdown",
      "source": [
        "1.12. Write the programs for the following:\n",
        "• Accept the marks of the student in five major subjects and display the same.\n"
      ],
      "metadata": {
        "id": "d7eVHlGpACuS"
      }
    },
    {
      "cell_type": "code",
      "source": [
        "# Function to calculate grade based on percentage\n",
        "def calculate_grade(percentage):\n",
        "    if percentage > 85:\n",
        "        return 'A'\n",
        "    elif percentage >= 75:\n",
        "        return 'B'\n",
        "    elif percentage >= 50:\n",
        "        return 'C'\n",
        "    elif percentage > 30:\n",
        "        return 'D'\n",
        "    else:\n",
        "        return 'Reappear'\n",
        "\n",
        "# Main program\n",
        "def main():\n",
        "    subjects = ['Math', 'Science', 'English', 'History', 'Computer Science']\n",
        "    marks = []\n",
        "\n",
        "    # Accept marks for each subject\n",
        "    print(\"Enter marks for each subject (out of 100):\")\n",
        "    for subject in subjects:\n",
        "        while True:\n",
        "            try:\n",
        "                mark = float(input(f\"{subject}: \"))\n",
        "                if 0 <= mark <= 100:\n",
        "                    marks.append(mark)\n",
        "                    break\n",
        "                else:\n",
        "                    print(\"Marks should be between 0 and 100. Please try again.\")\n",
        "            except ValueError:\n",
        "                print(\"Invalid input. Please enter a number.\")\n",
        "\n",
        "    # Display marks\n",
        "    print(\"\\nMarks entered:\")\n",
        "    for subject, mark in zip(subjects, marks):\n",
        "        print(f\"{subject}: {mark}\")\n",
        "\n",
        "    # Calculate total marks and percentage\n",
        "    total_marks = sum(marks)\n",
        "    percentage = total_marks / len(subjects)\n",
        "\n",
        "    # Display results\n",
        "    print(f\"\\nTotal Marks: {total_marks}\")\n",
        "    print(f\"Percentage: {percentage:.2f}%\")\n",
        "\n",
        "    # Calculate and display grade\n",
        "    grade = calculate_grade(percentage)\n",
        "    print(f\"Grade: {grade}\")\n",
        "\n",
        "if __name__ == \"__main__\":\n",
        "    main()"
      ],
      "metadata": {
        "colab": {
          "base_uri": "https://localhost:8080/"
        },
        "id": "Ghj7q5DqAOOG",
        "outputId": "d19ccff6-c96a-4841-eaa3-1999b9ce629c"
      },
      "execution_count": null,
      "outputs": [
        {
          "output_type": "stream",
          "name": "stdout",
          "text": [
            "Enter marks for each subject (out of 100):\n",
            "Math: 33\n",
            "Science: 33\n",
            "English: 33\n",
            "History: 33\n",
            "Computer Science: 3\n",
            "\n",
            "Marks entered:\n",
            "Math: 33.0\n",
            "Science: 33.0\n",
            "English: 33.0\n",
            "History: 33.0\n",
            "Computer Science: 3.0\n",
            "\n",
            "Total Marks: 135.0\n",
            "Percentage: 27.00%\n",
            "Grade: Reappear\n"
          ]
        }
      ]
    },
    {
      "cell_type": "markdown",
      "source": [
        "1.13. Write a program for VIBGYOR Spectrum based on their Wavelength using. Wavelength Range:\n"
      ],
      "metadata": {
        "id": "Fa5e31t-Cx6b"
      }
    },
    {
      "cell_type": "code",
      "source": [
        "def get_color(wavelength):\n",
        "    if 400.0 <= wavelength < 440.0:\n",
        "        return \"Violet\"\n",
        "    elif 440.0 <= wavelength < 460.0:\n",
        "        return \"Indigo\"\n",
        "    elif 460.0 <= wavelength < 500.0:\n",
        "        return \"Blue\"\n",
        "    elif 500.0 <= wavelength < 570.0:\n",
        "        return \"Green\"\n",
        "    elif 570.0 <= wavelength < 590.0:\n",
        "        return \"Yellow\"\n",
        "    elif 590.0 <= wavelength < 620.0:\n",
        "        return \"Orange\"\n",
        "    elif 620.0 <= wavelength <= 720.0:\n",
        "        return \"Red\"\n",
        "    else:\n",
        "        return \"Not in visible spectrum\"\n",
        "\n",
        "def main():\n",
        "    print(\"VIBGYOR Spectrum Analyzer\")\n",
        "    print(\"-------------------------\")\n",
        "\n",
        "    while True:\n",
        "        try:\n",
        "            wavelength = float(input(\"Enter a wavelength in nm (or 'q' to quit): \"))\n",
        "            color = get_color(wavelength)\n",
        "            print(f\"The color for wavelength {wavelength} nm is: {color}\")\n",
        "        except ValueError:\n",
        "            print(\"Please enter a valid number or 'q' to quit.\")\n",
        "\n",
        "        choice = input(\"Do you want to check another wavelength? (y/n): \").lower()\n",
        "        if choice != 'y':\n",
        "            break\n",
        "\n",
        "    print(\"Thank you for using the VIBGYOR Spectrum Analyzer!\")\n",
        "\n",
        "if __name__ == \"__main__\":\n",
        "    main()"
      ],
      "metadata": {
        "colab": {
          "base_uri": "https://localhost:8080/"
        },
        "id": "1Mz3e7SaCzT2",
        "outputId": "57208b8f-52ae-4b67-f6bb-ca21aeadc79b"
      },
      "execution_count": null,
      "outputs": [
        {
          "output_type": "stream",
          "name": "stdout",
          "text": [
            "VIBGYOR Spectrum Analyzer\n",
            "-------------------------\n",
            "Enter a wavelength in nm (or 'q' to quit): 330\n",
            "The color for wavelength 330.0 nm is: Not in visible spectrum\n",
            "Do you want to check another wavelength? (y/n): n\n",
            "Thank you for using the VIBGYOR Spectrum Analyzer!\n"
          ]
        }
      ]
    },
    {
      "cell_type": "markdown",
      "source": [
        "1.14.Consider the gravitational interactions between the Earth, Moon, and Sun in our solar system. Given:\n"
      ],
      "metadata": {
        "id": "syrrcXjUDZ1_"
      }
    },
    {
      "cell_type": "code",
      "source": [
        "import math\n",
        "\n",
        "# Constants\n",
        "G = 6.67430e-11  # Gravitational constant in m^3 kg^-1 s^-2\n",
        "\n",
        "# Given values\n",
        "mass_earth = 5.972e24  # Mass of Earth in kilograms\n",
        "mass_moon = 7.34767309e22  # Mass of Moon in kilograms\n",
        "mass_sun = 1.989e30  # Mass of Sun in kilograms\n",
        "\n",
        "distance_earth_sun = 1.496e11  # Average distance between Earth and Sun in meters\n",
        "distance_moon_earth = 3.844e8  # Average distance between Moon and Earth in meters\n",
        "\n",
        "def calculate_gravitational_force(mass1, mass2, distance):\n",
        "    return G * mass1 * mass2 / (distance ** 2)\n",
        "\n",
        "# Calculate gravitational force between Earth and Sun\n",
        "force_earth_sun = calculate_gravitational_force(mass_earth, mass_sun, distance_earth_sun)\n",
        "\n",
        "# Calculate gravitational force between Moon and Earth\n",
        "force_moon_earth = calculate_gravitational_force(mass_moon, mass_earth, distance_moon_earth)\n",
        "\n",
        "print(f\"Gravitational force between Earth and Sun: {force_earth_sun:.2e} N\")\n",
        "print(f\"Gravitational force between Moon and Earth: {force_moon_earth:.2e} N\")\n",
        "\n",
        "# Compare the forces\n",
        "if force_earth_sun > force_moon_earth:\n",
        "    print(\"\\nThe gravitational force between Earth and Sun is stronger.\")\n",
        "    print(\"The Earth is more attracted to the Sun than to the Moon.\")\n",
        "else:\n",
        "    print(\"\\nThe gravitational force between Moon and Earth is stronger.\")\n",
        "    print(\"The Earth is more attracted to the Moon than to the Sun.\")\n",
        "\n",
        "# Calculate the ratio of forces\n",
        "force_ratio = force_earth_sun / force_moon_earth\n",
        "print(f\"\\nThe Earth-Sun force is {force_ratio:.2f} times stronger than the Earth-Moon force.\")"
      ],
      "metadata": {
        "colab": {
          "base_uri": "https://localhost:8080/"
        },
        "id": "ImWZIZP1Delt",
        "outputId": "038f2317-db03-44c1-bfac-2571c4c92c20"
      },
      "execution_count": null,
      "outputs": [
        {
          "output_type": "stream",
          "name": "stdout",
          "text": [
            "Gravitational force between Earth and Sun: 3.54e+22 N\n",
            "Gravitational force between Moon and Earth: 1.98e+20 N\n",
            "\n",
            "The gravitational force between Earth and Sun is stronger.\n",
            "The Earth is more attracted to the Sun than to the Moon.\n",
            "\n",
            "The Earth-Sun force is 178.73 times stronger than the Earth-Moon force.\n"
          ]
        }
      ]
    },
    {
      "cell_type": "markdown",
      "source": [
        "\n",
        "2. Design and implement a Python program for managing student information using object-oriented principles. Create a class called `Student with encapsulated attributes for name, age, and roll number. Implement getter and setter methods for these attributes. Additionally, provide methods to display student information and update student details."
      ],
      "metadata": {
        "id": "vY10KGF72gHV"
      }
    },
    {
      "cell_type": "code",
      "source": [
        "class Student:\n",
        "    def __init__(self, name, age, roll_number):\n",
        "        self.__name = name\n",
        "        self.__age = age\n",
        "        self.__roll_number = roll_number\n",
        "\n",
        "    def get_name(self):\n",
        "        return self.__name\n",
        "\n",
        "    def set_name(self, name):\n",
        "        self.__name = name\n",
        "\n",
        "    def get_age(self):\n",
        "        return self.__age\n",
        "\n",
        "    def set_age(self, age):\n",
        "        if age >= 0:\n",
        "            self.__age = age\n",
        "        else:\n",
        "            print(\"Age cannot be negative\")\n",
        "\n",
        "    def get_roll_number(self):\n",
        "        return self.__roll_number\n",
        "\n",
        "    def set_roll_number(self, roll_number):\n",
        "        self.__roll_number = roll_number\n",
        "\n",
        "    def display_student_info(self):\n",
        "        print(\"Name:\", self.__name)\n",
        "        print(\"Age:\", self.__age)\n",
        "        print(\"Roll Number:\", self.__roll_number)\n",
        "\n",
        "    def update_details(self, new_name, new_age, new_roll_number):\n",
        "        self.set_name(new_name)\n",
        "        self.set_age(new_age)\n",
        "        self.set_roll_number(new_roll_number)\n",
        "\n",
        "# Create student objects\n",
        "student1 = Student(\"Alice\", 20, 12345)\n",
        "student2 = Student(\"Bob\", 22, 54321)\n",
        "\n",
        "# Access and modify student information\n",
        "print(student1.get_name())  # Output: Alice\n",
        "student1.set_age(21)\n",
        "student1.display_student_info()\n",
        "\n",
        "# Update student details\n",
        "student2.update_details(\"Charlie\", 23, 98765)\n",
        "student2.display_student_info()\n"
      ],
      "metadata": {
        "colab": {
          "base_uri": "https://localhost:8080/"
        },
        "id": "KP0ssR4B3CBi",
        "outputId": "d0d99e7d-0df4-43e8-b974-feba2e5e1e13"
      },
      "execution_count": null,
      "outputs": [
        {
          "output_type": "stream",
          "name": "stdout",
          "text": [
            "Alice\n",
            "Name: Alice\n",
            "Age: 21\n",
            "Roll Number: 12345\n",
            "Name: Charlie\n",
            "Age: 23\n",
            "Roll Number: 98765\n"
          ]
        }
      ]
    },
    {
      "cell_type": "markdown",
      "source": [
        "3.Develop a Python program for managing library resources efficiently. Design a class named `LibraryBook` with attributes like book name, author, and availability status. Implement methods for borrowing and returning books while ensuring proper encapsulation of attributes.\n"
      ],
      "metadata": {
        "id": "g9PX9cKR3Xhw"
      }
    },
    {
      "cell_type": "code",
      "source": [
        "class LibraryBook:\n",
        "    def __init__(self, book_name, author):\n",
        "        self.__book_name = book_name\n",
        "        self.__author = author\n",
        "        self.__is_available = True\n",
        "\n",
        "    def get_book_name(self):\n",
        "        return self.__book_name\n",
        "\n",
        "    def get_author(self):\n",
        "        return self.__author\n",
        "\n",
        "    def get_availability_status(self):\n",
        "        return self.__is_available\n",
        "\n",
        "    def borrow_book(self):\n",
        "        if self.__is_available:\n",
        "            self.__is_available = False\n",
        "            print(f\"{self.__book_name} by {self.__author} has been borrowed.\")\n",
        "        else:\n",
        "            print(f\"{self.__book_name} is currently not available.\")\n",
        "\n",
        "    def return_book(self):\n",
        "        if not self.__is_available:\n",
        "            self.__is_available = True\n",
        "            print(f\"{self.__book_name} by {self.__author} has been returned.\")\n",
        "        else:\n",
        "            print(f\"{self.__book_name} is already available.\")\n",
        "\n",
        "# Example usage:\n",
        "book1 = LibraryBook(\"Python Crash Course\", \"Eric Matthes\")\n",
        "book2 = LibraryBook(\"Clean Code\", \"Robert C. Martin\")\n",
        "\n",
        "book1.borrow_book()\n",
        "book1.borrow_book()  # Book already borrowed\n",
        "book1.return_book()\n",
        "book1.borrow_book()\n"
      ],
      "metadata": {
        "colab": {
          "base_uri": "https://localhost:8080/"
        },
        "id": "giomFKnM3uM_",
        "outputId": "5068e435-edbe-40e3-fb8a-7c186b0be9b1"
      },
      "execution_count": null,
      "outputs": [
        {
          "output_type": "stream",
          "name": "stdout",
          "text": [
            "Python Crash Course by Eric Matthes has been borrowed.\n",
            "Python Crash Course is currently not available.\n",
            "Python Crash Course by Eric Matthes has been returned.\n",
            "Python Crash Course by Eric Matthes has been borrowed.\n"
          ]
        }
      ]
    },
    {
      "cell_type": "markdown",
      "source": [
        "\n",
        "4.Create a simple banking system using object-oriented concepts in Python. Design classes representing different types of bank accounts such as savings and checking. Implement methods for deposit, withdraw, and balance inquiry. Utilize inheritance to manage different account types efficiently."
      ],
      "metadata": {
        "id": "7fU2AEX85C3G"
      }
    },
    {
      "cell_type": "code",
      "source": [
        "class BankAccount:\n",
        "    def __init__(self, account_number, balance):\n",
        "        self.account_number = account_number\n",
        "        self.balance = balance\n",
        "\n",
        "    def deposit(self, amount):\n",
        "        if amount > 0:\n",
        "            self.balance += amount\n",
        "            print(f\"Deposited {amount}. New balance: {self.balance}\")\n",
        "        else:\n",
        "            print(\"Invalid deposit amount\")\n",
        "\n",
        "    def withdraw(self, amount):\n",
        "        if amount > 0 and amount <= self.balance:\n",
        "            self.balance -= amount\n",
        "            print(f\"Withdrew {amount}. New balance: {self.balance}\")\n",
        "        else:\n",
        "            print(\"Insufficient funds or invalid withdrawal amount\")\n",
        "\n",
        "    def check_balance(self):\n",
        "        print(f\"Current balance: {self.balance}\")\n",
        "\n",
        "class SavingsAccount(BankAccount):\n",
        "    def __init__(self, account_number, balance, interest_rate):\n",
        "        super().__init__(account_number, balance)\n",
        "        self.interest_rate = interest_rate\n",
        "\n",
        "    def calculate_interest(self):\n",
        "        interest = self.balance * self.interest_rate\n",
        "        self.balance += interest\n",
        "        print(f\"Interest earned: {interest}. New balance: {self.balance}\")\n",
        "\n",
        "class CheckingAccount(BankAccount):\n",
        "    def __init__(self, account_number, balance, overdraft_limit):\n",
        "        super().__init__(account_number, balance)\n",
        "        self.overdraft_limit = overdraft_limit\n",
        "\n",
        "    def withdraw(self, amount):\n",
        "        if amount <= self.balance + self.overdraft_limit:\n",
        "            if amount <= self.balance:\n",
        "                super().withdraw(amount)\n",
        "            else:\n",
        "                overdraft_amount = amount - self.balance\n",
        "                self.balance = 0\n",
        "                print(f\"Overdraft of {overdraft_amount} applied. New balance: {self.balance}\")\n",
        "        else:\n",
        "            print(\"Insufficient funds and overdraft limit exceeded\")\n",
        "\n",
        "# Create accounts\n",
        "savings_account = SavingsAccount(\"SA123\", 1000, 0.05)\n",
        "checking_account = CheckingAccount(\"CA456\", 500, 200)\n",
        "\n",
        "# Perform transactions\n",
        "savings_account.deposit(500)\n",
        "savings_account.calculate_interest()\n",
        "savings_account.check_balance()\n",
        "\n",
        "checking_account.withdraw(600)  # Using overdraft\n",
        "checking_account.check_balance()\n"
      ],
      "metadata": {
        "colab": {
          "base_uri": "https://localhost:8080/"
        },
        "id": "xx85bp2v5Eoh",
        "outputId": "0961b901-2d9e-4047-e1b3-ee81cd66b3fc"
      },
      "execution_count": null,
      "outputs": [
        {
          "output_type": "stream",
          "name": "stdout",
          "text": [
            "Deposited 500. New balance: 1500\n",
            "Interest earned: 75.0. New balance: 1575.0\n",
            "Current balance: 1575.0\n",
            "Overdraft of 100 applied. New balance: 0\n",
            "Current balance: 0\n"
          ]
        }
      ]
    },
    {
      "cell_type": "markdown",
      "source": [
        "5. Write a Python program that models different animals and their sounds. Design a base class called `Animal with a method `make_sound(). Create subclasses like `Dog` and `Cat` that override the `make_sound()` method to produce appropriate sounds."
      ],
      "metadata": {
        "id": "vP1jk2wS95ua"
      }
    },
    {
      "cell_type": "code",
      "source": [
        "class Animal:\n",
        "    def make_sound(self):\n",
        "        print(\"Generic animal sound\")\n",
        "\n",
        "class Dog(Animal):\n",
        "    def make_sound(self):\n",
        "        print(\"Woof!\")\n",
        "\n",
        "class Cat(Animal):\n",
        "    def make_sound(self):\n",
        "        print(\"Meow!\")\n",
        "\n",
        "# Create objects\n",
        "dog = Dog()\n",
        "cat = Cat()\n",
        "\n",
        "# Call the make_sound method\n",
        "dog.make_sound()\n",
        "cat.make_sound()\n"
      ],
      "metadata": {
        "colab": {
          "base_uri": "https://localhost:8080/"
        },
        "id": "63ccDOB1977Y",
        "outputId": "5e7e8fdf-85ab-417c-d72c-dfd9a3a1019e"
      },
      "execution_count": null,
      "outputs": [
        {
          "output_type": "stream",
          "name": "stdout",
          "text": [
            "Woof!\n",
            "Meow!\n"
          ]
        }
      ]
    },
    {
      "cell_type": "markdown",
      "source": [
        "\n",
        "6. Write a code for Restaurant Management System Using OOPS:"
      ],
      "metadata": {
        "id": "WTyB5EoN-Ygb"
      }
    },
    {
      "cell_type": "code",
      "source": [
        "class MenuItem:\n",
        "    def __init__(self, name, description, price, category):\n",
        "        self.__id = id(self)  # Encapsulated unique identifier\n",
        "        self.name = name\n",
        "        self.description = description\n",
        "        self.price = price\n",
        "        self.category = category\n",
        "\n",
        "    def get_id(self):\n",
        "        return self.__id\n",
        "\n",
        "    def __str__(self):\n",
        "        return f\"ID: {self.__id}, Name: {self.name}, Description: {self.description}, Price: {self.price}, Category: {self.category}\"\n",
        "\n",
        "class FoodItem(MenuItem):\n",
        "    def __init__(self, name, description, price, category, is_vegetarian):\n",
        "        super().__init__(name, description, price, category)\n",
        "        self.is_vegetarian = is_vegetarian\n",
        "\n",
        "class BeverageItem(MenuItem):\n",
        "    def __init__(self, name, description, price, category, size):\n",
        "        super().__init__(name, description, price, category)\n",
        "        self.size = size\n",
        "\n",
        "class Restaurant:\n",
        "    def __init__(self):\n",
        "        self.menu = []\n",
        "\n",
        "    def add_menu_item(self, menu_item):\n",
        "        self.menu.append(menu_item)\n",
        "\n",
        "    def update_menu_item(self, item_id, new_name, new_description, new_price, new_category):\n",
        "        for item in self.menu:\n",
        "            if item.get_id() == item_id:\n",
        "                item.name = new_name\n",
        "                item.description = new_description\n",
        "                item.price = new_price\n",
        "                item.category = new_category\n",
        "                break\n",
        "\n",
        "    def remove_menu_item(self, item_id):\n",
        "        for item in self.menu:\n",
        "            if item.get_id() == item_id:\n",
        "                self.menu.remove(item)\n",
        "                break\n",
        "\n",
        "    def display_menu(self):\n",
        "        for item in self.menu:\n",
        "            print(item)\n",
        "\n",
        "# Example usage\n",
        "restaurant = Restaurant()\n",
        "food_item1 = FoodItem(\"Pizza\", \"Delicious pizza\", 12.99, \"Main Course\", True)\n",
        "beverage_item1 = BeverageItem(\"Coke\", \"Refreshing drink\", 2.99, \"Beverages\", \"Regular\")\n",
        "restaurant.add_menu_item(food_item1)\n",
        "restaurant.add_menu_item(beverage_item1)\n",
        "restaurant.display_menu()\n"
      ],
      "metadata": {
        "colab": {
          "base_uri": "https://localhost:8080/"
        },
        "id": "tb-Kz7hN-aut",
        "outputId": "1c641c99-9c60-4636-d3ae-404262739e24"
      },
      "execution_count": null,
      "outputs": [
        {
          "output_type": "stream",
          "name": "stdout",
          "text": [
            "ID: 137980187919072, Name: Pizza, Description: Delicious pizza, Price: 12.99, Category: Main Course\n",
            "ID: 137979421711168, Name: Coke, Description: Refreshing drink, Price: 2.99, Category: Beverages\n"
          ]
        }
      ]
    },
    {
      "cell_type": "markdown",
      "source": [
        "\n",
        "7.Write a code for Hotel Management System using OOPS:"
      ],
      "metadata": {
        "id": "focYtsoh-4JP"
      }
    },
    {
      "cell_type": "code",
      "source": [
        "class Room:\n",
        "    def __init__(self, room_number, room_type, rate):\n",
        "        self.__room_number = room_number\n",
        "        self.__room_type = room_type\n",
        "        self.__rate = rate\n",
        "        self.__is_available = True\n",
        "\n",
        "    def get_room_number(self):\n",
        "        return self.__room_number\n",
        "\n",
        "    def get_room_type(self):\n",
        "        return self.__room_type\n",
        "\n",
        "    def get_rate(self):\n",
        "        return self.__rate\n",
        "\n",
        "    def is_available(self):\n",
        "        return self.__is_available\n",
        "\n",
        "    def book_room(self):\n",
        "        if self.__is_available:\n",
        "            self.__is_available = False\n",
        "            print(f\"Room {self.__room_number} booked successfully.\")\n",
        "        else:\n",
        "            print(f\"Room {self.__room_number} is already booked.\")\n",
        "\n",
        "    def check_in(self, guest_name):\n",
        "        if not self.__is_available:\n",
        "            print(f\"Guest {guest_name} checked in to room {self.__room_number}.\")\n",
        "        else:\n",
        "            print(f\"Room {self.__room_number} is not available for check-in.\")\n",
        "\n",
        "    def check_out(self, guest_name):\n",
        "        if not self.__is_available:\n",
        "            self.__is_available = True\n",
        "            print(f\"Guest {guest_name} checked out from room {self.__room_number}.\")\n",
        "        else:\n",
        "            print(f\"Room {self.__room_number} is already vacant.\")\n",
        "\n",
        "class SuiteRoom(Room):\n",
        "    def __init__(self, room_number, rate):\n",
        "        super().__init__(room_number, \"Suite\", rate)\n",
        "        self.__extra_amenities = []\n",
        "\n",
        "    def add_amenity(self, amenity):\n",
        "        self.__extra_amenities.append(amenity)\n",
        "\n",
        "class StandardRoom(Room):\n",
        "    def __init__(self, room_number, rate):\n",
        "        super().__init__(room_number, \"Standard\", rate)\n",
        "\n",
        "# Example usage\n",
        "suite_room = SuiteRoom(101, 200)\n",
        "standard_room = StandardRoom(201, 150)\n",
        "\n",
        "suite_room.book_room()\n",
        "suite_room.check_in(\"John Doe\")\n",
        "suite_room.check_out(\"John Doe\")\n",
        "suite_room.book_room()\n"
      ],
      "metadata": {
        "colab": {
          "base_uri": "https://localhost:8080/"
        },
        "id": "Ip8-g-u--5t2",
        "outputId": "202db793-9bfd-4d92-d9c3-6e1758154c1a"
      },
      "execution_count": null,
      "outputs": [
        {
          "output_type": "stream",
          "name": "stdout",
          "text": [
            "Room 101 booked successfully.\n",
            "Guest John Doe checked in to room 101.\n",
            "Guest John Doe checked out from room 101.\n",
            "Room 101 booked successfully.\n"
          ]
        }
      ]
    },
    {
      "cell_type": "markdown",
      "source": [
        "\n",
        "8. Write a code for Fitness Club Management System using OOPS:"
      ],
      "metadata": {
        "id": "J0cBWsNgA9ol"
      }
    },
    {
      "cell_type": "code",
      "source": [
        "class Member:\n",
        "    def __init__(self, name, age, membership_type):\n",
        "        self.__member_id = id(self)\n",
        "        self.name = name\n",
        "        self.age = age\n",
        "        self.membership_type = membership_type\n",
        "        self.membership_status = \"Active\"\n",
        "\n",
        "    def get_member_id(self):\n",
        "        return self.__member_id\n",
        "\n",
        "    def register(self):\n",
        "        print(f\"Member {self.name} registered successfully with ID: {self.__member_id}\")\n",
        "\n",
        "    def renew_membership(self):\n",
        "        self.membership_status = \"Active\"\n",
        "        print(f\"Membership renewed for {self.name}\")\n",
        "\n",
        "    def cancel_membership(self):\n",
        "        self.membership_status = \"Cancelled\"\n",
        "        print(f\"Membership cancelled for {self.name}\")\n",
        "\n",
        "class FamilyMember(Member):\n",
        "    def __init__(self, name, age, membership_type, family_head_id):\n",
        "        super().__init__(name, age, membership_type)\n",
        "        self.family_head_id = family_head_id\n",
        "\n",
        "class IndividualMember(Member):\n",
        "    def __init__(self, name, age, membership_type):\n",
        "        super().__init__(name, age, membership_type)\n",
        "\n",
        "# Example usage\n",
        "member1 = IndividualMember(\"John Doe\", 30, \"Gold\")\n",
        "member1.register()\n",
        "member1.cancel_membership()\n",
        "member1.renew_membership()\n",
        "\n",
        "family_member1 = FamilyMember(\"Jane Doe\", 25, \"Family\", member1.get_member_id())\n",
        "family_member1.register()\n"
      ],
      "metadata": {
        "colab": {
          "base_uri": "https://localhost:8080/"
        },
        "id": "uXXQo_PTBBH_",
        "outputId": "7bb1178e-b31f-4449-8b59-13a42efe4a97"
      },
      "execution_count": null,
      "outputs": [
        {
          "output_type": "stream",
          "name": "stdout",
          "text": [
            "Member John Doe registered successfully with ID: 137979421706464\n",
            "Membership cancelled for John Doe\n",
            "Membership renewed for John Doe\n",
            "Member Jane Doe registered successfully with ID: 137979421719040\n"
          ]
        }
      ]
    },
    {
      "cell_type": "markdown",
      "source": [
        "\n",
        "9. Write a code for Event Management System using OOPS:"
      ],
      "metadata": {
        "id": "KoYZOx72BMa2"
      }
    },
    {
      "cell_type": "code",
      "source": [
        "import datetime\n",
        "import uuid\n",
        "\n",
        "class Event:\n",
        "    def __init__(self, name, date, time, location):\n",
        "        self._name = name\n",
        "        self._date = date\n",
        "        self._time = time\n",
        "        self._location = location\n",
        "        self._attendees = []\n",
        "        self.__id = str(uuid.uuid4())  # Encapsulated unique identifier\n",
        "\n",
        "    @property\n",
        "    def name(self):\n",
        "        return self._name\n",
        "\n",
        "    @property\n",
        "    def date(self):\n",
        "        return self._date\n",
        "\n",
        "    @property\n",
        "    def time(self):\n",
        "        return self._time\n",
        "\n",
        "    @property\n",
        "    def location(self):\n",
        "        return self._location\n",
        "\n",
        "    def add_attendee(self, attendee):\n",
        "        if attendee not in self._attendees:\n",
        "            self._attendees.append(attendee)\n",
        "            print(f\"{attendee} added to the event.\")\n",
        "        else:\n",
        "            print(f\"{attendee} is already in the attendee list.\")\n",
        "\n",
        "    def remove_attendee(self, attendee):\n",
        "        if attendee in self._attendees:\n",
        "            self._attendees.remove(attendee)\n",
        "            print(f\"{attendee} removed from the event.\")\n",
        "        else:\n",
        "            print(f\"{attendee} is not in the attendee list.\")\n",
        "\n",
        "    def get_total_attendees(self):\n",
        "        return len(self._attendees)\n",
        "\n",
        "    def get_event_details(self):\n",
        "        return f\"Event: {self._name}\\nDate: {self._date}\\nTime: {self._time}\\nLocation: {self._location}\\nTotal Attendees: {self.get_total_attendees()}\"\n",
        "\n",
        "class PrivateEvent(Event):\n",
        "    def __init__(self, name, date, time, location, host):\n",
        "        super().__init__(name, date, time, location)\n",
        "        self._host = host\n",
        "        self._is_invitation_only = True\n",
        "\n",
        "    @property\n",
        "    def host(self):\n",
        "        return self._host\n",
        "\n",
        "    def set_invitation_only(self, status):\n",
        "        self._is_invitation_only = status\n",
        "\n",
        "    def get_event_details(self):\n",
        "        return f\"{super().get_event_details()}\\nHost: {self._host}\\nInvitation Only: {self._is_invitation_only}\"\n",
        "\n",
        "class PublicEvent(Event):\n",
        "    def __init__(self, name, date, time, location, max_capacity):\n",
        "        super().__init__(name, date, time, location)\n",
        "        self._max_capacity = max_capacity\n",
        "        self._is_free = True\n",
        "\n",
        "    @property\n",
        "    def max_capacity(self):\n",
        "        return self._max_capacity\n",
        "\n",
        "    def set_ticket_price(self, price):\n",
        "        if price > 0:\n",
        "            self._is_free = False\n",
        "        else:\n",
        "            self._is_free = True\n",
        "\n",
        "    def get_event_details(self):\n",
        "        return f\"{super().get_event_details()}\\nMax Capacity: {self._max_capacity}\\nFree Event: {self._is_free}\"\n",
        "\n",
        "# Example usage\n",
        "if __name__ == \"__main__\":\n",
        "    # Create a private event\n",
        "    private_party = PrivateEvent(\"Birthday Party\", \"2023-12-15\", \"18:00\", \"123 Main St\", \"John Doe\")\n",
        "    private_party.add_attendee(\"Alice\")\n",
        "    private_party.add_attendee(\"Bob\")\n",
        "    print(private_party.get_event_details())\n",
        "\n",
        "    # Create a public event\n",
        "    public_concert = PublicEvent(\"Summer Concert\", \"2023-07-04\", \"20:00\", \"Central Park\", 1000)\n",
        "    public_concert.add_attendee(\"Charlie\")\n",
        "    public_concert.add_attendee(\"David\")\n",
        "    public_concert.set_ticket_price(25.0)\n",
        "    print(public_concert.get_event_details())"
      ],
      "metadata": {
        "colab": {
          "base_uri": "https://localhost:8080/"
        },
        "id": "ZUgfHTUTBQso",
        "outputId": "dbaa2e38-e499-4819-e1af-561758c2ff17"
      },
      "execution_count": null,
      "outputs": [
        {
          "output_type": "stream",
          "name": "stdout",
          "text": [
            "Alice added to the event.\n",
            "Bob added to the event.\n",
            "Event: Birthday Party\n",
            "Date: 2023-12-15\n",
            "Time: 18:00\n",
            "Location: 123 Main St\n",
            "Total Attendees: 2\n",
            "Host: John Doe\n",
            "Invitation Only: True\n",
            "Charlie added to the event.\n",
            "David added to the event.\n",
            "Event: Summer Concert\n",
            "Date: 2023-07-04\n",
            "Time: 20:00\n",
            "Location: Central Park\n",
            "Total Attendees: 2\n",
            "Max Capacity: 1000\n",
            "Free Event: False\n"
          ]
        }
      ]
    },
    {
      "cell_type": "markdown",
      "source": [
        "\n",
        "10. Write a code for Airline Reservation System using OOPS:"
      ],
      "metadata": {
        "id": "Urrr0CzBKnx-"
      }
    },
    {
      "cell_type": "code",
      "source": [
        "import uuid\n",
        "from datetime import datetime\n",
        "\n",
        "class Flight:\n",
        "    def __init__(self, flight_number, departure_airport, arrival_airport, departure_time, arrival_time, total_seats):\n",
        "        self._flight_number = flight_number\n",
        "        self._departure_airport = departure_airport\n",
        "        self._arrival_airport = arrival_airport\n",
        "        self._departure_time = departure_time\n",
        "        self._arrival_time = arrival_time\n",
        "        self._total_seats = total_seats\n",
        "        self._available_seats = total_seats\n",
        "        self.__id = str(uuid.uuid4())  # Encapsulated unique identifier\n",
        "        self._reservations = {}\n",
        "\n",
        "    @property\n",
        "    def flight_number(self):\n",
        "        return self._flight_number\n",
        "\n",
        "    @property\n",
        "    def departure_airport(self):\n",
        "        return self._departure_airport\n",
        "\n",
        "    @property\n",
        "    def arrival_airport(self):\n",
        "        return self._arrival_airport\n",
        "\n",
        "    @property\n",
        "    def departure_time(self):\n",
        "        return self._departure_time\n",
        "\n",
        "    @property\n",
        "    def arrival_time(self):\n",
        "        return self._arrival_time\n",
        "\n",
        "    def book_seat(self, passenger_name):\n",
        "        if self._available_seats > 0:\n",
        "            reservation_id = str(uuid.uuid4())\n",
        "            self._reservations[reservation_id] = passenger_name\n",
        "            self._available_seats -= 1\n",
        "            return f\"Seat booked for {passenger_name}. Reservation ID: {reservation_id}\"\n",
        "        else:\n",
        "            return \"Sorry, no seats available on this flight.\"\n",
        "\n",
        "    def cancel_reservation(self, reservation_id):\n",
        "        if reservation_id in self._reservations:\n",
        "            passenger_name = self._reservations.pop(reservation_id)\n",
        "            self._available_seats += 1\n",
        "            return f\"Reservation cancelled for {passenger_name}\"\n",
        "        else:\n",
        "            return \"Reservation not found\"\n",
        "\n",
        "    def get_available_seats(self):\n",
        "        return self._available_seats\n",
        "\n",
        "    def get_flight_details(self):\n",
        "        return f\"Flight: {self._flight_number}\\nFrom: {self._departure_airport} To: {self._arrival_airport}\\n\" \\\n",
        "               f\"Departure: {self._departure_time}\\nArrival: {self._arrival_time}\\n\" \\\n",
        "               f\"Available Seats: {self._available_seats}/{self._total_seats}\"\n",
        "\n",
        "class DomesticFlight(Flight):\n",
        "    def __init__(self, flight_number, departure_airport, arrival_airport, departure_time, arrival_time, total_seats, airline):\n",
        "        super().__init__(flight_number, departure_airport, arrival_airport, departure_time, arrival_time, total_seats)\n",
        "        self._airline = airline\n",
        "        self._requires_id = False\n",
        "\n",
        "    @property\n",
        "    def airline(self):\n",
        "        return self._airline\n",
        "\n",
        "    def set_id_requirement(self, requires_id):\n",
        "        self._requires_id = requires_id\n",
        "\n",
        "    def get_flight_details(self):\n",
        "        return f\"{super().get_flight_details()}\\nAirline: {self._airline}\\nID Required: {'Yes' if self._requires_id else 'No'}\"\n",
        "\n",
        "class InternationalFlight(Flight):\n",
        "    def __init__(self, flight_number, departure_airport, arrival_airport, departure_time, arrival_time, total_seats, destination_country):\n",
        "        super().__init__(flight_number, departure_airport, arrival_airport, departure_time, arrival_time, total_seats)\n",
        "        self._destination_country = destination_country\n",
        "        self._visa_required = True\n",
        "\n",
        "    @property\n",
        "    def destination_country(self):\n",
        "        return self._destination_country\n",
        "\n",
        "    def set_visa_requirement(self, visa_required):\n",
        "        self._visa_required = visa_required\n",
        "\n",
        "    def get_flight_details(self):\n",
        "        return f\"{super().get_flight_details()}\\nDestination Country: {self._destination_country}\\nVisa Required: {'Yes' if self._visa_required else 'No'}\"\n",
        "\n",
        "# Example usage\n",
        "if __name__ == \"__main__\":\n",
        "    # Create a domestic flight\n",
        "    domestic = DomesticFlight(\"DA101\", \"New York\", \"Los Angeles\", \"2023-07-01 10:00\", \"2023-07-01 13:00\", 100, \"American Airlines\")\n",
        "    print(domestic.get_flight_details())\n",
        "    print(domestic.book_seat(\"John Doe\"))\n",
        "    print(f\"Available seats: {domestic.get_available_seats()}\")\n",
        "\n",
        "    # Create an international flight\n",
        "    international = InternationalFlight(\"IA202\", \"New York\", \"London\", \"2023-07-02 22:00\", \"2023-07-03 10:00\", 200, \"United Kingdom\")\n",
        "    print(international.get_flight_details())\n",
        "    reservation = international.book_seat(\"Jane Smith\")\n",
        "    print(reservation)\n",
        "    print(f\"Available seats: {international.get_available_seats()}\")\n",
        "    print(international.cancel_reservation(reservation.split()[-1]))  # Cancel the reservation\n",
        "    print(f\"Available seats after cancellation: {international.get_available_seats()}\")"
      ],
      "metadata": {
        "colab": {
          "base_uri": "https://localhost:8080/"
        },
        "id": "CsPETphjKnMp",
        "outputId": "9bc7a89e-c851-4e19-cf0e-c29a1264f422"
      },
      "execution_count": null,
      "outputs": [
        {
          "output_type": "stream",
          "name": "stdout",
          "text": [
            "Flight: DA101\n",
            "From: New York To: Los Angeles\n",
            "Departure: 2023-07-01 10:00\n",
            "Arrival: 2023-07-01 13:00\n",
            "Available Seats: 100/100\n",
            "Airline: American Airlines\n",
            "ID Required: No\n",
            "Seat booked for John Doe. Reservation ID: 8844be61-21f1-41b4-bbe3-27862d92c018\n",
            "Available seats: 99\n",
            "Flight: IA202\n",
            "From: New York To: London\n",
            "Departure: 2023-07-02 22:00\n",
            "Arrival: 2023-07-03 10:00\n",
            "Available Seats: 200/200\n",
            "Destination Country: United Kingdom\n",
            "Visa Required: Yes\n",
            "Seat booked for Jane Smith. Reservation ID: 6700baba-68dd-44f3-ba4c-fa9a2e16eb30\n",
            "Available seats: 199\n",
            "Reservation cancelled for Jane Smith\n",
            "Available seats after cancellation: 200\n"
          ]
        }
      ]
    },
    {
      "cell_type": "markdown",
      "source": [
        "11. Define a Python module named constants.py containing constants like pi and the speed of light.\n"
      ],
      "metadata": {
        "id": "Rp8eWBPqi0JG"
      }
    },
    {
      "cell_type": "code",
      "source": [
        "PI = 3.14159  # Constant for pi\n",
        "\n",
        "SPEED_OF_LIGHT = 299792458  # Constant for speed of light in meters per second\n",
        "\n",
        "# You can add more constants here, following the naming convention of uppercase letters with underscores separating words.\n",
        "GRAVITATIONAL_CONSTANT = 6.6743e-11  # Gravitational constant\n",
        "AVOGADRO_CONSTANT = 6.02214076e23  # Avogadro's constant\n",
        "\n",
        "# Example usage (optional)\n",
        "if __name__ == \"__main__\":\n",
        "    print(f\"Value of pi: {PI}\")\n",
        "    print(f\"Speed of light: {SPEED_OF_LIGHT} m/s\")\n"
      ],
      "metadata": {
        "colab": {
          "base_uri": "https://localhost:8080/"
        },
        "id": "BA3nAreouWA3",
        "outputId": "202a66ca-87bd-478f-e7fd-403b6e4cd608"
      },
      "execution_count": null,
      "outputs": [
        {
          "output_type": "stream",
          "name": "stdout",
          "text": [
            "Value of pi: 3.14159\n",
            "Speed of light: 299792458 m/s\n"
          ]
        }
      ]
    },
    {
      "cell_type": "markdown",
      "source": [
        "12. Write a Python module named calculator.py containing functions for addition, subtraction, multiplication, and division.\n"
      ],
      "metadata": {
        "id": "12YvEVfkucEo"
      }
    },
    {
      "cell_type": "code",
      "source": [
        "def add(x, y):\n",
        "  \"\"\"\n",
        "  This function adds two numbers.\n",
        "\n",
        "  Args:\n",
        "      x: The first number.\n",
        "      y: The second number.\n",
        "\n",
        "  Returns:\n",
        "      The sum of x and y.\n",
        "  \"\"\"\n",
        "  return x + y\n",
        "\n",
        "def subtract(x, y):\n",
        "  \"\"\"\n",
        "  This function subtracts two numbers.\n",
        "\n",
        "  Args:\n",
        "      x: The first number.\n",
        "      y: The second number.\n",
        "\n",
        "  Returns:\n",
        "      The difference of x and y.\n",
        "  \"\"\"\n",
        "  return x - y\n",
        "\n",
        "def multiply(x, y):\n",
        "  \"\"\"\n",
        "  This function multiplies two numbers.\n",
        "\n",
        "  Args:\n",
        "      x: The first number.\n",
        "      y: The second number.\n",
        "\n",
        "  Returns:\n",
        "      The product of x and y.\n",
        "  \"\"\"\n",
        "  return x * y\n",
        "\n",
        "def divide(x, y):\n",
        "  \"\"\"\n",
        "  This function divides two numbers, handling division by zero.\n",
        "\n",
        "  Args:\n",
        "      x: The first number (dividend).\n",
        "      y: The second number (divisor).\n",
        "\n",
        "  Returns:\n",
        "      The quotient of x and y, or an error message for division by zero.\n",
        "  \"\"\"\n",
        "  if y == 0:\n",
        "    return \"Error: Division by zero\"\n",
        "  return x / y\n",
        "\n",
        "# Example usage (optional)\n",
        "if __name__ == \"__main__\":\n",
        "  result = add(5, 3)\n",
        "  print(f\"5 + 3 = {result}\")\n",
        "\n",
        "  result = subtract(10, 2)\n",
        "  print(f\"10 - 2 = {result}\")\n",
        "\n",
        "  result = multiply(4, 6)\n",
        "  print(f\"4 * 6 = {result}\")\n",
        "\n",
        "  result = divide(12, 3)\n",
        "  print(f\"12 / 3 = {result}\")\n",
        "\n",
        "  result = divide(10, 0)\n",
        "  print(result)\n"
      ],
      "metadata": {
        "colab": {
          "base_uri": "https://localhost:8080/"
        },
        "id": "RU40ujmrujDq",
        "outputId": "9c8cd283-fc50-41e9-9cac-789d6da8c25a"
      },
      "execution_count": null,
      "outputs": [
        {
          "output_type": "stream",
          "name": "stdout",
          "text": [
            "5 + 3 = 8\n",
            "10 - 2 = 8\n",
            "4 * 6 = 24\n",
            "12 / 3 = 4.0\n",
            "Error: Division by zero\n"
          ]
        }
      ]
    },
    {
      "cell_type": "markdown",
      "source": [
        "13. Implement a Python package structure for a project named ecommerce, containing modules for product management and order processing.\n"
      ],
      "metadata": {
        "id": "1SPoW6JDuhJ2"
      }
    },
    {
      "cell_type": "code",
      "source": [
        "# ecommerce/product_management/product.py\n",
        "class Product:\n",
        "    def __init__(self, product_id, name, price, quantity):\n",
        "        self.product_id = product_id\n",
        "        self.name = name\n",
        "        self.price = price\n",
        "        self.quantity = quantity\n",
        "\n",
        "# ecommerce/order_processing/order.py\n",
        "class Order:\n",
        "    def __init__(self, order_id, customer):\n",
        "        self.order_id = order_id\n",
        "        self.customer = customer\n",
        "        self.order_items = []\n",
        "\n",
        "    def add_item(self, order_item):\n",
        "        self.order_items.append(order_item)\n"
      ],
      "metadata": {
        "id": "dh4qBLgYy-V8"
      },
      "execution_count": null,
      "outputs": []
    },
    {
      "cell_type": "markdown",
      "source": [
        "14. Implement a Python module named string_utils.py containing functions for string manipulation, such as reversing and capitalizing strings.\n"
      ],
      "metadata": {
        "id": "YUt1eSJEzA84"
      }
    },
    {
      "cell_type": "code",
      "source": [
        "def reverse_string(text):\n",
        "  \"\"\"\n",
        "  This function reverses a string.\n",
        "\n",
        "  Args:\n",
        "      text: The string to be reversed.\n",
        "\n",
        "  Returns:\n",
        "      The reversed string.\n",
        "  \"\"\"\n",
        "  return text[::-1]\n",
        "\n",
        "def capitalize_first(text):\n",
        "  \"\"\"\n",
        "  This function capitalizes the first letter of a string.\n",
        "\n",
        "  Args:\n",
        "      text: The string to be capitalized.\n",
        "\n",
        "  Returns:\n",
        "      The string with the first letter capitalized.\n",
        "  \"\"\"\n",
        "  return text.capitalize()\n",
        "\n",
        "def all_caps(text):\n",
        "  \"\"\"\n",
        "  This function converts a string to uppercase.\n",
        "\n",
        "  Args:\n",
        "      text: The string to be converted.\n",
        "\n",
        "  Returns:\n",
        "      The string in uppercase.\n",
        "  \"\"\"\n",
        "  return text.upper()\n",
        "\n",
        "def all_lowercase(text):\n",
        "  \"\"\"\n",
        "  This function converts a string to lowercase.\n",
        "\n",
        "  Args:\n",
        "      text: The string to be converted.\n",
        "\n",
        "  Returns:\n",
        "      The string in lowercase.\n",
        "  \"\"\"\n",
        "  return text.lower()\n",
        "\n",
        "def remove_whitespace(text):\n",
        "  \"\"\"\n",
        "  This function removes all whitespace characters from a string.\n",
        "\n",
        "  Args:\n",
        "      text: The string from which to remove whitespace.\n",
        "\n",
        "  Returns:\n",
        "      The string with whitespace removed.\n",
        "  \"\"\"\n",
        "  return text.replace(\" \", \"\")\n",
        "\n",
        "# You can add more string manipulation functions here\n",
        "\n",
        "# Example usage (optional)\n",
        "if __name__ == \"__main__\":\n",
        "  original_text = \"Hello, world!\"\n",
        "  reversed_text = reverse_string(original_text)\n",
        "  capitalized_text = capitalize_first(original_text)\n",
        "  uppercase_text = all_caps(original_text)\n",
        "  lowercase_text = all_lowercase(original_text)\n",
        "  no_whitespace = remove_whitespace(original_text)\n",
        "\n",
        "  print(f\"Original: {original_text}\")\n",
        "  print(f\"Reversed: {reversed_text}\")\n",
        "  print(f\"Capitalized first: {capitalized_text}\")\n",
        "  print(f\"All caps: {uppercase_text}\")\n",
        "  print(f\"All lowercase: {lowercase_text}\")\n",
        "  print(f\"No whitespace: {no_whitespace}\")\n"
      ],
      "metadata": {
        "colab": {
          "base_uri": "https://localhost:8080/"
        },
        "id": "kekvJasCzDEr",
        "outputId": "6fb72aad-0b03-4c19-f66a-372e46371212"
      },
      "execution_count": null,
      "outputs": [
        {
          "output_type": "stream",
          "name": "stdout",
          "text": [
            "Original: Hello, world!\n",
            "Reversed: !dlrow ,olleH\n",
            "Capitalized first: Hello, world!\n",
            "All caps: HELLO, WORLD!\n",
            "All lowercase: hello, world!\n",
            "No whitespace: Hello,world!\n"
          ]
        }
      ]
    },
    {
      "cell_type": "markdown",
      "source": [
        "15. Write a Python module named file_operations.py with functions for reading, writing, and appending data to a file.\n"
      ],
      "metadata": {
        "id": "oAVeURv2zE4H"
      }
    },
    {
      "cell_type": "code",
      "source": [
        "def read_file(filename):\n",
        "  \"\"\"\n",
        "  This function reads the contents of a file.\n",
        "\n",
        "  Args:\n",
        "      filename: The path to the file to read.\n",
        "\n",
        "  Returns:\n",
        "      The contents of the file as a string, or None if an error occurs.\n",
        "  \"\"\"\n",
        "  try:\n",
        "    with open(filename, 'r') as file:\n",
        "      return file.read()\n",
        "  except FileNotFoundError:\n",
        "    print(f\"Error: File '{filename}' not found.\")\n",
        "    return None\n",
        "\n",
        "def write_file(filename, content):\n",
        "  \"\"\"\n",
        "  This function writes content to a file, overwriting any existing content.\n",
        "\n",
        "  Args:\n",
        "      filename: The path to the file to write to.\n",
        "      content: The data to write to the file (string).\n",
        "  \"\"\"\n",
        "  try:\n",
        "    with open(filename, 'w') as file:\n",
        "      file.write(content)\n",
        "    print(f\"Data written to file: {filename}\")\n",
        "  except (IOError, OSError) as e:\n",
        "    print(f\"Error writing to file: {e}\")\n",
        "\n",
        "def append_to_file(filename, content):\n",
        "  \"\"\"\n",
        "  This function appends content to a file.\n",
        "\n",
        "  Args:\n",
        "      filename: The path to the file to append to.\n",
        "      content: The data to append to the file (string).\n",
        "  \"\"\"\n",
        "  try:\n",
        "    with open(filename, 'a') as file:\n",
        "      file.write(content)\n",
        "    print(f\"Data appended to file: {filename}\")\n",
        "  except (IOError, OSError) as e:\n",
        "    print(f\"Error appending to file: {e}\")\n"
      ],
      "metadata": {
        "id": "Sjtb9vVQzIQ5"
      },
      "execution_count": null,
      "outputs": []
    },
    {
      "cell_type": "markdown",
      "source": [
        "16. Write a Python program to create a text file named \"employees.txt\" and write the details of employees, including their name, age, and salary, into the file.\n"
      ],
      "metadata": {
        "id": "eDDpW7TRzUig"
      }
    },
    {
      "cell_type": "code",
      "source": [
        "def write_employee_details(filename, employees):\n",
        "  \"\"\"\n",
        "  Writes employee details to a text file.\n",
        "\n",
        "  Args:\n",
        "      filename: The name of the file to write to.\n",
        "      employees: A list of tuples, where each tuple contains employee details (name, age, salary).\n",
        "  \"\"\"\n",
        "  with open(filename, 'w') as file:\n",
        "    for employee in employees:\n",
        "      name, age, salary = employee\n",
        "      file.write(f\"{name},{age},{salary}\\n\")\n",
        "\n",
        "# Example usage\n",
        "employees = [\n",
        "  (\"John Doe\", 30, 50000),\n",
        "  (\"Jane Smith\", 25, 45000),\n",
        "  (\"Alex Brown\", 35, 60000)\n",
        "]\n",
        "\n",
        "write_employee_details(\"employees.txt\", employees)\n"
      ],
      "metadata": {
        "id": "BYtdKuPZzV9d"
      },
      "execution_count": null,
      "outputs": []
    },
    {
      "cell_type": "markdown",
      "source": [
        "17. Develop a Python script that opens an existing text file named \"inventory.txt\" in read mode and displays the contents of the file line by line.\n"
      ],
      "metadata": {
        "id": "LzuC-oVozbGg"
      }
    },
    {
      "cell_type": "code",
      "source": [
        "def read_file_content(filename):\n",
        "  \"\"\"\n",
        "  Reads the contents of a file and displays them line by line.\n",
        "\n",
        "  Args:\n",
        "      filename: The name of the file to read.\n",
        "  \"\"\"\n",
        "  try:\n",
        "    with open(filename, 'r') as file:\n",
        "      for line in file:\n",
        "        print(line.strip())  # Remove trailing newline characters\n",
        "  except FileNotFoundError:\n",
        "    print(f\"Error: File '{filename}' not found.\")\n",
        "\n",
        "# Example usage:\n",
        "read_file_content(\"inventory.txt\")\n"
      ],
      "metadata": {
        "colab": {
          "base_uri": "https://localhost:8080/"
        },
        "id": "cwXcJ77lzn0I",
        "outputId": "2178b255-7238-4340-a4b5-2b2e75339fd7"
      },
      "execution_count": null,
      "outputs": [
        {
          "output_type": "stream",
          "name": "stdout",
          "text": [
            "Error: File 'inventory.txt' not found.\n"
          ]
        }
      ]
    },
    {
      "cell_type": "markdown",
      "source": [
        "18. Create a Python script that reads a text file named \"expenses.txt\" and calculates the total amount spent on various expenses listed in the file.\n"
      ],
      "metadata": {
        "id": "lZkE0xctzqAI"
      }
    },
    {
      "cell_type": "code",
      "source": [
        "def calculate_total_expenses(filename):\n",
        "  \"\"\"\n",
        "  Calculates the total expenses from a text file.\n",
        "\n",
        "  Args:\n",
        "      filename: The name of the file containing expenses.\n",
        "\n",
        "  Returns:\n",
        "      The total amount spent.\n",
        "  \"\"\"\n",
        "  total_expenses = 0\n",
        "  try:\n",
        "    with open(filename, 'r') as file:\n",
        "      for line in file:\n",
        "        try:\n",
        "          amount = float(line.strip())\n",
        "          total_expenses += amount\n",
        "        except ValueError:\n",
        "          print(f\"Invalid amount: {line.strip()}\")\n",
        "  except FileNotFoundError:\n",
        "    print(f\"Error: File '{filename}' not found.\")\n",
        "  return total_expenses\n",
        "\n",
        "# Example usage:\n",
        "total_spent = calculate_total_expenses(\"expenses.txt\")\n",
        "print(\"Total expenses:\", total_spent)\n"
      ],
      "metadata": {
        "colab": {
          "base_uri": "https://localhost:8080/"
        },
        "id": "vnSPiCsBzrug",
        "outputId": "324b9fa5-858a-4340-d1af-10ee358bd374"
      },
      "execution_count": null,
      "outputs": [
        {
          "output_type": "stream",
          "name": "stdout",
          "text": [
            "Error: File 'expenses.txt' not found.\n",
            "Total expenses: 0\n"
          ]
        }
      ]
    },
    {
      "cell_type": "markdown",
      "source": [
        "19. Create a Python program that reads a text file named \"paragraph.txt\" and counts the occurrences of each word in the paragraph, displaying the results in alphabetical order.\n",
        "\n"
      ],
      "metadata": {
        "id": "RkaCpHT7zuIC"
      }
    },
    {
      "cell_type": "code",
      "source": [
        "import collections\n",
        "\n",
        "def count_word_occurrences(filename):\n",
        "  \"\"\"\n",
        "  Counts the occurrences of each word in a text file.\n",
        "\n",
        "  Args:\n",
        "      filename: The name of the file to process.\n",
        "\n",
        "  Returns:\n",
        "      A dictionary containing word counts.\n",
        "  \"\"\"\n",
        "  word_counts = collections.defaultdict(int)\n",
        "  with open(filename, 'r') as file:\n",
        "    for line in file:\n",
        "      words = line.split()\n",
        "      for word in words:\n",
        "        word_counts[word.lower()] += 1  # Convert to lowercase for case-insensitive counting\n",
        "  return word_counts\n",
        "\n",
        "# Example usage:\n",
        "word_counts = count_word_occurrences(\"paragraph.txt\")\n",
        "for word, count in sorted(word_counts.items()):\n",
        "  print(f\"{word}: {count}\")\n"
      ],
      "metadata": {
        "id": "MN98eqz0zvYT"
      },
      "execution_count": null,
      "outputs": []
    },
    {
      "cell_type": "markdown",
      "source": [
        "20. What do you mean by Measure of Central Tendency and Measures of Dispersion .How it can be calculated.\n"
      ],
      "metadata": {
        "id": "fgojnDrx1f_g"
      }
    },
    {
      "cell_type": "markdown",
      "source": [
        "Measures of Central Tendency\n",
        "These statistics provide a single value that represents the center or typical value of a dataset.\n",
        "\n",
        "1. Mean:\n",
        "\n",
        "The average of all values in a dataset.\n",
        "Calculated by summing all values and dividing by the number of values.\n",
        "Sensitive to outliers.\n",
        "2. Median:\n",
        "\n",
        "The middle value of a dataset when sorted in ascending order.\n",
        "Not affected by outliers.\n",
        "3. Mode:\n",
        "\n",
        "The most frequently occurring value in a dataset.\n",
        "Can be multiple modes or no mode.\n",
        "Measures of Dispersion\n",
        "These statistics describe the spread or variability of data points in a dataset.\n",
        "\n",
        "1. Range:\n",
        "\n",
        "The difference between the largest and smallest values in a dataset.\n",
        "Sensitive to outliers.\n",
        "2. Variance:\n",
        "\n",
        "The average of the squared differences from the mean.\n",
        "Measures how far individual data points deviate from the mean.\n",
        "3. Standard Deviation:\n",
        "\n",
        "The square root of the variance.\n",
        "Represents the average distance of data points from the mean."
      ],
      "metadata": {
        "id": "UmrItutX0c1m"
      }
    },
    {
      "cell_type": "code",
      "source": [
        "import statistics\n",
        "\n",
        "def calculate_statistics(data):\n",
        "  mean = sum(data) / len(data)\n",
        "  median = statistics.median(data)\n",
        "  mode = statistics.mode(data)\n",
        "  range_value = max(data) - min(data)\n",
        "  variance = statistics.variance(data)\n",
        "  standard_deviation = statistics.stdev(data)\n",
        "\n",
        "  print(\"Mean:\", mean)\n",
        "  print(\"Median:\", median)\n",
        "  print(\"Mode:\", mode)\n",
        "  print(\"Range:\", range_value)\n",
        "  print(\"Variance:\", variance)\n",
        "  print(\"Standard Deviation:\", standard_deviation)\n",
        "\n",
        "# Example usage:\n",
        "data = [2, 4, 5, 7, 9]\n",
        "calculate_statistics(data)\n"
      ],
      "metadata": {
        "colab": {
          "base_uri": "https://localhost:8080/"
        },
        "id": "vbKSFxLR11KF",
        "outputId": "693cd451-2297-4950-f209-d8b09fc58ea7"
      },
      "execution_count": null,
      "outputs": [
        {
          "output_type": "stream",
          "name": "stdout",
          "text": [
            "Mean: 5.4\n",
            "Median: 5\n",
            "Mode: 2\n",
            "Range: 7\n",
            "Variance: 7.3\n",
            "Standard Deviation: 2.701851217221259\n"
          ]
        }
      ]
    },
    {
      "cell_type": "markdown",
      "source": [
        "21. What do you mean by skewness.Explain its types.Use graph to show.\n"
      ],
      "metadata": {
        "id": "DB0coHt32BFM"
      }
    },
    {
      "cell_type": "markdown",
      "source": [
        "\n",
        "Skewness\n",
        "Skewness is a statistical measure that describes the asymmetry of the probability distribution of a real-valued random variable about its mean. In simpler terms, it measures the distortion or lack of symmetry in a distribution.\n",
        "\n",
        "Types of Skewness\n",
        "Positive Skewness (Right-Skewed):\n",
        "The tail on the right side of the distribution is longer than the left side.\n",
        "The mean is greater than the median.\n",
        "Examples: Income distribution, housing prices.\n",
        "\n",
        "Negative Skewness (Left-Skewed):\n",
        "The tail on the left side of the distribution is longer than the right side.\n",
        "The mean is less than the median.\n",
        "Examples: Exam scores in an easy test, life expectancy.\n",
        "\n",
        "Zero Skewness (Symmetrical):\n",
        "The distribution is symmetrical around the mean.\n",
        "The mean, median, and mode are equal.\n",
        "Example: Normal distribution."
      ],
      "metadata": {
        "id": "pjX9TCS82B4Y"
      }
    },
    {
      "cell_type": "code",
      "source": [
        "import numpy as np\n",
        "import matplotlib.pyplot as plt\n",
        "from scipy.stats import skew\n",
        "\n",
        "def generate_skewed_data(skew_type, size):\n",
        "  if skew_type == \"positive\":\n",
        "    # Exponential distribution often produces positively skewed data\n",
        "    data = np.random.exponential(size=size)\n",
        "  elif skew_type == \"negative\":\n",
        "    # Reflect exponential data for negative skew\n",
        "    data = -np.random.exponential(size=size)\n",
        "  elif skew_type == \"zero\":\n",
        "    # Normal distribution is typically symmetric\n",
        "    data = np.random.randn(size)\n",
        "  else:\n",
        "    raise ValueError(\"Invalid skew type\")\n",
        "  return data\n",
        "\n",
        "# Example usage\n",
        "size = 1000\n",
        "positive_data = generate_skewed_data(\"positive\", size)\n",
        "negative_data = generate_skewed_data(\"negative\", size)\n",
        "symmetric_data = generate_skewed_data(\"zero\", size)\n",
        "\n",
        "# Calculate skewness for verification\n",
        "print(\"Positive skewness:\", skew(positive_data))\n",
        "print(\"Negative skewness:\", skew(negative_data))\n",
        "print(\"Symmetric skewness:\", skew(symmetric_data))\n",
        "\n",
        "# Visualize the distributions\n",
        "plt.figure(figsize=(12, 4))\n",
        "plt.subplot(1, 3, 1)\n",
        "plt.hist(positive_data, bins=30, density=True)\n",
        "plt.title(\"Positive Skewness\")\n",
        "\n",
        "plt.subplot(1, 3, 2)\n",
        "plt.hist(negative_data, bins=30, density=True)\n",
        "plt.title(\"Negative Skewness\")\n",
        "\n",
        "plt.subplot(1, 3, 3)\n",
        "plt.hist(symmetric_data, bins=30, density=True)\n",
        "plt.title(\"Symmetric Skewness\")\n",
        "\n",
        "plt.show()\n"
      ],
      "metadata": {
        "colab": {
          "base_uri": "https://localhost:8080/",
          "height": 387
        },
        "id": "yhKSint92Pns",
        "outputId": "5d9119a5-e3ab-4e90-ba14-5dc269137ec2"
      },
      "execution_count": null,
      "outputs": [
        {
          "output_type": "stream",
          "name": "stdout",
          "text": [
            "Positive skewness: 1.8914649227544909\n",
            "Negative skewness: -1.5632636271219444\n",
            "Symmetric skewness: -0.02454996030640347\n"
          ]
        },
        {
          "output_type": "display_data",
          "data": {
            "text/plain": [
              "<Figure size 1200x400 with 3 Axes>"
            ],
            "image/png": "[encoded data removed]"
          },
          "metadata": {}
        }
      ]
    },
    {
      "cell_type": "markdown",
      "source": [
        "22. Explain PROBABILITY MASS FUNCTION (PMF) and PROBABILITY DENSITY FUNCTION (PDF). and what is the difference between them?\n"
      ],
      "metadata": {
        "id": "Lw4yJhb42_ss"
      }
    },
    {
      "cell_type": "markdown",
      "source": [
        "Probability Mass Function (PMF)\n",
        "A Probability Mass Function (PMF) is used to describe the probability distribution of a discrete random variable. It assigns probabilities to each possible value that the random variable can take.\n",
        "\n",
        "Key points:\n",
        "\n",
        "Used for discrete random variables (e.g., coin flips, dice rolls)\n",
        "Probability of each value is between 0 and 1\n",
        "Sum of all probabilities equals 1\n",
        "Probability Density Function (PDF)\n",
        "A Probability Density Function (PDF) is used to describe the probability distribution of a continuous random variable. It represents the probability of the random variable falling within a particular range of values.\n",
        "\n",
        "Key points:\n",
        "\n",
        "Used for continuous random variables (e.g., height, weight, time)\n",
        "Probability of a specific value is zero (since there are infinite possible values)\n",
        "The area under the PDF curve within a given interval represents the probability of the random variable falling within that interval\n",
        "The total area under the PDF curve is equal to 1"
      ],
      "metadata": {
        "id": "JwfpEmWqMW7M"
      }
    },
    {
      "cell_type": "markdown",
      "source": [
        "23. What is correlation. Explain its type in details.what are the methods of determining correlation\n"
      ],
      "metadata": {
        "id": "Etknc2LsMzK_"
      }
    },
    {
      "cell_type": "markdown",
      "source": [
        "Correlation is a statistical measure that indicates the extent to which two or more variables fluctuate together. In other words, it measures the strength and direction of the relationship between two variables.\n",
        "\n",
        "Types of Correlation\n",
        "Positive Correlation: When two variables move in the same direction. If one increases, the other tends to increase as well. For example, height and weight.\n",
        "Negative Correlation: When two variables move in opposite directions. If one increases, the other tends to decrease. For example, smoking and life expectancy.\n",
        "No Correlation: When there is no relationship between the two variables.\n",
        "Methods of Determining Correlation\n",
        "Scatter Plot:\n",
        "\n",
        "A visual representation of the relationship between two variables.\n",
        "Points that cluster in a linear pattern indicate a correlation.\n",
        "The slope of the line suggests the direction (positive or negative) of the correlation.\n",
        "Correlation Coefficient:\n",
        "\n",
        "A numerical measure of the strength and direction of the linear relationship between two variables.\n",
        "Ranges from -1 to +1.\n",
        "Pearson's correlation coefficient: Used for continuous variables with a linear relationship.\n",
        "Spearman's rank correlation coefficient: Used for ordinal or ranked data."
      ],
      "metadata": {
        "id": "4oE6GdS6M0MU"
      }
    },
    {
      "cell_type": "markdown",
      "source": [
        "24. Calculate coefficient of correlation between the marks obtained by 10 students in Accountancy and statistics:\n"
      ],
      "metadata": {
        "id": "OhnXO3JGNOXu"
      }
    },
    {
      "cell_type": "code",
      "source": [
        "import numpy as np\n",
        "from scipy import stats\n",
        "\n",
        "# Data from the question\n",
        "accountancy_marks = np.array([45, 70, 65, 30, 90, 40, 50, 75, 85, 60])\n",
        "statistics_marks = np.array([35, 90, 70, 40, 95, 40, 60, 80, 80, 50])\n",
        "\n",
        "# Calculate correlation coefficient using NumPy\n",
        "correlation_coefficient_np = np.corrcoef(accountancy_marks, statistics_marks)[0, 1]\n",
        "\n",
        "# Calculate correlation coefficient using SciPy\n",
        "correlation_coefficient_sp, p_value = stats.pearsonr(accountancy_marks, statistics_marks)\n",
        "\n",
        "print(f\"Correlation coefficient (NumPy): {correlation_coefficient_np:.4f}\")\n",
        "print(f\"Correlation coefficient (SciPy): {correlation_coefficient_sp:.4f}\")\n",
        "print(f\"P-value: {p_value:.4f}\")\n",
        "\n",
        "# Additional statistics\n",
        "print(\"\\nAdditional Statistics:\")\n",
        "print(f\"Accountancy - Mean: {np.mean(accountancy_marks):.2f}, Std Dev: {np.std(accountancy_marks):.2f}\")\n",
        "print(f\"Statistics - Mean: {np.mean(statistics_marks):.2f}, Std Dev: {np.std(statistics_marks):.2f}\")\n",
        "\n",
        "# Visualize the correlation\n",
        "import matplotlib.pyplot as plt\n",
        "\n",
        "plt.figure(figsize=(10, 6))\n",
        "plt.scatter(accountancy_marks, statistics_marks)\n",
        "plt.xlabel('Accountancy Marks')\n",
        "plt.ylabel('Statistics Marks')\n",
        "plt.title('Correlation between Accountancy and Statistics Marks')\n",
        "\n",
        "# Add regression line\n",
        "z = np.polyfit(accountancy_marks, statistics_marks, 1)\n",
        "p = np.poly1d(z)\n",
        "plt.plot(accountancy_marks, p(accountancy_marks), \"r--\")\n",
        "\n",
        "plt.tight_layout()\n",
        "plt.show()"
      ],
      "metadata": {
        "colab": {
          "base_uri": "https://localhost:8080/",
          "height": 749
        },
        "id": "63tT2t7wNO91",
        "outputId": "7856e708-a8fb-4ce9-be9a-7b82fb175872"
      },
      "execution_count": null,
      "outputs": [
        {
          "output_type": "stream",
          "name": "stdout",
          "text": [
            "Correlation coefficient (NumPy): 0.9031\n",
            "Correlation coefficient (SciPy): 0.9031\n",
            "P-value: 0.0003\n",
            "\n",
            "Additional Statistics:\n",
            "Accountancy - Mean: 61.00, Std Dev: 18.68\n",
            "Statistics - Mean: 64.00, Std Dev: 20.95\n"
          ]
        },
        {
          "output_type": "display_data",
          "data": {
            "text/plain": [
              "<Figure size 1000x600 with 1 Axes>"
            ],
            "image/png": "[encoded data removed]"
          },
          "metadata": {}
        }
      ]
    },
    {
      "cell_type": "markdown",
      "source": [
        "25. Discuss the 4 differences between correlation and regression.\n"
      ],
      "metadata": {
        "id": "IE4d_8RkOPhY"
      }
    },
    {
      "cell_type": "markdown",
      "source": [
        "\n",
        "### 1. Nature of relationship\n",
        "* **Correlation:** Measures the strength and direction of the linear relationship between two variables. It doesn't imply causation.\n",
        "* **Regression:** Establishes a mathematical relationship between variables, allowing prediction of one variable based on the other. It implies a causal relationship between the variables.\n",
        "\n",
        "### 2. Direction of analysis\n",
        "* **Correlation:** Treats both variables symmetrically. The correlation between X and Y is the same as the correlation between Y and X.\n",
        "* **Regression:** Distinguishes between dependent and independent variables. The relationship is modeled as Y = f(X), where Y is the dependent variable and X is the independent variable.\n",
        "\n",
        "### 3. Output\n",
        "* **Correlation:** Produces a single value, the correlation coefficient (r), which ranges from -1 to +1.\n",
        "* **Regression:** Produces an equation representing the relationship between the variables. The equation can be used to make predictions.\n",
        "\n",
        "### 4. Purpose\n",
        "* **Correlation:** Used to understand the strength and direction of the relationship between variables.\n",
        "* **Regression:** Used to predict the value of one variable based on the value of another variable.\n"
      ],
      "metadata": {
        "id": "zYYw37F9OQTZ"
      }
    },
    {
      "cell_type": "markdown",
      "source": [
        "26. Find the most likely price at Delhi corresponding to the price of Rs. 70 at Agra from the following data: Coefficient of correlation between the prices of the two places +0.8.\n"
      ],
      "metadata": {
        "id": "cHRDes80Obgw"
      }
    },
    {
      "cell_type": "code",
      "source": [
        "import numpy as np\n",
        "\n",
        "# Given data\n",
        "mean_agra = 60\n",
        "std_agra = 10\n",
        "mean_delhi = 75\n",
        "std_delhi = 15\n",
        "correlation_coefficient = 0.8\n",
        "price_agra = 70\n",
        "\n",
        "# Calculate the most likely price at Delhi\n",
        "price_delhi = mean_delhi + correlation_coefficient * (std_delhi / std_agra) * (price_agra - mean_agra)\n",
        "\n",
        "print(f\"The most likely price at Delhi corresponding to the price of Rs. 70 at Agra is Rs. {price_delhi:.2f}\")\n"
      ],
      "metadata": {
        "colab": {
          "base_uri": "https://localhost:8080/"
        },
        "id": "W6ZNfj3jQN6t",
        "outputId": "bfa9ab5d-8e40-480d-89b5-f876b83cc638"
      },
      "execution_count": null,
      "outputs": [
        {
          "output_type": "stream",
          "name": "stdout",
          "text": [
            "The most likely price at Delhi corresponding to the price of Rs. 70 at Agra is Rs. 87.00\n"
          ]
        }
      ]
    },
    {
      "cell_type": "markdown",
      "source": [
        "27. In a partially destroyed laboratory record of an analysis of correlation data, the following results only are legible: Variance of x = 9, Regression equations are: (i) 8x-10y=-66; (ii) 40x - 18y = 214. What are (a) the mean values of x and y, (b) the coefficient of correlation between x and y, (c) the σ of y.\n"
      ],
      "metadata": {
        "id": "0azSUtkrujO3"
      }
    },
    {
      "cell_type": "code",
      "source": [
        "import numpy as np\n",
        "\n",
        "# Given equations:\n",
        "# 1) 8x - 10y = -66\n",
        "# 2) 40x - 18y = 214\n",
        "\n",
        "# Solve for mean values of x and y\n",
        "A = np.array([[8, -10], [40, -18]])\n",
        "B = np.array([-66, 214])\n",
        "mean_values = np.linalg.solve(A, B)\n",
        "mean_x, mean_y = mean_values\n",
        "\n",
        "print(f\"Mean values: x̄ = {mean_x}, ȳ = {mean_y}\")\n",
        "\n",
        "# Calculate regression coefficients\n",
        "# Equation 1 can be rewritten as y = (8/10)x + 66/10\n",
        "b_xy = 8 / 10\n",
        "\n",
        "# Equation 2 can be rewritten as x = (18/40)y - 214/40\n",
        "b_yx = 18 / 40\n",
        "\n",
        "# Calculate the coefficient of correlation\n",
        "r = np.sqrt(b_xy * b_yx)\n",
        "\n",
        "print(f\"Coefficient of correlation: r = {r}\")\n",
        "\n",
        "# Given variance of x (σ_x^2 = 9), so σ_x = sqrt(9) = 3\n",
        "sigma_x = np.sqrt(9)\n",
        "\n",
        "# Calculate the standard deviation of y\n",
        "sigma_y = b_xy * sigma_x / r\n",
        "\n",
        "print(f\"Standard deviation of y: σ_y = {sigma_y}\")\n"
      ],
      "metadata": {
        "colab": {
          "base_uri": "https://localhost:8080/"
        },
        "id": "F4wEhd-cukBj",
        "outputId": "e593cdaa-f292-47ab-f1a7-207bcd003e3d"
      },
      "execution_count": null,
      "outputs": [
        {
          "output_type": "stream",
          "name": "stdout",
          "text": [
            "Mean values: x̄ = 13.0, ȳ = 17.0\n",
            "Coefficient of correlation: r = 0.6000000000000001\n",
            "Standard deviation of y: σ_y = 4.0\n"
          ]
        }
      ]
    },
    {
      "cell_type": "markdown",
      "source": [
        "28. What is Normal Distribution? What are the four Assumptions of Normal Distribution? Explain in detail.\n"
      ],
      "metadata": {
        "id": "MFJ5ZS2avNYy"
      }
    },
    {
      "cell_type": "markdown",
      "source": [
        "Normal distribution, also known as Gaussian distribution or bell curve, is a probability distribution that is symmetrical around the mean. The data near the mean occur more frequently than data far from the mean. It's a fundamental concept in statistics and is widely used in various fields due to its properties and applicability.\n",
        "\n",
        "1.They’re all unimodal, symmetric bell curves. The Gaussian distribution cannot model skewed distributions.\n",
        "2. The mean, median, and mode are all equal.\n",
        "3. Half of the population is less than the mean and half is greater than the mean.\n",
        "4. The Empirical Rule allows you to determine the proportion of values that fall within certain distances from the mean."
      ],
      "metadata": {
        "id": "y5_FJFGavSLh"
      }
    },
    {
      "cell_type": "markdown",
      "source": [
        "29. Write all the characteristics or Properties of the Normal Distribution Curve.\n"
      ],
      "metadata": {
        "id": "ld_Ck55FyG4j"
      }
    },
    {
      "cell_type": "markdown",
      "source": [
        "\n",
        "The normal distribution curve, often referred to as the bell curve, possesses several distinct properties:\n",
        "\n",
        "### Shape\n",
        "* **Bell-shaped:** The curve is symmetrical and resembles a bell.\n",
        "* **Unimodal:** It has a single peak, representing the mean, median, and mode.\n",
        "\n",
        "### Symmetry\n",
        "* **Symmetrical:** The curve is perfectly symmetrical around the mean. The left and right halves are mirror images of each other.\n",
        "\n",
        "### Mean, Median, and Mode\n",
        "* **Equal:** In a normal distribution, the mean, median, and mode are identical.\n",
        "\n",
        "### Empirical Rule (68-95-99.7 Rule)\n",
        "* Approximately 68% of the data falls within one standard deviation of the mean.\n",
        "* Approximately 95% of the data falls within two standard deviations of the mean.\n",
        "* Approximately 99.7% of the data falls within three standard deviations of the mean.\n",
        "\n",
        "### Inflection Points\n",
        "* The curve changes concavity at points located one standard deviation away from the mean. These points are called inflection points.\n",
        "\n",
        "### Asymptotic to the x-axis\n",
        "* The curve approaches the x-axis but never touches it, extending infinitely in both directions.\n",
        "\n",
        "### Area Under the Curve\n",
        "* The total area under the normal curve is equal to 1.\n"
      ],
      "metadata": {
        "id": "m6jWEDb7ydWp"
      }
    },
    {
      "cell_type": "markdown",
      "source": [
        "30. Which of the following options are correct about Normal Distribution Curve.\n"
      ],
      "metadata": {
        "id": "90jQ4Kmw0c2H"
      }
    },
    {
      "cell_type": "markdown",
      "source": [
        "The correct options are: (b), (c), (d), and (e).\n",
        "\n",
        "\n"
      ],
      "metadata": {
        "id": "uutaC7KE0fdt"
      }
    },
    {
      "cell_type": "markdown",
      "source": [
        "31. The mean of a distribution is 60 with a standard deviation of 10. Assuming that the distribution is normal, what percentage of items be (i) between 60 and 72, (ii) between 50 and 60, (iii) beyond 72 and (iv) between 70 and 80?\n"
      ],
      "metadata": {
        "id": "ZETXTIcs11IT"
      }
    },
    {
      "cell_type": "code",
      "source": [
        "import scipy.stats as stats\n",
        "\n",
        "# Given data\n",
        "mean = 60\n",
        "std_dev = 10\n",
        "\n",
        "def calculate_z_score(x):\n",
        "    return (x - mean) / std_dev\n",
        "\n",
        "def calculate_percentage_between(lower, upper):\n",
        "    z_lower = calculate_z_score(lower)\n",
        "    z_upper = calculate_z_score(upper)\n",
        "    percentage = (stats.norm.cdf(z_upper) - stats.norm.cdf(z_lower)) * 100\n",
        "    return percentage\n",
        "\n",
        "def calculate_percentage_beyond(x):\n",
        "    z_score = calculate_z_score(x)\n",
        "    percentage = (1 - stats.norm.cdf(z_score)) * 100\n",
        "    return percentage\n",
        "\n",
        "# Calculate percentages for each scenario\n",
        "percentage_60_to_72 = calculate_percentage_between(60, 72)\n",
        "percentage_50_to_60 = calculate_percentage_between(50, 60)\n",
        "percentage_beyond_72 = calculate_percentage_beyond(72)\n",
        "percentage_70_to_80 = calculate_percentage_between(70, 80)\n",
        "\n",
        "# Print results\n",
        "print(f\"(i) Percentage between 60 and 72: {percentage_60_to_72:.2f}%\")\n",
        "print(f\"(ii) Percentage between 50 and 60: {percentage_50_to_60:.2f}%\")\n",
        "print(f\"(iii) Percentage beyond 72: {percentage_beyond_72:.2f}%\")\n",
        "print(f\"(iv) Percentage between 70 and 80: {percentage_70_to_80:.2f}%\")"
      ],
      "metadata": {
        "colab": {
          "base_uri": "https://localhost:8080/"
        },
        "id": "5uz63ZZkSJtW",
        "outputId": "34f0515e-f9dc-4193-bb98-1e3a10eb13f9"
      },
      "execution_count": null,
      "outputs": [
        {
          "output_type": "stream",
          "name": "stdout",
          "text": [
            "(i) Percentage between 60 and 72: 38.49%\n",
            "(ii) Percentage between 50 and 60: 34.13%\n",
            "(iii) Percentage beyond 72: 11.51%\n",
            "(iv) Percentage between 70 and 80: 13.59%\n"
          ]
        }
      ]
    },
    {
      "cell_type": "markdown",
      "source": [
        "32. 15000 students sat for an examination. The mean marks was 49 and the distribution of marks had a standard deviation of 6. Assuming that the marks were normally distributed what proportion of students scored (a) more than 55 marks, (b) more than 70 marks\n"
      ],
      "metadata": {
        "id": "4U6sqgNCRL6r"
      }
    },
    {
      "cell_type": "code",
      "source": [
        "import scipy.stats as stats\n",
        "\n",
        "# Given data\n",
        "total_students = 15000\n",
        "mean_marks = 49\n",
        "std_dev = 6\n",
        "\n",
        "def calculate_proportion_above(score):\n",
        "    # Calculate z-score\n",
        "    z_score = (score - mean_marks) / std_dev\n",
        "\n",
        "    # Calculate the area to the right of the z-score (1 - cdf)\n",
        "    proportion = 1 - stats.norm.cdf(z_score)\n",
        "\n",
        "    return proportion\n",
        "\n",
        "# Calculate proportions\n",
        "proportion_above_55 = calculate_proportion_above(55)\n",
        "proportion_above_70 = calculate_proportion_above(70)\n",
        "\n",
        "# Convert to percentages\n",
        "percentage_above_55 = proportion_above_55 * 100\n",
        "percentage_above_70 = proportion_above_70 * 100\n",
        "\n",
        "# Calculate number of students\n",
        "students_above_55 = int(proportion_above_55 * total_students)\n",
        "students_above_70 = int(proportion_above_70 * total_students)\n",
        "\n",
        "# Print results\n",
        "print(f\"(a) Proportion of students scoring more than 55 marks: {proportion_above_55:.4f}\")\n",
        "print(f\"   Percentage: {percentage_above_55:.2f}%\")\n",
        "print(f\"   Number of students: {students_above_55}\")\n",
        "\n",
        "print(f\"\\n(b) Proportion of students scoring more than 70 marks: {proportion_above_70:.4f}\")\n",
        "print(f\"   Percentage: {percentage_above_70:.2f}%\")\n",
        "print(f\"   Number of students: {students_above_70}\")"
      ],
      "metadata": {
        "colab": {
          "base_uri": "https://localhost:8080/"
        },
        "id": "_4Ff434pRz9h",
        "outputId": "010901c7-98bb-4f8c-b763-9ce7fbba9820"
      },
      "execution_count": null,
      "outputs": [
        {
          "output_type": "stream",
          "name": "stdout",
          "text": [
            "(a) Proportion of students scoring more than 55 marks: 0.1587\n",
            "   Percentage: 15.87%\n",
            "   Number of students: 2379\n",
            "\n",
            "(b) Proportion of students scoring more than 70 marks: 0.0002\n",
            "   Percentage: 0.02%\n",
            "   Number of students: 3\n"
          ]
        }
      ]
    },
    {
      "cell_type": "markdown",
      "source": [
        "33. If the height of 500 students are normally distributed with mean 65 inch and standard deviation 5 inch. How many students have height: a) greater than 70 inch. b) between 60 and 70 inch.\n"
      ],
      "metadata": {
        "id": "UeNwMFk2RSw9"
      }
    },
    {
      "cell_type": "code",
      "source": [
        "import scipy.stats as stats\n",
        "import math\n",
        "\n",
        "# Given data\n",
        "total_students = 500\n",
        "mean_height = 65  # inches\n",
        "std_dev = 5  # inches\n",
        "\n",
        "def calculate_z_score(x):\n",
        "    return (x - mean_height) / std_dev\n",
        "\n",
        "def calculate_students_above(height):\n",
        "    z_score = calculate_z_score(height)\n",
        "    proportion = 1 - stats.norm.cdf(z_score)\n",
        "    return math.ceil(proportion * total_students)\n",
        "\n",
        "def calculate_students_between(lower, upper):\n",
        "    z_lower = calculate_z_score(lower)\n",
        "    z_upper = calculate_z_score(upper)\n",
        "    proportion = stats.norm.cdf(z_upper) - stats.norm.cdf(z_lower)\n",
        "    return math.ceil(proportion * total_students)\n",
        "\n",
        "# Calculate number of students for each scenario\n",
        "students_above_70 = calculate_students_above(70)\n",
        "students_60_to_70 = calculate_students_between(60, 70)\n",
        "\n",
        "# Print results\n",
        "print(f\"a) Number of students with height greater than 70 inches: {students_above_70}\")\n",
        "print(f\"b) Number of students with height between 60 and 70 inches: {students_60_to_70}\")\n",
        "\n",
        "# Calculate percentages for additional context\n",
        "percentage_above_70 = (students_above_70 / total_students) * 100\n",
        "percentage_60_to_70 = (students_60_to_70 / total_students) * 100\n",
        "\n",
        "print(f\"\\nPercentage of students with height greater than 70 inches: {percentage_above_70:.2f}%\")\n",
        "print(f\"Percentage of students with height between 60 and 70 inches: {percentage_60_to_70:.2f}%\")"
      ],
      "metadata": {
        "colab": {
          "base_uri": "https://localhost:8080/"
        },
        "id": "3joMC-IxSQyn",
        "outputId": "bce2fbf7-39d8-400d-88c7-0aa567b7d6ce"
      },
      "execution_count": null,
      "outputs": [
        {
          "output_type": "stream",
          "name": "stdout",
          "text": [
            "a) Number of students with height greater than 70 inches: 80\n",
            "b) Number of students with height between 60 and 70 inches: 342\n",
            "\n",
            "Percentage of students with height greater than 70 inches: 16.00%\n",
            "Percentage of students with height between 60 and 70 inches: 68.40%\n"
          ]
        }
      ]
    },
    {
      "cell_type": "markdown",
      "source": [
        "34. What is the statistical hypothesis? Explain the errors in hypothesis testing.b) Explain the Sample. What are Large Samples & Small Samples?\n"
      ],
      "metadata": {
        "id": "zGmoWU6BSXKQ"
      }
    },
    {
      "cell_type": "markdown",
      "source": [
        "Statistical Hypothesis\n",
        "A statistical hypothesis is a claim or statement about a population parameter.\n",
        "\n",
        " It is used to make inferences about a population based on sample data.\n",
        "\n",
        "There are two types of hypotheses:\n",
        "\n",
        "Null hypothesis (H0): A statement of no effect or no difference between groups.\n",
        "Alternative hypothesis (H1 or Ha): A statement that contradicts the null hypothesis.\n",
        "Example:\n",
        "\n",
        "H0: There is no difference in average heights between men and women.\n",
        "H1: There is a difference in average heights between men and women.\n",
        "\n",
        "Errors in Hypothesis Testing\n",
        "Type I Error: Rejecting a true null hypothesis.\n",
        "\n",
        "This is equivalent to a false positive.\n",
        "Type II Error: Failing to reject a false null hypothesis. This is equivalent to a false negative.\n",
        "\n",
        "Sample\n",
        "\n",
        "A sample is a subset of a population used to draw inferences about the entire population. It's essential to ensure that the sample is representative of the population to avoid biased results.\n",
        "\n",
        "Large Samples vs. Small Samples\n",
        "The size of a sample influences the reliability of statistical inferences.\n",
        "\n",
        "Large Samples:\n",
        "Provide more accurate estimates of population parameters.\n",
        "Typically follow a normal distribution (Central Limit Theorem).\n",
        "Allow for more precise hypothesis testing.\n",
        "\n",
        "Small Samples:\n",
        "May not accurately represent the population.\n",
        "Require different statistical tests (e.g., t-test instead of z-test).\n",
        "Have a higher chance of type II error."
      ],
      "metadata": {
        "id": "eEil_tDlTSQR"
      }
    },
    {
      "cell_type": "markdown",
      "source": [
        "35.A random sample of size 25 from a population gives the sample standard derivation to be 9.0. Test the hypothesis that the population standard derivation is 10.5."
      ],
      "metadata": {
        "id": "araWJPRjUVtd"
      }
    },
    {
      "cell_type": "code",
      "source": [
        "import scipy.stats as stats\n",
        "\n",
        "# Given data\n",
        "n = 25\n",
        "sample_std_dev = 9.0\n",
        "population_std_dev = 10.5\n",
        "\n",
        "# Calculate the chi-square test statistic\n",
        "chi_square_statistic = (n - 1) * (sample_std_dev ** 2) / (population_std_dev ** 2)\n",
        "df = n - 1\n",
        "\n",
        "# Significance level\n",
        "alpha = 0.05\n",
        "\n",
        "# Critical values from the chi-square distribution\n",
        "chi_square_critical_low = stats.chi2.ppf(alpha / 2, df)\n",
        "chi_square_critical_high = stats.chi2.ppf(1 - alpha / 2, df)\n",
        "\n",
        "# Output results\n",
        "print(f\"Chi-square statistic: {chi_square_statistic:.2f}\")\n",
        "print(f\"Critical value (low): {chi_square_critical_low:.2f}\")\n",
        "print(f\"Critical value (high): {chi_square_critical_high:.2f}\")\n",
        "\n",
        "# Decision\n",
        "if chi_square_statistic < chi_square_critical_low or chi_square_statistic > chi_square_critical_high:\n",
        "    print(\"Reject the null hypothesis: The population standard deviation is not 10.5.\")\n",
        "else:\n",
        "    print(\"Fail to reject the null hypothesis: The population standard deviation is 10.5.\")\n"
      ],
      "metadata": {
        "id": "kxZVyv1EdNCi",
        "outputId": "c6f4109b-5be5-473b-f9d8-e36e3030d8a1",
        "colab": {
          "base_uri": "https://localhost:8080/"
        }
      },
      "execution_count": null,
      "outputs": [
        {
          "output_type": "stream",
          "name": "stdout",
          "text": [
            "Chi-square statistic: 17.63\n",
            "Critical value (low): 12.40\n",
            "Critical value (high): 39.36\n",
            "Fail to reject the null hypothesis: The population standard deviation is 10.5.\n"
          ]
        }
      ]
    },
    {
      "cell_type": "markdown",
      "source": [
        "37.100 students of a PW IOI obtained the following grades in Data Science paper: Grade"
      ],
      "metadata": {
        "id": "GIqAJsmh-cqO"
      }
    },
    {
      "cell_type": "code",
      "source": [
        "import numpy as np\n",
        "import scipy.stats as stats\n",
        "\n",
        "# Given data\n",
        "observed_frequencies = np.array([15, 17, 30, 22, 16])\n",
        "total_students = 100\n",
        "number_of_grades = 5\n",
        "\n",
        "# Calculate the expected frequencies\n",
        "expected_frequency = total_students / number_of_grades\n",
        "expected_frequencies = np.full(number_of_grades, expected_frequency)\n",
        "\n",
        "# Calculate the chi-square test statistic\n",
        "chi_square_statistic = np.sum((observed_frequencies - expected_frequencies)**2 / expected_frequencies)\n",
        "df = number_of_grades - 1\n",
        "\n",
        "# Significance level\n",
        "alpha = 0.05\n",
        "\n",
        "# Critical value from the chi-square distribution\n",
        "critical_value = stats.chi2.ppf(1 - alpha, df)\n",
        "\n",
        "# Output results\n",
        "print(f\"Chi-square statistic: {chi_square_statistic:.2f}\")\n",
        "print(f\"Critical value: {critical_value:.2f}\")\n",
        "\n",
        "# Decision\n",
        "if chi_square_statistic > critical_value:\n",
        "    print(\"Reject the null hypothesis: The distribution of grades is not uniform.\")\n",
        "else:\n",
        "    print(\"Fail to reject the null hypothesis: The distribution of grades is uniform.\")\n"
      ],
      "metadata": {
        "colab": {
          "base_uri": "https://localhost:8080/"
        },
        "id": "7HlYsxKr-38X",
        "outputId": "d39633cf-0f3f-4bbb-ec5e-8a875eb6ace5"
      },
      "execution_count": null,
      "outputs": [
        {
          "output_type": "stream",
          "name": "stdout",
          "text": [
            "Chi-square statistic: 7.70\n",
            "Critical value: 9.49\n",
            "Fail to reject the null hypothesis: The distribution of grades is uniform.\n"
          ]
        }
      ]
    },
    {
      "cell_type": "markdown",
      "source": [
        "38.Anova Test:\n",
        "To study the performance of three detergents and three different water temperatures the following whiteness readings were obtained with specially designed equipment."
      ],
      "metadata": {
        "id": "T3IYRt56dR9H"
      }
    },
    {
      "cell_type": "code",
      "source": [
        "import numpy as np\n",
        "import pandas as pd\n",
        "import scipy.stats as stats\n",
        "from statsmodels.stats.multicomp import pairwise_tukeyhsd\n",
        "\n",
        "# Create the dataframe\n",
        "data = pd.DataFrame({\n",
        "    'Detergent': ['A', 'A', 'A', 'B', 'B', 'B', 'C', 'C', 'C'],\n",
        "    'Temperature': ['Cold', 'Warm', 'Hot', 'Cold', 'Warm', 'Hot', 'Cold', 'Warm', 'Hot'],\n",
        "    'Whiteness': [57, 49, 54, 55, 52, 46, 67, 68, 58]\n",
        "})\n",
        "\n",
        "# Perform one-way ANOVA for Detergent\n",
        "detergent_groups = [group['Whiteness'].values for name, group in data.groupby('Detergent')]\n",
        "f_statistic_detergent, p_value_detergent = stats.f_oneway(*detergent_groups)\n",
        "\n",
        "# Perform one-way ANOVA for Temperature\n",
        "temperature_groups = [group['Whiteness'].values for name, group in data.groupby('Temperature')]\n",
        "f_statistic_temperature, p_value_temperature = stats.f_oneway(*temperature_groups)\n",
        "\n",
        "print(\"One-way ANOVA results:\")\n",
        "print(\"\\nDetergent effect:\")\n",
        "print(f\"F-statistic: {f_statistic_detergent:.4f}\")\n",
        "print(f\"p-value: {p_value_detergent:.4f}\")\n",
        "\n",
        "print(\"\\nTemperature effect:\")\n",
        "print(f\"F-statistic: {f_statistic_temperature:.4f}\")\n",
        "print(f\"p-value: {p_value_temperature:.4f}\")\n",
        "\n",
        "# Post-hoc analysis\n",
        "tukey_detergent = pairwise_tukeyhsd(endog=data['Whiteness'], groups=data['Detergent'])\n",
        "tukey_temperature = pairwise_tukeyhsd(endog=data['Whiteness'], groups=data['Temperature'])\n",
        "\n",
        "print(\"\\nTukey HSD for Detergents:\")\n",
        "print(tukey_detergent)\n",
        "\n",
        "print(\"\\nTukey HSD for Temperatures:\")\n",
        "print(tukey_temperature)\n",
        "\n",
        "# Calculate means for each group\n",
        "detergent_means = data.groupby('Detergent')['Whiteness'].mean()\n",
        "temperature_means = data.groupby('Temperature')['Whiteness'].mean()\n",
        "\n",
        "print(\"\\nMean Whiteness by Detergent:\")\n",
        "print(detergent_means)\n",
        "\n",
        "print(\"\\nMean Whiteness by Temperature:\")\n",
        "print(temperature_means)"
      ],
      "metadata": {
        "colab": {
          "base_uri": "https://localhost:8080/"
        },
        "id": "RsXePdsK_vvT",
        "outputId": "063a7f18-3ce8-4261-e1b4-59f2b73415b8"
      },
      "execution_count": null,
      "outputs": [
        {
          "output_type": "stream",
          "name": "stdout",
          "text": [
            "One-way ANOVA results:\n",
            "\n",
            "Detergent effect:\n",
            "F-statistic: 6.7438\n",
            "p-value: 0.0292\n",
            "\n",
            "Temperature effect:\n",
            "F-statistic: 0.6029\n",
            "p-value: 0.5773\n",
            "\n",
            "Tukey HSD for Detergents:\n",
            " Multiple Comparison of Means - Tukey HSD, FWER=0.05 \n",
            "=====================================================\n",
            "group1 group2 meandiff p-adj   lower    upper  reject\n",
            "-----------------------------------------------------\n",
            "     A      B  -2.3333 0.8244 -14.2314  9.5647  False\n",
            "     A      C     11.0 0.0667   -0.898  22.898  False\n",
            "     B      C  13.3333 0.0319   1.4353 25.2314   True\n",
            "-----------------------------------------------------\n",
            "\n",
            "Tukey HSD for Temperatures:\n",
            " Multiple Comparison of Means - Tukey HSD, FWER=0.05 \n",
            "=====================================================\n",
            "group1 group2 meandiff p-adj   lower    upper  reject\n",
            "-----------------------------------------------------\n",
            "  Cold    Hot     -7.0 0.5496 -26.5665 12.5665  False\n",
            "  Cold   Warm  -3.3333 0.8634 -22.8998 16.2332  False\n",
            "   Hot   Warm   3.6667 0.8379 -15.8998 23.2332  False\n",
            "-----------------------------------------------------\n",
            "\n",
            "Mean Whiteness by Detergent:\n",
            "Detergent\n",
            "A    53.333333\n",
            "B    51.000000\n",
            "C    64.333333\n",
            "Name: Whiteness, dtype: float64\n",
            "\n",
            "Mean Whiteness by Temperature:\n",
            "Temperature\n",
            "Cold    59.666667\n",
            "Hot     52.666667\n",
            "Warm    56.333333\n",
            "Name: Whiteness, dtype: float64\n"
          ]
        }
      ]
    },
    {
      "cell_type": "markdown",
      "source": [
        "39.How would you create a basic Flask route that displays \"Hello, World!\" on the homepage?\n"
      ],
      "metadata": {
        "id": "HCbBmVNEBCjP"
      }
    },
    {
      "cell_type": "code",
      "source": [
        "from flask import Flask\n",
        "\n",
        "app = Flask(__name__)\n",
        "\n",
        "@app.route(\"/\")\n",
        "def hello_world():\n",
        "  return \"Hello, World!\"\n",
        "\n",
        "if __name__ == \"__main__\":\n",
        "  app.run(debug=True)\n"
      ],
      "metadata": {
        "colab": {
          "base_uri": "https://localhost:8080/"
        },
        "id": "zNenuJ8NBD65",
        "outputId": "bb98abf7-82f1-4a23-9345-1dd1ab3e8bf0"
      },
      "execution_count": null,
      "outputs": [
        {
          "output_type": "stream",
          "name": "stdout",
          "text": [
            " * Serving Flask app '__main__'\n",
            " * Debug mode: on\n"
          ]
        },
        {
          "output_type": "stream",
          "name": "stderr",
          "text": [
            "INFO:werkzeug:\u001b[31m\u001b[1mWARNING: This is a development server. Do not use it in a production deployment. Use a production WSGI server instead.\u001b[0m\n",
            " * Running on http://127.0.0.1:5000\n",
            "INFO:werkzeug:\u001b[33mPress CTRL+C to quit\u001b[0m\n",
            "INFO:werkzeug: * Restarting with stat\n"
          ]
        }
      ]
    },
    {
      "cell_type": "markdown",
      "source": [
        " 40.Explain how to set up a Flask application to handle form submissions using POST requests.\n"
      ],
      "metadata": {
        "id": "Llm74pG8BG1W"
      }
    },
    {
      "cell_type": "markdown",
      "source": [
        "\n",
        "When a user submits a form, the data is typically sent to the server using a POST request. Flask provides tools to handle these requests and extract the submitted data.\n",
        "\n",
        "### Steps to Handle Form Submissions\n",
        "\n",
        "1. **Create a Flask app:**\n",
        "   ```python\n",
        "   from flask import Flask, render_template, request\n",
        "\n",
        "   app = Flask(__name__)\n",
        "   ```\n",
        "\n",
        "2. **Create a form:**\n",
        "   Create an HTML form with input fields and a submit button. The `method` attribute of the form should be set to `POST`.\n",
        "\n",
        "   ```html\n",
        "   <!DOCTYPE html>\n",
        "   <html>\n",
        "   <head>\n",
        "       <title>Form Example</title>\n",
        "   </head>\n",
        "   <body>\n",
        "       <form method=\"POST\" action=\"/\">\n",
        "           <input type=\"text\" name=\"username\">\n",
        "           <input type=\"password\" name=\"password\">\n",
        "           <button type=\"submit\">Submit</button>\n",
        "       </form>\n",
        "   </body>\n",
        "   </html>\n",
        "   ```\n",
        "\n",
        "3. **Create a Flask route:**\n",
        "   Create a route that handles both GET and POST requests.\n",
        "\n",
        "   ```python\n",
        "   from flask import Flask, render_template, request\n",
        "\n",
        "   app = Flask(__name__)\n",
        "\n",
        "   @app.route('/', methods=['GET', 'POST'])\n",
        "   def form():\n",
        "       if request.method == 'POST':\n",
        "           username = request.form['username']\n",
        "           password = request.form['password']\n",
        "           # Process form data here\n",
        "           return f\"Username: {username}, Password: {password}\"\n",
        "       else:\n",
        "           return render_template('form.html')\n",
        "   ```\n",
        "\n",
        "4. **Handle form data:**\n",
        "   In the POST request handler, access the form data using `request.form`. Process the data as needed.\n"
      ],
      "metadata": {
        "id": "KJ7t7o9LCJU_"
      }
    },
    {
      "cell_type": "markdown",
      "source": [
        "41. Write a Flask route that accepts a parameter in the URL and displays it on the page.\n"
      ],
      "metadata": {
        "id": "yDes1q0pCUkg"
      }
    },
    {
      "cell_type": "code",
      "source": [
        "from flask import Flask, render_template\n",
        "\n",
        "app = Flask(__name__)\n",
        "\n",
        "@app.route('/hello/<name>')\n",
        "def hello_name(name):\n",
        "    return f'Hello, {name}!'\n",
        "\n",
        "if __name__ == '__main__':\n",
        "    app.run(debug=True)\n"
      ],
      "metadata": {
        "id": "4BsaQ3f4BI9I"
      },
      "execution_count": null,
      "outputs": []
    },
    {
      "cell_type": "markdown",
      "source": [
        "42.How can you implement user authentication in a Flask application?\n"
      ],
      "metadata": {
        "id": "eCQofa_jE9yC"
      }
    },
    {
      "cell_type": "markdown",
      "source": [
        "**1. Dependencies:**\n",
        "\n",
        "* **Flask:** The core web framework for building your application.\n",
        "* **Flask-Login:** This extension simplifies user session management and login functionality.\n",
        "* **Hashing Library:** You'll need a library like `bcrypt` to securely store passwords. (Never store plain text passwords!)\n",
        "* **Database (Optional):** Consider using Flask-SQLAlchemy to manage user data in a database like PostgreSQL or SQLite.\n",
        "\n",
        "**2. User Model:**\n",
        "\n",
        "Define a User model class that represents your users. This class should have attributes like username, password hash, and any other relevant information. Here's an example:\n",
        "\n",
        "```python\n",
        "from flask_login import UserMixin\n",
        "\n",
        "class User(UserMixin):\n",
        "  def __init__(self, username, password_hash):\n",
        "    self.username = username\n",
        "    self.password_hash = password_hash\n",
        "\n",
        "  # Implement methods like is_authenticated (returns True)\n",
        "  # and other methods required by Flask-Login\n",
        "```\n",
        "\n",
        "**3. Flask-Login Setup:**\n",
        "\n",
        "* Initialize Flask-Login in your application factory:\n",
        "\n",
        "```python\n",
        "from flask_login import LoginManager\n",
        "\n",
        "login_manager = LoginManager()\n",
        "login_manager.init_app(app)\n",
        "\n",
        "# Define user_loader function to retrieve user object from ID\n",
        "@login_manager.user_loader\n",
        "def load_user(user_id):\n",
        "  # Fetch user object from database (if using database)\n",
        "  # based on user_id and return it\n",
        "```\n",
        "\n",
        "**4. User Registration:**\n",
        "\n",
        "* Create a route for user registration.\n",
        "* Use a form to collect username and password.\n",
        "* Validate the form data.\n",
        "* Hash the password using your chosen library (e.g., `bcrypt.generate_password_hash`).\n",
        "* Create a new User object.\n",
        "* Save the user object to the database (if using one).\n",
        "\n",
        "**5. Login Functionality:**\n",
        "\n",
        "* Create a login route with a form for username and password.\n",
        "* Validate the form data.\n",
        "* Query the database (if applicable) to find the user with the matching username.\n",
        "* Check the entered password against the hashed password using the library's verification method (e.g., `bcrypt.check_password_hash`).\n",
        "* If credentials match, use `login_user` from Flask-Login to log the user in and manage their session.\n",
        "\n",
        "**6. Logout Functionality:**\n",
        "\n",
        "* Create a logout route that calls `logout_user` from Flask-Login to clear the user session.\n",
        "* Redirect the user to the login page.\n",
        "\n",
        "**7. Protecting Routes:**\n",
        "\n",
        "* Use the `@login_required` decorator from Flask-Login to restrict access to specific routes for logged-in users only. This will redirect unauthorized users to the login page.\n",
        "\n",
        "**8. Templates:**\n",
        "\n",
        "* Create templates for login, registration, and potentially a profile page for logged-in users.\n"
      ],
      "metadata": {
        "id": "x_EFtVHRF8Fu"
      }
    },
    {
      "cell_type": "markdown",
      "source": [
        "43.Describe the process of connecting a Flask app to a SQLite database using SQLAlchemy.\n"
      ],
      "metadata": {
        "id": "tkADjRRDGiwA"
      }
    },
    {
      "cell_type": "markdown",
      "source": [
        "**SQLAlchemy** is a powerful ORM (Object-Relational Mapper) that simplifies database interactions in Python. When combined with **Flask**, it provides a robust way to manage your application's data.\n",
        "\n",
        "### 1. Installation\n",
        "Ensure you have Flask and SQLAlchemy installed:\n",
        "```bash\n",
        "pip install Flask Flask-SQLAlchemy\n",
        "```\n",
        "\n",
        "### 2. Import Necessary Libraries\n",
        "```python\n",
        "from flask import Flask\n",
        "from flask_sqlalchemy import SQLAlchemy\n",
        "```\n",
        "\n",
        "### 3. Create a Flask App Instance\n",
        "```python\n",
        "app = Flask(__name__)\n",
        "```\n",
        "\n",
        "### 4. Configure SQLAlchemy\n",
        "* **Create a database URI:**\n",
        "  ```python\n",
        "  app.config['SQLALCHEMY_DATABASE_URI'] = 'sqlite:///your_database.db'\n",
        "  ```\n",
        "  Replace `your_database.db` with the desired filename.\n",
        "* **Initialize SQLAlchemy:**\n",
        "  ```python\n",
        "  db = SQLAlchemy(app)\n",
        "  ```\n",
        "\n",
        "### 5. Define Database Models\n",
        "Create Python classes that represent your database tables. These classes will inherit from `db.Model`:\n",
        "`````python\n",
        "from sqlalchemy import Column, Integer, String\n",
        "\n",
        "class User(db.Model):\n",
        "    id = Column(Integer, primary_key=True)\n",
        "    username = Column(String(80), unique=True, nullable=False)\n",
        "    email = Column(String(120), unique=True, nullable=False)\n",
        "\n",
        "    def __repr__(self):\n",
        "        return '<User %r>' % self.username\n",
        "```\n",
        "\n",
        "### 6. Create Database Tables\n",
        "```python\n",
        "with app.app_context():\n",
        "    db.create_all()\n",
        "```"
      ],
      "metadata": {
        "id": "fhEaNZAjGwRE"
      }
    },
    {
      "cell_type": "markdown",
      "source": [
        "44.How would you create a RESTful API endpoint in Flask that returns JSON data?\n"
      ],
      "metadata": {
        "id": "oq_aCroMHLO2"
      }
    },
    {
      "cell_type": "markdown",
      "source": [
        "**1. Dependencies:**\n",
        "\n",
        "* **Flask:** The core framework for your web application.\n",
        "* **Flask- jsonify:** This extension helps convert Python dictionaries to JSON format for responses.\n",
        "\n",
        "**2. Flask Application Setup:**\n",
        "\n",
        "```python\n",
        "from flask import Flask, jsonify\n",
        "app = Flask(__name__)\n",
        "```\n",
        "\n",
        "**3. Define your data (optional):**\n",
        "\n",
        "You can have your data stored in various ways, like a list of dictionaries, retrieved from a database, or generated dynamically. Here's an example with a list:\n",
        "\n",
        "```python\n",
        "data = [\n",
        "    {\"name\": \"Alice\", \"age\": 30},\n",
        "    {\"name\": \"Bob\", \"age\": 25}\n",
        "]\n",
        "```\n",
        "\n",
        "**4. Create the API Endpoint:**\n",
        "\n",
        "* Use a decorator to define the route and HTTP method (e.g., GET).\n",
        "* Access the data using your chosen method.\n",
        "* Convert the data to JSON format using `jsonify`.\n",
        "* Return the JSON response.\n",
        "\n",
        "```python\n",
        "@app.route('/api/v1/data')\n",
        "def get_data():\n",
        "  # Access your data here (replace with your data retrieval logic)\n",
        "  return jsonify(data)\n",
        "```\n",
        "\n",
        "**5. Running the Application:**\n",
        "\n",
        "```python\n",
        "if __name__ == '__main__':\n",
        "  app.run(debug=True)\n",
        "```\n"
      ],
      "metadata": {
        "id": "wXpC3OM8HOgN"
      }
    },
    {
      "cell_type": "markdown",
      "source": [
        "45.Explain how to use Flask-WTF to create and validate forms in a Flask application.\n"
      ],
      "metadata": {
        "id": "CsIDXuKCHeFe"
      }
    },
    {
      "cell_type": "markdown",
      "source": [
        "\n",
        "**Flask-WTF** is a powerful extension for Flask that simplifies form handling and validation.\n",
        "\n",
        "### 1. Installation\n",
        "```bash\n",
        "pip install Flask-WTF\n",
        "```\n",
        "\n",
        "### 2. Import Necessary Modules\n",
        "```python\n",
        "from flask import Flask, render_template, request, redirect, url_for\n",
        "from flask_wtf import FlaskForm\n",
        "from wtforms import StringField, SubmitField\n",
        "from wtforms.validators import DataRequired\n",
        "```\n",
        "\n",
        "### 3. Create a Flask Application\n",
        "```python\n",
        "app = Flask(__name__)\n",
        "app.config['SECRET_KEY'] = 'your_secret_key'  # Replace with a strong secret key\n",
        "```\n",
        "\n",
        "### 4. Define the Form\n",
        "Create a form class inheriting from `FlaskForm`:\n",
        "```python\n",
        "class MyForm(FlaskForm):\n",
        "    name = StringField('Name', validators=[DataRequired()])\n",
        "    submit = SubmitField('Submit')\n",
        "```\n",
        "\n",
        "### 5. Create a Route to Handle the Form\n",
        "```python\n",
        "@app.route('/', methods=['GET', 'POST'])\n",
        "def index():\n",
        "    form = MyForm()\n",
        "    if form.validate_on_submit():\n",
        "        # Handle form submission, e.g., save data to database\n",
        "        name = form.name.data\n",
        "        # ...\n",
        "        return redirect(url_for('success'))  # Redirect to success page\n",
        "    return render_template('index.html', form=form)\n",
        "```\n",
        "\n",
        "### 6. Create the Template\n",
        "```html\n",
        "<!DOCTYPE html>\n",
        "<html>\n",
        "<head>\n",
        "    <title>My Form</title>\n",
        "</head>\n",
        "<body>\n",
        "    <form method=\"POST\">\n",
        "        {{ form.hidden_tag() }}\n",
        "        {{ form.name.label }} {{ form.name(class=\"form-control\") }}\n",
        "        {{ form.submit(class=\"btn btn-primary\") }}\n",
        "    </form>\n",
        "</body>\n",
        "</html>\n",
        "```\n",
        "\n",
        "### Explanation:\n",
        "* **Form Creation:**\n",
        "  - The `MyForm` class defines the fields for the form.\n",
        "  - `StringField` creates a text field.\n",
        "  - `SubmitField` creates a submit button.\n",
        "  - `DataRequired` validator ensures the name field is not empty.\n",
        "\n",
        "* **Route Handling:**\n",
        "  - The route handles both GET and POST requests.\n",
        "  - On GET, it renders the template with the form.\n",
        "  - On POST, it validates the form using `form.validate_on_submit()`.\n",
        "  - If valid, it processes the form data (e.g., save to database).\n",
        "  - Redirect to a success page or display a success message.\n",
        "\n",
        "* **Template:**\n",
        "  - The template renders the form using Jinja2 syntax.\n",
        "  - `form.hidden_tag()` includes a hidden CSRF token for security.\n",
        "  - `form.name.label` and `form.name()` render the name field and its label.\n",
        "  - `form.submit()` renders the submit button.\n"
      ],
      "metadata": {
        "id": "3IpGWg8uHvKH"
      }
    },
    {
      "cell_type": "markdown",
      "source": [
        "46.How can you implement file uploads in a Flask application?\n"
      ],
      "metadata": {
        "id": "mBf3erWgfaHt"
      }
    },
    {
      "cell_type": "markdown",
      "source": [
        "\n",
        "**1. Dependencies:**\n",
        "\n",
        "* **Flask:** The core web framework for your application.\n",
        "* **Werkzeug:** Provides utilities for handling file uploads (included with Flask).\n",
        "\n",
        "**2. HTML Form:**\n",
        "\n",
        "* Create a form with the `enctype` attribute set to `multipart/form-data`.\n",
        "* Include a file input field of type `file`.\n",
        "\n",
        "```html\n",
        "<!DOCTYPE html>\n",
        "<html>\n",
        "<body>\n",
        "  <form method=\"POST\" enctype=\"multipart/form-data\">\n",
        "    <input type=\"file\" name=\"upload_file\">\n",
        "    <button type=\"submit\">Upload</button>\n",
        "  </form>\n",
        "</body>\n",
        "</html>\n",
        "```\n",
        "\n",
        "**3. Flask Route and Upload Handling:**\n",
        "\n",
        "* Define a route for handling the form submission (usually POST method).\n",
        "* Use `request.files` to access uploaded files.\n",
        "* Validate the file (optional): check for allowed extensions, size limits, etc.\n",
        "* Use `file.save()` to save the uploaded file to a secure location on the server.\n",
        "\n",
        "```python\n",
        "from flask import Flask, request, redirect, url_for\n",
        "\n",
        "app = Flask(__name__)\n",
        "\n",
        "ALLOWED_EXTENSIONS = {'txt', 'pdf', 'png', 'jpg', 'jpeg'}\n",
        "UPLOAD_FOLDER = 'uploads'\n",
        "\n",
        "def allowed_file(filename):\n",
        "    return '.' in filename and \\\n",
        "           filename.rsplit('.', 1)[1].lower() in ALLOWED_EXTENSIONS\n",
        "\n",
        "@app.route('/', methods=['GET', 'POST'])\n",
        "def upload_file():\n",
        "    if request.method == 'POST':\n",
        "        # Check if file part is available\n",
        "        if 'upload_file' not in request.files:\n",
        "            return redirect(request.url)\n",
        "        file = request.files['upload_file']\n",
        "        # If no file is selected\n",
        "        if file.filename == '':\n",
        "            return redirect(request.url)\n",
        "        if file and allowed_file(file.filename):\n",
        "            filename = secure_filename(file.filename)\n",
        "            file.save(os.path.join(app.config['UPLOAD_FOLDER'], filename))\n",
        "            return f\"File {filename} uploaded successfully!\"\n",
        "    return render_template('upload.html')\n",
        "\n",
        "if __name__ == '__main__':\n",
        "    app.config['UPLOAD_FOLDER'] = UPLOAD_FOLDER\n",
        "    app.secret_key = 'your_secret_key'  # For secure_filename\n",
        "    app.run(debug=True)\n",
        "```\n",
        "\n",
        "**Explanation:**\n",
        "\n",
        "* `ALLOWED_EXTENSIONS` defines a list of allowed file extensions.\n",
        "* `UPLOAD_FOLDER` specifies the directory where uploaded files will be saved.\n",
        "* `allowed_file` function checks if the uploaded file has an allowed extension.\n",
        "* `request.files` is a dictionary containing uploaded files.\n",
        "* `secure_filename` prevents malicious code injection through filenames.\n",
        "* The route checks for the uploaded file and validates its extension.\n",
        "* If valid, it saves the file with a secure filename using `file.save()`.\n"
      ],
      "metadata": {
        "id": "8ioSMyElfrMZ"
      }
    },
    {
      "cell_type": "markdown",
      "source": [
        "*47*.Describe the steps to create a Flask blueprint and why you might use one.\n"
      ],
      "metadata": {
        "id": "AIwy3QhvIGdy"
      }
    },
    {
      "cell_type": "markdown",
      "source": [
        "\n",
        "A Flask blueprint is a way to organize your application into modular components. It's particularly useful for larger applications where separating different functionalities can improve code readability, maintainability, and testability.\n",
        "\n",
        "### Steps to Create a Flask Blueprint:\n",
        "\n",
        "1. **Import Flask and Blueprint:**\n",
        "   ```python\n",
        "   from flask import Blueprint\n",
        "   ```\n",
        "\n",
        "2. **Create a Blueprint Instance:**\n",
        "   ```python\n",
        "   auth_blueprint = Blueprint('auth', __name__)\n",
        "   ```\n",
        "   * The first argument is the blueprint's name, used for routing.\n",
        "   * The second argument is the blueprint's import name, used to locate resources.\n",
        "\n",
        "3. **Define Routes and Views:**\n",
        "   ```python\n",
        "   @auth_blueprint.route('/login')\n",
        "   def login():\n",
        "       # Login logic here\n",
        "       return 'Login page'\n",
        "   ```\n",
        "   * Use the blueprint instance as a decorator for your routes.\n",
        "\n",
        "4. **Register the Blueprint:**\n",
        "   ```python\n",
        "   from flask import Flask\n",
        "\n",
        "   app = Flask(__name__)\n",
        "   app.register_blueprint(auth_blueprint, url_prefix='/auth')\n",
        "   ```\n",
        "   * Create a Flask app instance.\n",
        "   * Register the blueprint using `app.register_blueprint()`.\n",
        "   * Optionally, use `url_prefix` to add a prefix to all routes in the blueprint.\n",
        "\n",
        "### Why Use Flask Blueprints?\n",
        "\n",
        "* **Modularization:** Organize your application into logical components.\n",
        "* **Reusability:** Create reusable blueprints for different parts of your application.\n",
        "* **Large-Scale Applications:** Manage complex applications more efficiently.\n",
        "* **Testing:** Isolate components for easier testing.\n",
        "* **Collaboration:** Multiple developers can work on different blueprints simultaneously.\n",
        "* **Application Factories:** Create flexible applications with blueprints.\n",
        "\n",
        "**Example:**\n",
        "\n",
        "```python\n",
        "# auth/views.py\n",
        "from flask import Blueprint, render_template\n",
        "\n",
        "auth_blueprint = Blueprint('auth', __name__)\n",
        "\n",
        "@auth_blueprint.route('/login')\n",
        "def login():\n",
        "    return render_template('login.html')\n",
        "\n",
        "# app.py\n",
        "from flask import Flask\n",
        "from auth.views import auth_blueprint\n",
        "\n",
        "app = Flask(__name__)\n",
        "app.register_blueprint(auth_blueprint, url_prefix='/auth')\n",
        "\n",
        "if __name__ == '__main__':\n",
        "    app.run(debug=True)\n",
        "```\n",
        "\n",
        "By using blueprints, you can effectively structure your Flask application, making it easier to maintain and scale.\n"
      ],
      "metadata": {
        "id": "3Gy424cDf4Eb"
      }
    },
    {
      "cell_type": "markdown",
      "source": [
        "48.How would you deploy a Flask application to a production server using Gunicorn and Nginx?\n"
      ],
      "metadata": {
        "id": "sTquu6aXgFWi"
      }
    },
    {
      "cell_type": "markdown",
      "source": [
        "Deploying a Flask application to a production server using Gunicorn and Nginx:\n",
        "\n",
        "**Prerequisites:**\n",
        "\n",
        "* A VPS (Virtual Private Server) or cloud instance with SSH access.\n",
        "* A domain name (optional, but recommended for production).\n",
        "* Basic knowledge of Linux commands and terminal navigation.\n",
        "\n",
        "**Software Installation:**\n",
        "\n",
        "1. **Connect to your server:** Use SSH to connect to your server.\n",
        "2. **Update package lists:**\n",
        "    ```bash\n",
        "    sudo apt update\n",
        "    ```\n",
        "3. **Install Python3 and Pip3 (if not already installed):**\n",
        "    ```bash\n",
        "    sudo apt install python3 python3-pip\n",
        "    ```\n",
        "4. **Install Gunicorn:**\n",
        "    ```bash\n",
        "    sudo pip3 install gunicorn\n",
        "    ```\n",
        "5. **Install Nginx:**\n",
        "    ```bash\n",
        "    sudo apt install nginx\n",
        "    ```\n",
        "\n",
        "**Application Setup:**\n",
        "\n",
        "1. **Transfer your Flask application:** Use a tool like `scp` or Git to transfer your Flask application directory to the server.\n",
        "2. **Create a virtual environment (recommended):** This isolates your application's dependencies from system-wide packages.\n",
        "    ```bash\n",
        "    python3 -m venv venv\n",
        "    source venv/bin/activate  # Activate the virtual environment\n",
        "    ```\n",
        "3. **Install application dependencies:** Install all required Python packages within the virtual environment using `pip install -r requirements.txt` (assuming you have a requirements.txt file).\n",
        "\n",
        "**Gunicorn Configuration:**\n",
        "\n",
        "1. **Create a Gunicorn systemd service file:** This will manage Gunicorn as a background service.\n",
        "   ```bash\n",
        "   sudo nano /etc/systemd/system/my_app.service  # Replace 'my_app' with your app name\n",
        "   ```\n",
        "   Paste the following content, replacing placeholders with your details:\n",
        "\n",
        "   ```\n",
        "   [Unit]\n",
        "   Description=My Flask Application\n",
        "   After=network.target\n",
        "\n",
        "   [Service]\n",
        "   User=your_username  # Replace with your system username\n",
        "   Group=www-data      # Assuming Nginx runs under this user\n",
        "   WorkingDirectory=/path/to/your/app  # Replace with your app directory\n",
        "   Environment=\"PATH=/home/your_username/venv/bin:/usr/local/sbin:/usr/bin:/sbin:/bin\"  # Replace path if needed\n",
        "   ExecStart=/home/your_username/venv/bin/gunicorn --bind 127.0.0.1:5000 wsgi:application  # Replace paths if needed\n",
        "\n",
        "   [Install]\n",
        "   WantedBy=multi-user.target\n",
        "   ```\n",
        "\n",
        "2. **Reload systemd and enable the service:**\n",
        "    ```bash\n",
        "    sudo systemctl daemon-reload\n",
        "    sudo systemctl enable my_app.service\n",
        "    ```\n",
        "\n",
        "**Nginx Configuration:**\n",
        "\n",
        "1. **Create an Nginx server block configuration file:**\n",
        "   ```bash\n",
        "   sudo nano /etc/nginx/sites-available/your_domain.conf  # Replace with your domain name (if applicable)\n",
        "   ```\n",
        "   Paste the following content, replacing placeholders with your details:\n",
        "\n",
        "   ```\n",
        "   server {\n",
        "       listen 80;  # Listen on port 80 (or 443 for HTTPS)\n",
        "       server_name your_domain_name localhost;  # Replace with your domain name (if applicable)\n",
        "\n",
        "       location / {\n",
        "           proxy_pass http://127.0.0.1:5000;  # Forward requests to Gunicorn\n",
        "           proxy_set_header Host $host;\n",
        "           proxy_set_header X-Real-IP $remote_addr;\n",
        "           proxy_redirect off;\n",
        "       }\n",
        "\n",
        "       location /static {  # Serve static files directly (optional)\n",
        "           alias /path/to/your/app/static/;  # Replace with your static files directory\n",
        "       }\n",
        "   }\n",
        "   ```\n",
        "\n",
        "2. **Enable the server block and restart Nginx:**\n",
        "    ```bash\n",
        "    sudo ln -s /etc/nginx/sites-available/your_domain.conf /etc/nginx/sites-enabled/your_domain.conf\n",
        "    sudo systemctl restart nginx\n",
        "    ```\n",
        "\n",
        "**Testing and Verification:**\n",
        "\n",
        "1. **Start the Gunicorn service:**\n",
        "    ```bash\n",
        "    sudo systemctl start my_app.service\n",
        "    ```\n",
        "2. **Check the service status:**\n",
        "    ```bash\n",
        "    sudo systemctl status my_app.service\n",
        "    ```\n",
        "3. **Access your application:**\n",
        "    * If using a domain name, point your browser to `http://your_domain_name`.\n",
        "    * If using the server's IP address, browse to `http://your_server_ip:80`"
      ],
      "metadata": {
        "id": "IKbO5zVMg0Vp"
      }
    },
    {
      "cell_type": "markdown",
      "source": [
        "49. Make a fully functional web application using flask, Mangodb. Signup,Signin page. And after successfully login .Say hello Geeks message at webpage.\n"
      ],
      "metadata": {
        "id": "THh6DB0ehEIN"
      }
    },
    {
      "cell_type": "code",
      "source": [
        "from flask import Flask, render_template, request, redirect, url_for, session\n",
        "from pymongo import MongoClient\n",
        "from werkzeug.security import generate_password_hash, check_password_hash\n",
        "\n",
        "app = Flask(__name__)\n",
        "app.secret_key = 'your_secret_key'\n",
        "\n",
        "# MongoDB connection\n",
        "client = MongoClient('localhost', 27017)\n",
        "db = client['user_db']\n",
        "users = db['users']\n",
        "\n",
        "@app.route('/')\n",
        "def index():\n",
        "    if 'username' in session:\n",
        "        return redirect(url_for('hello'))\n",
        "    return redirect(url_for('login'))\n",
        "\n",
        "@app.route('/signup', methods=['GET', 'POST'])\n",
        "def signup():\n",
        "    if request.method == 'POST':\n",
        "        username = request.form['username']\n",
        "        password = request.form['password']\n",
        "        hashed_password = generate_password_hash(password, method='sha256')\n",
        "\n",
        "        if users.find_one({'username': username}):\n",
        "            return 'Username already exists!'\n",
        "\n",
        "        users.insert_one({'username': username, 'password': hashed_password})\n",
        "        return redirect(url_for('login'))\n",
        "\n",
        "    return render_template('signup.html')\n",
        "\n",
        "@app.route('/login', methods=['GET', 'POST'])\n",
        "def login():\n",
        "    if request.method == 'POST':\n",
        "        username = request.form['username']\n",
        "        password = request.form['password']\n",
        "        user = users.find_one({'username': username})\n",
        "\n",
        "        if user and check_password_hash(user['password'], password):\n",
        "            session['username'] = username\n",
        "            return redirect(url_for('hello'))\n",
        "        return 'Invalid username or password!'\n",
        "\n",
        "    return render_template('login.html')\n",
        "\n",
        "@app.route('/hello')\n",
        "def hello():\n",
        "    if 'username' in session:\n",
        "        return render_template('hello.html')\n",
        "    return redirect(url_for('login'))\n",
        "\n",
        "@app.route('/logout')\n",
        "def logout():\n",
        "    session.pop('username', None)\n",
        "    return redirect(url_for('login'))\n",
        "\n",
        "if __name__ == '__main__':\n",
        "    app.run(debug=True)\n"
      ],
      "metadata": {
        "id": "kDmn2TQXkNyq"
      },
      "execution_count": null,
      "outputs": []
    },
    {
      "cell_type": "markdown",
      "source": [
        "### 50.Machine Learning:"
      ],
      "metadata": {
        "id": "cqo1HICLkOXn"
      }
    },
    {
      "cell_type": "markdown",
      "source": [
        "• What is the difference between Series & Dataframes.\n"
      ],
      "metadata": {
        "id": "dyBKydcZkmiw"
      }
    },
    {
      "cell_type": "markdown",
      "source": [
        "Series\n",
        "A Series is a one-dimensional labeled array capable of holding any data type (integers, floats, strings, objects, etc.).\n",
        "It is similar to a NumPy array but with the added ability to use labels for indexing.\n",
        "Think of it as a single column in a spreadsheet.\n",
        "\n",
        "DataFrame\n",
        "A DataFrame is a two-dimensional labeled data structure with columns that can hold different data types.\n",
        "It is analogous to a spreadsheet or a SQL table.\n",
        "Each column in a DataFrame is essentially a Series."
      ],
      "metadata": {
        "id": "i6MS-gi-ktrJ"
      }
    },
    {
      "cell_type": "markdown",
      "source": [
        "• Create a database name Travel Planner in mysql, and create a table name bookings in that which having attributes (user_id INT, flight_id INT,hotel_id INT, activity_id INT,booking_date DATE) .fill with some dummy value.Now you have to read the content of this table using pandas as dataframe.Show the output.\n"
      ],
      "metadata": {
        "id": "X0BYZiw6k5OR"
      }
    },
    {
      "cell_type": "code",
      "source": [
        "!pip install PyMySQL\n",
        "!pip install mysql-connector-python"
      ],
      "metadata": {
        "colab": {
          "base_uri": "https://localhost:8080/"
        },
        "id": "scI5SpZmnETh",
        "outputId": "fb896149-c211-4ddc-b52a-fe3d24544c84"
      },
      "execution_count": null,
      "outputs": [
        {
          "output_type": "stream",
          "name": "stdout",
          "text": [
            "Collecting PyMySQL\n",
            "  Downloading PyMySQL-1.1.1-py3-none-any.whl.metadata (4.4 kB)\n",
            "Downloading PyMySQL-1.1.1-py3-none-any.whl (44 kB)\n",
            "\u001b[?25l   \u001b[90m━━━━━━━━━━━━━━━━━━━━━━━━━━━━━━━━━━━━━━━━\u001b[0m \u001b[32m0.0/45.0 kB\u001b[0m \u001b[31m?\u001b[0m eta \u001b[36m-:--:--\u001b[0m\r\u001b[2K   \u001b[90m━━━━━━━━━━━━━━━━━━━━━━━━━━━━━━━━━━━━━━━━\u001b[0m \u001b[32m45.0/45.0 kB\u001b[0m \u001b[31m3.6 MB/s\u001b[0m eta \u001b[36m0:00:00\u001b[0m\n",
            "\u001b[?25hInstalling collected packages: PyMySQL\n",
            "Successfully installed PyMySQL-1.1.1\n",
            "Collecting mysql-connector-python\n",
            "  Downloading mysql_connector_python-9.0.0-cp310-cp310-manylinux_2_17_x86_64.whl.metadata (2.0 kB)\n",
            "Downloading mysql_connector_python-9.0.0-cp310-cp310-manylinux_2_17_x86_64.whl (19.3 MB)\n",
            "\u001b[2K   \u001b[90m━━━━━━━━━━━━━━━━━━━━━━━━━━━━━━━━━━━━━━━━\u001b[0m \u001b[32m19.3/19.3 MB\u001b[0m \u001b[31m81.4 MB/s\u001b[0m eta \u001b[36m0:00:00\u001b[0m\n",
            "\u001b[?25hInstalling collected packages: mysql-connector-python\n",
            "Successfully installed mysql-connector-python-9.0.0\n"
          ]
        }
      ]
    },
    {
      "cell_type": "code",
      "source": [
        "import pandas as pd\n",
        "import mysql.connector\n",
        "\n",
        "connection = mysql.connector.connect(\n",
        "    host=\"localhost\",\n",
        "    user=\"root\",\n",
        "    password=\"password\",\n",
        "    database=\"Travel_Planner\"\n",
        ")\n",
        "\n",
        "# Read data from table\n",
        "query = \"SELECT * FROM bookings\"\n",
        "df = pd.read_sql(query, connection)\n",
        "\n",
        "# Print the DataFrame\n",
        "print(df)\n",
        "\n",
        "# Close the connection\n",
        "connection.close()\n"
      ],
      "metadata": {
        "id": "AINYt1dTlLc3"
      },
      "execution_count": null,
      "outputs": []
    },
    {
      "cell_type": "markdown",
      "source": [
        "• Difference between loc and iloc.\n"
      ],
      "metadata": {
        "id": "kx4JuM17n21G"
      }
    },
    {
      "cell_type": "markdown",
      "source": [
        "**loc**\n",
        "\n",
        "Label-based indexing: Selects data based on row and column labels.\n",
        "Inclusive of the end index.\n",
        "Can be used for selecting rows by condition."
      ],
      "metadata": {
        "id": "EdyN7veyn4Pp"
      }
    },
    {
      "cell_type": "code",
      "source": [
        "import pandas as pd\n",
        "\n",
        "data = {'Name': ['Alice', 'Bob', 'Charlie'],\n",
        "        'Age': [25, 30, 28]}\n",
        "df = pd.DataFrame(data)\n",
        "\n",
        "# Select rows with index 'Bob' and 'Charlie'\n",
        "print(df.loc['Bob':'Charlie'])\n"
      ],
      "metadata": {
        "colab": {
          "base_uri": "https://localhost:8080/"
        },
        "id": "kkdrzqJDoAc2",
        "outputId": "db9df7f8-8926-473a-9fde-a2ce45e9dd79"
      },
      "execution_count": null,
      "outputs": [
        {
          "output_type": "stream",
          "name": "stdout",
          "text": [
            "Empty DataFrame\n",
            "Columns: [Name, Age]\n",
            "Index: []\n"
          ]
        }
      ]
    },
    {
      "cell_type": "markdown",
      "source": [
        "**iloc**\n",
        "Integer-based indexing: Selects data based on integer positions.\n",
        "Exclusive of the end index."
      ],
      "metadata": {
        "id": "6V1mvxohoDPn"
      }
    },
    {
      "cell_type": "code",
      "source": [
        "# Select the first two rows\n",
        "print(df.iloc[:2])\n"
      ],
      "metadata": {
        "colab": {
          "base_uri": "https://localhost:8080/"
        },
        "id": "rziyg9QEoGK6",
        "outputId": "63d03f95-7021-4c3b-d7c0-933abe72f2bd"
      },
      "execution_count": null,
      "outputs": [
        {
          "output_type": "stream",
          "name": "stdout",
          "text": [
            "    Name  Age\n",
            "0  Alice   25\n",
            "1    Bob   30\n"
          ]
        }
      ]
    },
    {
      "cell_type": "markdown",
      "source": [
        "• What is the difference between supervised and unsupervised learning?\n"
      ],
      "metadata": {
        "id": "WIhR9QgKoKL7"
      }
    },
    {
      "cell_type": "markdown",
      "source": [
        "\n",
        "### Supervised Learning\n",
        "* **Labeled data:** The training data is labeled with the correct output.\n",
        "* **Goal:** To learn a mapping function from input to output.\n",
        "* **Tasks:** Classification (predicting a category, e.g., spam or not spam) and regression (predicting a numerical value, e.g., house price).\n",
        "* **Examples:** Image recognition, spam detection, fraud detection.\n",
        "\n",
        "### Unsupervised Learning\n",
        "* **Unlabeled data:** The training data does not have predefined labels.\n",
        "* **Goal:** To find patterns or structures within the data.\n",
        "* **Tasks:** Clustering (grouping similar data points together), association rule learning (finding relationships between items), dimensionality reduction (reducing the number of features).\n",
        "* **Examples:** Customer segmentation, anomaly detection, topic modeling.\n"
      ],
      "metadata": {
        "id": "_E2m9E2HodML"
      }
    },
    {
      "cell_type": "markdown",
      "source": [
        "• Explain the bias-variance tradeoff.\n"
      ],
      "metadata": {
        "id": "YLJP5wbdohsC"
      }
    },
    {
      "cell_type": "markdown",
      "source": [
        "## Bias-Variance Tradeoff\n",
        "\n",
        "The bias-variance tradeoff is a fundamental concept in machine learning that describes the relationship between a model's complexity, its accuracy on training data, and its ability to generalize to new, unseen data.\n",
        "\n",
        "### Bias\n",
        "* **Definition:** The difference between the average prediction of a model and the correct value.\n",
        "* **High bias:** A model that is too simple, underfitting the data. It consistently misses the target.\n",
        "* **Low bias:** A complex model that can capture the underlying patterns in the data.\n",
        "\n",
        "### Variance\n",
        "* **Definition:** How much a model's prediction varies for different training sets.\n",
        "* **High variance:** A model that is too complex, overfitting the data. It is highly sensitive to noise in the training data.\n",
        "* **Low variance:** A simple model that is consistent in its predictions.\n",
        "\n",
        "### The Tradeoff\n",
        "* **Ideal scenario:** Low bias and low variance.\n",
        "* **Reality:** There's often a tradeoff between bias and variance.\n",
        "* **Increasing model complexity:** Typically reduces bias but increases variance.\n",
        "* **Decreasing model complexity:** Typically increases bias but reduces variance.\n",
        "\n",
        "### Finding the Balance\n",
        "* **The goal:** To find the optimal model complexity that minimizes the total error (bias + variance + irreducible error).\n",
        "* **Techniques:** Regularization, cross-validation, and model selection help in finding this balance.\n"
      ],
      "metadata": {
        "id": "HHXW79B6okA-"
      }
    },
    {
      "cell_type": "markdown",
      "source": [
        "• What are precision and recall? How are they different from accuracy?\n"
      ],
      "metadata": {
        "id": "z4mUAng_9AOW"
      }
    },
    {
      "cell_type": "markdown",
      "source": [
        "Accuracy\n",
        "\n",
        "Overall correctness: Measures the proportion of correct predictions (both positive and negative) out of the total number of predictions.\n",
        "Formula: (True Positives + True Negatives) / (Total Predictions)\n",
        "Best suited for: Balanced datasets where the number of positive and negative examples is similar.\n",
        "\n",
        "Precision\n",
        "\n",
        "Positive predictive value: Measures the proportion of positive predictions that were actually correct.\n",
        "Formula: True Positives / (True Positives + False Positives)\n",
        "Best suited for: Cases where false positives are costly (e.g., spam filtering).\n",
        "\n",
        "Recall\n",
        "\n",
        "Sensitivity: Measures the proportion of actual positive cases that were correctly identified.\n",
        "Formula: True Positives / (True Positives + False Negatives)\n",
        "Best suited for: Cases where false negatives are costly (e.g., disease diagnosis)."
      ],
      "metadata": {
        "id": "wP5rnsIJ9Fq7"
      }
    },
    {
      "cell_type": "markdown",
      "source": [
        "What is overfitting and how can it be prevented?"
      ],
      "metadata": {
        "id": "tTNCGnv79N_9"
      }
    },
    {
      "cell_type": "markdown",
      "source": [
        "**Overfitting** occurs when a machine learning model learns the training data too well, capturing noise and random fluctuations instead of the underlying patterns. As a result, the model performs exceptionally well on the training data but poorly on new, unseen data. It essentially memorizes the training set rather than generalizing to new examples.\n",
        "\n",
        "### Causes of Overfitting\n",
        "* **Complex models:** Models with too many parameters can easily overfit.\n",
        "* **Small datasets:** Insufficient data can lead to the model focusing on noise instead of the signal.\n",
        "* **Noise in data:** Impure or noisy data can confuse the model.\n",
        "\n",
        "### Preventing Overfitting\n",
        "Several techniques can be employed to mitigate overfitting:\n",
        "\n",
        "1. **Data Augmentation:** Increasing the amount of data by creating variations of existing data (e.g., rotating images, adding noise).\n",
        "2. **Regularization:** Introducing a penalty term to the model's loss function to discourage complex models (L1 and L2 regularization).\n",
        "3. **Early Stopping:** Halting the training process before the model starts to overfit.\n",
        "4. **Cross-Validation:** Dividing the data into multiple folds, training the model on different subsets, and evaluating it on the remaining part.\n",
        "5. **Feature Selection:** Choosing the most relevant features to reduce the model's complexity.\n",
        "6. **Ensembling:** Combining multiple models to improve generalization.\n"
      ],
      "metadata": {
        "id": "o8k_q4Sm-1Er"
      }
    },
    {
      "cell_type": "markdown",
      "source": [
        "• Explain the concept of cross-validation.\n"
      ],
      "metadata": {
        "id": "Dz4ZIsas_4zY"
      }
    },
    {
      "cell_type": "markdown",
      "source": [
        "Cross-validation is a technique used in machine learning to assess how well a model generalizes to an independent dataset. It involves partitioning the data into subsets, training the model on some subsets (training set), and validating it on the remaining subsets (validation set). Here’s a concise breakdown:\n",
        "\n",
        "Data Splitting: The dataset is divided into ( k ) subsets or “folds”.\n",
        "Training and Validation: The model is trained on ( k-1 ) folds and validated on the remaining fold. This process is repeated ( k ) times, each time with a different fold as the validation set.\n",
        "Performance Averaging: The performance metrics (e.g., accuracy, precision) from each fold are averaged to provide a more robust estimate of the model’s performance."
      ],
      "metadata": {
        "id": "VCFKV0we__Pu"
      }
    },
    {
      "cell_type": "markdown",
      "source": [
        "• What is the difference between a classification and a regression problem?\n"
      ],
      "metadata": {
        "id": "nnQJkwzFKnFh"
      }
    },
    {
      "cell_type": "markdown",
      "source": [
        "Classification\n",
        "Predicts a categorical label.\n",
        "Output is discrete, meaning it belongs to a fixed set of categories.\n",
        "Examples:\n",
        "Spam or not spam\n",
        "Fraudulent transaction or not\n",
        "Image classification (cat, dog, or bird)\n",
        "\n",
        "Regression\n",
        "\n",
        "Predicts a numercal value.\n",
        "Output is continuous, meaning it can take any value within a range.\n",
        "Examples:\n",
        "House price prediction\n",
        "Stock price forecasting\n",
        "Sales prediction"
      ],
      "metadata": {
        "id": "NISd3x9lKvVA"
      }
    },
    {
      "cell_type": "markdown",
      "source": [
        "• Explain the concept of ensemble learning.\n"
      ],
      "metadata": {
        "id": "ynXqVx2ZNLIq"
      }
    },
    {
      "cell_type": "markdown",
      "source": [
        "Ensemble learning is a machine learning technique that combines multiple models to produce better predictive performance than any single model alone. The idea is to harness the strengths of different models and mitigate their weaknesses.  \n",
        "\n",
        "Multiple Models: Several individual models (base models) are trained on the same dataset. These models can be of the same or different types.  \n",
        "Combination: The predictions from these individual models are combined using various techniques (like voting, averaging, or weighted averaging) to produce a final prediction.\n"
      ],
      "metadata": {
        "id": "t5SENJuXNLvD"
      }
    },
    {
      "cell_type": "markdown",
      "source": [
        "• What is gradient descent and how does it work?\n"
      ],
      "metadata": {
        "id": "9k-KSYLINdhx"
      }
    },
    {
      "cell_type": "markdown",
      "source": [
        "Gradient descent is an optimization algorithm used to minimize the cost or loss function in machine learning models.\n",
        "\n",
        "1. **Initialization**: Start with an initial guess for the model parameters (weights and biases).\n",
        "\n",
        "2. **Compute the Gradient**: Calculate the gradient (partial derivatives) of the cost function with respect to each parameter. The gradient indicates the direction and rate of the steepest increase in the cost function.\n",
        "\n",
        "3. **Update Parameters**: Adjust the parameters in the opposite direction of the gradient to reduce the cost function. This step is controlled by a learning rate, which determines the size of the steps taken.\n",
        "\n",
        "4. **Iterate**: Repeat the process until the cost function converges to a minimum value or a predefined number of iterations is reached.\n",
        "\n",
        "The goal is to find the parameter values that minimize the cost function, thereby improving the model's accuracy"
      ],
      "metadata": {
        "id": "SFSQ5YmrNg6F"
      }
    },
    {
      "cell_type": "markdown",
      "source": [
        "• Describe the difference between batch gradient descent and stochastic gradient descent.\n"
      ],
      "metadata": {
        "id": "YwCOfSU_O_ok"
      }
    },
    {
      "cell_type": "markdown",
      "source": [
        "Both Batch Gradient Descent (BGD) and Stochastic Gradient Descent (SGD) are optimization algorithms used to minimize a cost function in machine learning. The primary difference lies in how they utilize the dataset to calculate the gradient.\n",
        "\n",
        "### Batch Gradient Descent (BGD)\n",
        "* **Uses the entire dataset** to compute the gradient at each iteration.\n",
        "* **Converges to the global minimum** (or a very close approximation) for convex functions.\n",
        "* **Slower compared to SGD** due to the computation required for the entire dataset.\n",
        "* **Suitable for smaller datasets** or when high precision is required.\n",
        "\n",
        "### Stochastic Gradient Descent (SGD)\n",
        "* **Uses a single random data point** to compute the gradient at each iteration.\n",
        "* **Faster than BGD** due to less computation per iteration.\n",
        "* **Noisy updates** due to using only one data point, leading to a more \"jagged\" path to the minimum.\n",
        "* **More prone to getting stuck in local minima** for non-convex functions.\n",
        "* **Suitable for large datasets** where computation time is a constraint.\n",
        "\n"
      ],
      "metadata": {
        "id": "o8LVDnZ9PHMg"
      }
    },
    {
      "cell_type": "markdown",
      "source": [
        "• What is the curse of dimensionality in machine learning?\n"
      ],
      "metadata": {
        "id": "OfUM_Nc9PX2T"
      }
    },
    {
      "cell_type": "markdown",
      "source": [
        "The Curse of Dimensionality\n",
        "The curse of dimensionality refers to the challenges that arise when analyzing and organizing data in high-dimensional spaces. As the number of features or dimensions in a dataset increases, the volume of the data space grows exponentially. This leads to several problems:"
      ],
      "metadata": {
        "id": "5GeC_zeZPcT7"
      }
    },
    {
      "cell_type": "markdown",
      "source": [
        "• Explain the difference between L1 and L2 regularization.\n"
      ],
      "metadata": {
        "id": "5Ob3eewqPuS2"
      }
    },
    {
      "cell_type": "markdown",
      "source": [
        "\n",
        "**L1** and **L2** regularization are techniques used to prevent overfitting in machine learning models by adding a penalty term to the loss function.\n",
        "\n",
        "### L1 Regularization (Lasso)\n",
        "\n",
        "* **Penalty term:** Sum of the absolute values of the coefficients.\n",
        "* **Effect:** Encourages sparsity, meaning many coefficients become zero. This acts as a feature selection process, automatically removing irrelevant features.\n",
        "* **Best suited for:** Models with many features, where feature selection is desired.\n",
        "\n",
        "### L2 Regularization (Ridge)\n",
        "\n",
        "* **Penalty term:** Sum of the squares of the coefficients.\n",
        "* **Effect:** Shrinks the coefficients towards zero but rarely makes them exactly zero. Improves model stability and handles multicollinearity better.\n",
        "* **Best suited for:** Models with many features that are correlated."
      ],
      "metadata": {
        "id": "-5QJ5tP0PxnS"
      }
    },
    {
      "cell_type": "markdown",
      "source": [
        "• What is a confusion matrix and how is it used?\n"
      ],
      "metadata": {
        "id": "EPPCo2kGQED5"
      }
    },
    {
      "cell_type": "markdown",
      "source": [
        "A confusion matrix is a performance evaluation tool used in machine learning classification problems. It's a table that summarizes the performance of a classification model on a set of test data. It allows you to visualize the number of correct and incorrect predictions made by the model\n",
        "\n",
        "Evaluation of Model Performance:\n",
        "\n",
        " By analyzing the values in the confusion matrix, you can calculate various performance metrics like accuracy, precision, recall, F1-score, etc.\n",
        "\n",
        "Identifying Model Errors:\n",
        "\n",
        " It helps in understanding the types of errors the model is making. For example, a high number of false positives indicates that the model is predicting positive cases more often than it should.\n",
        "Comparing Models: You can compare the performance of different models by comparing their confusion matrices"
      ],
      "metadata": {
        "id": "j2oItGW0QGQ4"
      }
    },
    {
      "cell_type": "markdown",
      "source": [
        "• Define AUC-ROC curve.\n"
      ],
      "metadata": {
        "id": "jraFYaZofCxp"
      }
    },
    {
      "cell_type": "markdown",
      "source": [
        "## ROC Curve\n",
        "- **ROC (Receiver Operating Characteristic) Curve**: This is a graphical plot that shows the performance of a binary classifier as its discrimination threshold is varied. It plots:\n",
        "  - **True Positive Rate (TPR)**, also known as sensitivity or recall, on the y-axis.\n",
        "  - **False Positive Rate (FPR)**, on the x-axis.\n",
        "\n",
        "## AUC\n",
        "- **AUC (Area Under the Curve)**: This represents the area under the ROC curve. It provides an aggregate measure of the model's performance across all classification thresholds. The AUC value ranges from 0 to 1:\n",
        "  - **AUC = 1**: Perfect model.\n",
        "  - **AUC = 0.5**: Model with no discrimination capability (equivalent to random guessing).\n",
        "  - **AUC < 0.5**: Model performing worse than random guessing.\n",
        "\n",
        "The higher the AUC, the better the model is at distinguishing between the positive and negative classes."
      ],
      "metadata": {
        "id": "uDsLhOn2fFuP"
      }
    },
    {
      "cell_type": "markdown",
      "source": [
        "• Explain the k-nearest neighbors algorithm.\n"
      ],
      "metadata": {
        "id": "KQ-8weOMfmo8"
      }
    },
    {
      "cell_type": "markdown",
      "source": [
        "\n",
        "**K-Nearest Neighbors (KNN)** is a simple yet effective supervised machine learning algorithm used for both classification and regression tasks. It operates on the principle that similar things exist in close proximity.\n",
        "\n",
        "### How KNN Works:\n",
        "\n",
        "1. **Choose the number of neighbors (K):** This is a crucial parameter. A lower K value can be more sensitive to noise, while a higher K value might miss local patterns.\n",
        "2. **Calculate distance:** For each point in the dataset, calculate its distance to the new data point. Common distance metrics include Euclidean distance, Manhattan distance, and Minkowski distance.\n",
        "3. **Find the nearest neighbors:** Identify the K closest data points to the new data point based on the calculated distances.\n",
        "4. **Make a prediction:**\n",
        "   * **Classification:** Assign the new data point to the class that is most frequent among its K nearest neighbors.\n",
        "   * **Regression:** Predict the value of the new data point as the average of the values of its K nearest neighbors.\n",
        "\n",
        "### Key Points:\n",
        "* **Lazy learning:** KNN is a lazy learning algorithm, meaning it doesn't build a model during training. It stores the entire training dataset and performs calculations only when a prediction is needed.\n",
        "* **Sensitive to outliers:** KNN can be sensitive to outliers, especially for small values of K.\n",
        "* **Computational cost:** Can be computationally expensive for large datasets, as it requires calculating distances to all training points for each prediction.\n"
      ],
      "metadata": {
        "id": "ShVwhynxfnQ6"
      }
    },
    {
      "cell_type": "markdown",
      "source": [
        "• Explain the basic concept of a Support Vector Machine (SVM).\n"
      ],
      "metadata": {
        "id": "gna4f6iFgWiD"
      }
    },
    {
      "cell_type": "markdown",
      "source": [
        "\n",
        "\n",
        "**Support Vector Machine (SVM)** is a supervised machine learning algorithm used primarily for classification, although it can also be used for regression. The core idea is to find the best hyperplane that separates data points into different classes.\n",
        "\n",
        "### Key Concepts:\n",
        "* **Hyperplane:** A decision boundary that separates data points into different classes.\n",
        "* **Margin:** The distance between the hyperplane and the nearest data points from each class.\n",
        "* **Support Vectors:** The data points closest to the hyperplane, which influence its position.\n",
        "\n",
        "### How SVM Works:\n",
        "1. **Finding the Optimal Hyperplane:** SVM aims to find the hyperplane that maximizes the margin between the two classes. This is known as the optimal hyperplane.\n",
        "2. **Support Vectors:** The data points closest to the hyperplane are called support vectors. These points are crucial in determining the position of the hyperplane.\n",
        "3. **Classification:** New data points are classified based on which side of the hyperplane they fall on.\n"
      ],
      "metadata": {
        "id": "Hlpdlw4OgmBZ"
      }
    },
    {
      "cell_type": "markdown",
      "source": [
        "• How does the kernel trick work in SVM?\n"
      ],
      "metadata": {
        "id": "2CPaFcAwhAZ7"
      }
    },
    {
      "cell_type": "markdown",
      "source": [
        "### Kernel Trick\n",
        "- **Kernel Functions**: Instead of explicitly computing the coordinates of the data in the higher-dimensional space, the kernel trick uses a kernel function to compute the dot product of the data points in this space. This makes the computation more efficient.\n",
        "- **Common Kernels**:\n",
        "  - **Linear Kernel**: No transformation, used for linearly separable data.\n",
        "  - **Polynomial Kernel**: Maps data into a polynomial feature space.\n",
        "  - **Radial Basis Function (RBF) Kernel**: Also known as the Gaussian kernel, it is effective for capturing complex patterns.\n",
        "  - **Sigmoid Kernel**: Mimics the behavior of neural networks.\n",
        "\n",
        "### How It Works\n",
        "- **Inner Products**: The decision function in SVMs is based on the dot products of vectors. The kernel function replaces these dot products with a non-linear function that computes the dot product in the higher-dimensional space.\n",
        "- **Efficiency**: The key advantage is that the kernel trick allows SVMs to operate in the higher-dimensional space without explicitly computing the coordinates, saving computational resources"
      ],
      "metadata": {
        "id": "JUx8vt1ehCpZ"
      }
    },
    {
      "cell_type": "markdown",
      "source": [
        "• What are the different types of kernels used in SVM and when would you use each?\n"
      ],
      "metadata": {
        "id": "scvn-SBAh0D0"
      }
    },
    {
      "cell_type": "markdown",
      "source": [
        "## Types of Kernels in SVM\n",
        "\n",
        "The choice of kernel function significantly impacts the performance of an SVM. Here's a breakdown of common kernel types and their use cases:\n",
        "\n",
        "### 1. Linear Kernel\n",
        "* **Function:** K(x, y) = x^T * y\n",
        "* **Use case:** When data is linearly separable or when the number of features is significantly larger than the number of samples. It's computationally efficient.\n",
        "\n",
        "### 2. Polynomial Kernel\n",
        "* **Function:** K(x, y) = (gamma * x^T * y + coef0)^degree\n",
        "* **Use case:** For data with polynomial relationships between features. The parameters `gamma`, `coef0`, and `degree` can be tuned to adjust the kernel's behavior.\n",
        "\n",
        "### 3. Radial Basis Function (RBF) Kernel\n",
        "* **Function:** K(x, y) = exp(-gamma * ||x - y||^2)\n",
        "* **Use case:** The most commonly used kernel due to its ability to handle non-linear relationships effectively. It's a good default choice when there's no prior knowledge about the data. The `gamma` parameter controls the influence of data points.\n",
        "\n",
        "### 4. Sigmoid Kernel\n",
        "* **Function:** K(x, y) = tanh(gamma * x^T * y + coef0)\n",
        "* **Use case:** Inspired by neural networks, it can be used as an alternative to the RBF kernel. However, it's less commonly used in practice.\n",
        "\n",
        "### When to Use Which Kernel?\n",
        "* **Start with Linear:** If you have a large dataset with many features, a linear kernel is often a good starting point due to its simplicity and efficiency.\n",
        "* **Try RBF:** For most non-linear problems, the RBF kernel is a good default choice. It's versatile and can capture complex relationships.\n",
        "* **Consider Polynomial or Sigmoid:** These kernels might be suitable for specific problem domains where you have prior knowledge about the data or want to experiment with different kernel types.\n",
        "* **Grid Search:** Often, the best kernel and its parameters can be determined through hyperparameter tuning using techniques like grid search or randomized search."
      ],
      "metadata": {
        "id": "BTSXCVXtiDnu"
      }
    },
    {
      "cell_type": "markdown",
      "source": [
        "• What is the hyperplane in SVM and how is it determined?\n",
        "\n"
      ],
      "metadata": {
        "id": "ugYg96wWiIDJ"
      }
    },
    {
      "cell_type": "markdown",
      "source": [
        "## Hyperplane in SVM\n",
        "\n",
        "**A hyperplane is a decision boundary that separates data points into different classes in an SVM.** It's essentially a generalized plane in a high-dimensional space.\n",
        "\n",
        "* **In 2D:** A hyperplane is a line.\n",
        "* **In 3D:** A hyperplane is a plane.\n",
        "* **In higher dimensions:** It's a flat subspace with one dimension less than the ambient space.\n",
        "\n",
        "### Determining the Optimal Hyperplane\n",
        "The core idea of SVM is to find the optimal hyperplane that maximizes the margin between the two classes. This is achieved by:\n",
        "\n",
        "1. **Identifying Support Vectors:** These are the data points closest to the hyperplane.\n",
        "2. **Maximizing Margin:** The distance between the hyperplane and the nearest data points (support vectors) is called the margin. SVM aims to find the hyperplane that maximizes this margin.\n",
        "3. **Optimization:** This is often formulated as a constrained optimization problem, which can be solved using techniques like quadratic programming.\n"
      ],
      "metadata": {
        "id": "4L2slOS3iPVg"
      }
    },
    {
      "cell_type": "markdown",
      "source": [
        "• What are the pros and cons of using a Support Vector Machine (SVM)?\n"
      ],
      "metadata": {
        "id": "6mcxSODuiyJJ"
      }
    },
    {
      "cell_type": "markdown",
      "source": [
        "\n",
        "\n",
        "* **Effective in high-dimensional spaces:** SVMs excel at handling data with numerous features.\n",
        "* **Clear geometric interpretation:** The concept of maximizing the margin is intuitive and provides a strong foundation.\n",
        "* **Versatile with kernel trick:** By using different kernels, SVMs can handle linear and non-linear data effectively.\n",
        "* **Robust to overfitting:** The focus on maximizing the margin helps prevent overfitting.\n",
        "* **Efficient in memory usage:** Compared to other algorithms, SVMs often require less memory.\n",
        "\n",
        "## Cons of Support Vector Machines (SVM)\n",
        "\n",
        "* **Sensitive to parameter tuning:** Choosing the right kernel and its parameters can be challenging and time-consuming.\n",
        "* **Computationally expensive for large datasets:** Training SVMs can be slow, especially for large datasets.\n",
        "* **Not suitable for all data distributions:** SVMs might not perform well when data is noisy or imbalanced.\n",
        "* **Difficult to interpret:** Unlike some other models (e.g., decision trees), SVM models are often considered black boxes, making it harder to understand the decision-making process.\n",
        "* **Primarily for two-class classification:** While multi-class classification can be achieved, it's often more complex compared to other algorithms."
      ],
      "metadata": {
        "id": "QjkqHKr5me9v"
      }
    },
    {
      "cell_type": "markdown",
      "source": [
        "• Explain the difference between a hard margin and a soft margin SVM."
      ],
      "metadata": {
        "id": "6Moz8w6ymkCQ"
      }
    },
    {
      "cell_type": "markdown",
      "source": [
        "\n",
        "**Hard Margin SVM**:\n",
        "- **Objective**: Find a hyperplane that perfectly separates the data points of different classes.\n",
        "- **Assumption**: The data is linearly separable.\n",
        "- **Characteristics**: No misclassifications are allowed. The margin is maximized, and all data points must lie outside the margin boundaries.\n",
        "- **Use Case**: Suitable for clean datasets without noise or overlapping classes¹.\n",
        "\n",
        "**Soft Margin SVM**:\n",
        "- **Objective**: Find a hyperplane that best separates the data points while allowing some misclassifications.\n",
        "- **Assumption**: The data may not be perfectly separable.\n",
        "- **Characteristics**: Introduces slack variables to allow some data points to fall within the margin or on the wrong side of the hyperplane. Balances the trade-off between maximizing the margin and minimizing classification errors.\n",
        "- **Use Case**: Suitable for real-world datasets with noise and overlapping classes"
      ],
      "metadata": {
        "id": "VRSrdg_gnnec"
      }
    },
    {
      "cell_type": "markdown",
      "source": [
        "• Describe the working principle of a decision tree.\n"
      ],
      "metadata": {
        "id": "OsrPl7GqntKm"
      }
    },
    {
      "cell_type": "markdown",
      "source": [
        "A decision tree is a supervised machine learning algorithm that creates a tree-like model of decisions and their possible consequences.  \n",
        "\n",
        "\n",
        "1. **Define the Decision Objective**:\n",
        "   - Clearly articulate the goal or decision to be made.\n",
        "\n",
        "2. **Gather Relevant Data**:\n",
        "   - Collect all necessary information related to the decision.\n",
        "\n",
        "3. **Identify Decision Points and Outcomes**:\n",
        "   - Determine the key decision points and possible outcomes for each decision.\n",
        "\n",
        "4. **Select the Best Feature**:\n",
        "   - Use measures like Gini impurity or information gain to choose the feature that best splits the data at each node.\n",
        "\n",
        "5. **Split the Data**:\n",
        "   - Partition the dataset into subsets based on the selected feature's criteria.\n",
        "\n",
        "6. **Repeat the Process**:\n",
        "   - For each subset, repeat the process of selecting the best feature and splitting the data until a stopping condition is met (e.g., maximum depth, minimum samples per leaf).\n",
        "\n",
        "7. **Assign Probabilities and Values**:\n",
        "   - Assign probabilities and values to the outcomes at each leaf node.\n",
        "\n",
        "8. **Optimize and Prune the Tree**:\n",
        "   - Optimize the tree by pruning to remove branches that do not provide significant information gain, reducing overfitting"
      ],
      "metadata": {
        "id": "k6_FiK_AnvW1"
      }
    },
    {
      "cell_type": "markdown",
      "source": [
        "• What is information gain and how is it used in decision trees?\n"
      ],
      "metadata": {
        "id": "KEiRlTYsoC0q"
      }
    },
    {
      "cell_type": "markdown",
      "source": [
        "**Information gain** is a metric used in decision trees to determine which attribute (or feature) is best suited for splitting the dataset at a particular node. It measures the decrease in entropy (impurity) after splitting the dataset based on an attribute.\n",
        "\n",
        "### How it works:\n",
        "1. **Calculate entropy:** Entropy measures the impurity or randomness in a dataset. A higher entropy indicates more randomness, while a lower entropy indicates a more pure dataset.\n",
        "2. **Calculate information gain:** For each attribute, split the dataset based on its values and calculate the entropy of the resulting subsets. The information gain is the difference between the entropy of the parent node and the weighted average of the entropies of the child nodes.\n",
        "3. **Choose the best attribute:** The attribute with the highest information gain is selected as the splitting attribute.\n",
        "\n",
        "### Formula:\n",
        "```\n",
        "Information Gain = Entropy(parent) - [Weighted Average] * Entropy(children)\n",
        "```\n"
      ],
      "metadata": {
        "id": "k5hlcEkXoFIC"
      }
    },
    {
      "cell_type": "markdown",
      "source": [
        "• Explain Gini impurity and its role in decision trees.\n"
      ],
      "metadata": {
        "id": "FQqHlOi2pgI8"
      }
    },
    {
      "cell_type": "markdown",
      "source": [
        "**Gini Impurity** is another metric used to evaluate the quality of a split in a decision tree, similar to information gain. It measures the probability of incorrectly classifying a randomly chosen element in the dataset if it were randomly labeled according to the class distribution in the subset.\n",
        "\n",
        "### How it works:\n",
        "* **Calculation:** Gini impurity is calculated as the probability of selecting a random sample from a particular class and then incorrectly classifying it.\n",
        "* **Range:** Gini impurity ranges from 0 to 0.5.\n",
        "    * 0 indicates a perfectly pure node (all instances belong to the same class).\n",
        "    * 0.5 indicates maximum impurity (equal probability of any class).\n",
        "* **Splitting:** The attribute that results in the smallest Gini impurity after splitting is chosen as the splitting attribute.\n",
        "\n",
        "### Comparison to Information Gain:\n",
        "* Both Gini impurity and information gain aim to find the best split in a decision tree.\n",
        "* Gini impurity is generally faster to compute than information gain.\n",
        "* In practice, both methods often yield similar results.\n",
        "\n",
        "### Role in Decision Trees:\n",
        "Gini impurity is used to determine the best attribute to split a node in a decision tree. The goal is to minimize the Gini impurity of the child nodes after the split, resulting in a purer dataset at each level of the tree."
      ],
      "metadata": {
        "id": "yOSz1J3YqbFQ"
      }
    },
    {
      "cell_type": "markdown",
      "source": [
        "• What are the advantages and disadvantages of decision trees?\n",
        "\n"
      ],
      "metadata": {
        "id": "w9LpSIZXqyWb"
      }
    },
    {
      "cell_type": "markdown",
      "source": [
        "## Advantages of Decision Trees\n",
        "\n",
        "* **Easy to understand and interpret:** Decision trees can be visualized and understood by non-technical stakeholders.\n",
        "* **Can handle both categorical and numerical data:** Versatile in handling different data types.\n",
        "* **Requires little data preparation:** Unlike other algorithms, decision trees don't require extensive data preprocessing.\n",
        "* **Non-parametric:** No assumptions about the underlying data distribution are required.\n",
        "* **Can handle missing values:** Decision trees can handle missing values without imputation.\n",
        "\n",
        "## Disadvantages of Decision Trees\n",
        "\n",
        "* **Prone to overfitting:** Decision trees can become overly complex, leading to poor generalization on unseen data.\n",
        "* **Sensitive to small changes in data:** Small variations in the data can lead to significantly different trees.\n",
        "* **Not suitable for all types of problems:** Decision trees might not perform well for some types of data, such as numerical data with many continuous values.\n",
        "* **Less accurate than other models:** Compared to algorithms like random forest or gradient boosting, decision trees might have lower accuracy.\n",
        "* **Biased towards majority class:** In imbalanced datasets, decision trees can be biased towards the majority class."
      ],
      "metadata": {
        "id": "bdIgHM76q1TX"
      }
    },
    {
      "cell_type": "markdown",
      "source": [
        "• How do random forests improve upon decision trees?\n"
      ],
      "metadata": {
        "id": "OhUJh04Cq5TO"
      }
    },
    {
      "cell_type": "markdown",
      "source": [
        "\n",
        "Random forests address many of the shortcomings of individual decision trees by combining multiple trees into a forest.\n",
        "\n",
        "* **Reduced Overfitting:** By creating multiple trees, each with a random subset of data and features, random forests significantly reduce the risk of overfitting. The ensemble nature helps to average out the errors of individual trees.\n",
        "* **Increased Accuracy:** The combination of multiple trees often leads to higher predictive accuracy compared to a single decision tree.\n",
        "* **Improved Generalization:** Random forests are less sensitive to noise and outliers in the data due to the ensemble approach.\n",
        "* **Feature Importance:** Random forests can provide information about the importance of different features in making predictions.\n"
      ],
      "metadata": {
        "id": "8bSldeLjq8Ej"
      }
    },
    {
      "cell_type": "markdown",
      "source": [
        "• How does a random forest algorithm work?\n"
      ],
      "metadata": {
        "id": "IiHT4Sc-rWen"
      }
    },
    {
      "cell_type": "markdown",
      "source": [
        "\n",
        "A Random Forest is an ensemble learning method that operates by constructing multiple decision trees and combining their predictions to improve the overall accuracy and performance of the model.\n",
        "\n",
        "\n",
        "1. **Random Sampling:**\n",
        "   * The algorithm randomly selects a subset of data points from the original dataset with replacement. This process is known as bootstrapping.\n",
        "   * Each subset is used to build a decision tree.\n",
        "\n",
        "2. **Decision Tree Creation:**\n",
        "   * For each decision tree, only a random subset of features is considered at each node for splitting. This helps in reducing the correlation between trees.\n",
        "   * A decision tree is built using the selected subset of data and features.\n",
        "\n",
        "3. **Forest Creation:**\n",
        "   * Multiple decision trees are created using different random subsets of data and features. This collection of trees forms the random forest.\n",
        "\n",
        "4. **Prediction:**\n",
        "   * To make a prediction, each tree in the forest provides a classification (for classification problems) or a value (for regression problems).\n",
        "   * For classification problems, the final prediction is determined by the majority vote of all trees.\n",
        "   * For regression problems, the final prediction is the average of all predictions from the trees.\n"
      ],
      "metadata": {
        "id": "uTE31RhprcPI"
      }
    },
    {
      "cell_type": "markdown",
      "source": [
        "• What is bootstrapping in the context of random forests?\n"
      ],
      "metadata": {
        "id": "jnP9JsADrhxF"
      }
    },
    {
      "cell_type": "markdown",
      "source": [
        "**Bootstrapping** is a core component of the random forest algorithm. It's a statistical method for estimating the properties of a population by repeatedly drawing samples with replacement from the original dataset.\n",
        "\n",
        "### How it works in Random Forests:\n",
        "* **Sampling with replacement:** For each decision tree in the forest, a random subset of data points is selected from the original dataset. Importantly, this sampling is done *with replacement*, meaning a data point can appear multiple times in a single subset.\n",
        "* **Creating multiple subsets:** This process creates multiple subsets of data, each with the same size as the original dataset.\n",
        "* **Building trees:** Each subset is used to train a separate decision tree.\n",
        "\n",
        "**Key points:**\n",
        "* Bootstrapping introduces diversity among the decision trees in the forest.\n",
        "* By using different subsets of data for each tree, the risk of overfitting is reduced.\n",
        "* The remaining data points not included in a specific subset are called out-of-bag (OOB) samples and can be used for estimating the model's error.\n"
      ],
      "metadata": {
        "id": "rjOhRM9irvkd"
      }
    },
    {
      "cell_type": "markdown",
      "source": [
        "• Explain the concept of feature importance in random forests.\n"
      ],
      "metadata": {
        "id": "HRaRuws5sBD9"
      }
    },
    {
      "cell_type": "markdown",
      "source": [
        "\n",
        "**Feature importance** in random forests measures the contribution of each feature to the model's prediction accuracy. It helps identify which features are most influential in determining the outcome.\n",
        "\n",
        "### How it works:\n",
        "Random forests calculate feature importance by evaluating how much each feature decreases the impurity (e.g., Gini impurity, entropy) within a decision tree. The more a feature reduces impurity across multiple trees, the higher its importance score.\n",
        "\n",
        "### Common Methods for Calculating Feature Importance:\n",
        "1. **Mean Decrease in Impurity (MDI):**\n",
        "   * Calculates the total decrease in impurity caused by a feature across all trees.\n",
        "   * Features with higher MDI values are considered more important.\n",
        "\n",
        "2. **Permutation Importance:**\n",
        "   * Randomly shuffles the values of a feature in the test set and measures the decrease in model performance.\n",
        "   * A larger decrease in performance indicates a more important feature.\n",
        "\n",
        "### Use Cases:\n",
        "* **Feature Selection:** Identifying the most important features can help in reducing dimensionality and improving model efficiency.\n",
        "* **Understanding the Model:** Provides insights into the factors driving predictions.\n",
        "* **Domain Knowledge Validation:** Can confirm or challenge existing domain knowledge about the importance of features."
      ],
      "metadata": {
        "id": "prMtO8zSsD4V"
      }
    },
    {
      "cell_type": "markdown",
      "source": [
        "• What are the key hyperparameters of a random forest and how do they affect the model?\n"
      ],
      "metadata": {
        "id": "1IpE8QsVvRCA"
      }
    },
    {
      "cell_type": "markdown",
      "source": [
        "Hyperparameters are settings that must be specified before training a model. In the case of a random forest, these parameters significantly influence the model's performance.\n",
        "\n",
        "### Key Hyperparameters\n",
        "\n",
        "1. **n_estimators:**\n",
        "   * Defines the number of trees in the forest.\n",
        "   * Increasing the number of trees generally improves performance but can also increase training time.\n",
        "\n",
        "2. **max_depth:**\n",
        "   * Controls the maximum depth of each decision tree.\n",
        "   * A deeper tree can capture more complex patterns but increases the risk of overfitting.\n",
        "\n",
        "3. **min_samples_split:**\n",
        "   * Determines the minimum number of samples required to split an internal node.\n",
        "   * Higher values prevent overfitting but can lead to underfitting if set too high.\n",
        "\n",
        "4. **min_samples_leaf:**\n",
        "   * Defines the minimum number of samples required to be at a leaf node.\n",
        "   * Controls the size of the leaf nodes, helping to prevent overfitting.\n",
        "\n",
        "5. **max_features:**\n",
        "   * Determines the number of features considered for splitting at each node.\n",
        "   * Reducing the number of features can improve computational efficiency and help prevent overfitting.\n",
        "\n",
        "6. **bootstrap:**\n",
        "   * Controls whether to use bootstrap sampling when building trees.\n",
        "   * Bootstrapping is generally used to improve model performance.\n",
        "\n",
        "7. **criterion:**\n",
        "   * Specifies the function to measure the quality of a split. Common options are Gini impurity and entropy.\n",
        "\n",
        "### Impact on Model Performance\n",
        "\n",
        "* **Increasing n_estimators** generally improves accuracy but can lead to longer training times.\n",
        "* **Increasing max_depth** can improve accuracy but also increases the risk of overfitting.\n",
        "* **Increasing min_samples_split and min_samples_leaf** can help prevent overfitting but might lead to underfitting if set too high.\n",
        "* **Reducing max_features** can help prevent overfitting but might also reduce accuracy."
      ],
      "metadata": {
        "id": "DTWqMjnhvYTf"
      }
    },
    {
      "cell_type": "markdown",
      "source": [
        "• Describe the logistic regression model and its assumptions.\n"
      ],
      "metadata": {
        "id": "lYmZLSRWvv-z"
      }
    },
    {
      "cell_type": "markdown",
      "source": [
        "\n",
        "\n",
        "Logistic regression is a statistical method used to predict the probability of a binary outcome (e.g., success/failure, yes/no) based on one or more independent variables. Unlike linear regression, which predicts a continuous value, logistic regression models the probability of an event occurring.\n",
        "\n",
        "### Assumptions of Logistic Regression\n",
        "1. **Binary dependent variable:** The outcome variable should be categorical with two possible values (e.g., 0 or 1, yes or no).\n",
        "2. **Independence of observations:** Each observation should be independent of the others.\n",
        "3. **Linearity in the logit:** The relationship between the log odds of the outcome and the predictors should be linear.\n",
        "4. **No perfect multicollinearity:** The independent variables should not be perfectly correlated with each other.\n",
        "5. **Absence of extreme outliers:** Outliers can significantly impact the model's performance."
      ],
      "metadata": {
        "id": "gQoa68qtvyIY"
      }
    },
    {
      "cell_type": "markdown",
      "source": [
        "• How does logistic regression handle binary classification problems?\n"
      ],
      "metadata": {
        "id": "idcZX0GvBRyn"
      }
    },
    {
      "cell_type": "markdown",
      "source": [
        "\n",
        "Logistic regression is a statistical method specifically designed to handle binary classification problems. It models the probability of an event occurring as a function of one or more explanatory variables.\n",
        "\n",
        "\n",
        "1. **Sigmoid Function:** The core of logistic regression is the sigmoid function, which maps any real value to a value between 0 and 1. This transformed value represents the probability of the positive class.\n",
        "2. **Linear Combination:** The input features are linearly combined with weights (coefficients) to produce a value.\n",
        "3.**Logit Function:** The output of the linear combination is passed through the logit function (natural logarithm of the odds) to obtain the log-odds of the positive class.\n",
        "4. **Probability Estimation:** The log-odds are converted back to probabilities using the inverse of the logit function, which is the sigmoid function.\n",
        "5. **Classification:** A threshold is set (usually 0.5) to classify instances. If the predicted probability is greater than or equal to the threshold, the instance is classified as positive; otherwise, it's classified as negative.\n"
      ],
      "metadata": {
        "id": "_LhUJHlUBTCY"
      }
    },
    {
      "cell_type": "markdown",
      "source": [
        "• What is the sigmoid function and how is it used in logistic regression?\n"
      ],
      "metadata": {
        "id": "S3nxppyuBfUf"
      }
    },
    {
      "cell_type": "markdown",
      "source": [
        "## The Sigmoid Function in Logistic Regression\n",
        "\n",
        "The sigmoid function is a crucial component of logistic regression. It's a mathematical function that maps any real number to a value between 0 and 1.\n",
        "\n",
        "### The Sigmoid Function\n",
        "Mathematically, the sigmoid function is defined as:\n",
        "\n",
        "```\n",
        "sigmoid(x) = 1 / (1 + exp(-x))\n",
        "```\n",
        "\n",
        "Where:\n",
        "* `x` is any real number\n",
        "* `exp(x)` is the exponential function of x\n",
        "\n",
        "The shape of the sigmoid function resembles an \"S\" curve. As the input value increases, the output approaches 1, and as the input value decreases, the output approaches 0.\n",
        "\n",
        "### Role in Logistic Regression\n",
        "In logistic regression, the sigmoid function is used to convert the linear combination of input features (which can be any real number) into a probability value between 0 and 1. This probability represents the likelihood of the positive class.\n",
        "\n",
        "**Steps involved:**\n",
        "\n",
        "1. **Linear combination:** Calculate a linear combination of input features and their corresponding weights.\n",
        "2. **Apply sigmoid function:** Pass the result of the linear combination through the sigmoid function to obtain a probability value.\n",
        "3. **Classification:** If the probability is greater than a predefined threshold (usually 0.5), the instance is classified as positive; otherwise, it's classified as negative.\n",
        "\n",
        "By using the sigmoid function, logistic regression effectively transforms the output of a linear model into a probability, making it suitable for classification problems."
      ],
      "metadata": {
        "id": "yWrKTiV7B0Kg"
      }
    },
    {
      "cell_type": "markdown",
      "source": [
        "• Explain the concept of the cost function in logistic regression.\n"
      ],
      "metadata": {
        "id": "JF3oYD7BB6dt"
      }
    },
    {
      "cell_type": "markdown",
      "source": [
        "## Cost Function in Logistic Regression\n",
        "\n",
        "The **cost function** in logistic regression measures the discrepancy between the predicted probabilities and the actual outcomes. Its purpose is to quantify how well the model is performing.\n",
        "\n",
        "### Log Loss or Cross-Entropy Loss\n",
        "The most commonly used cost function for logistic regression is the **log loss** or **cross-entropy loss**. It penalizes incorrect predictions more heavily.\n",
        "\n",
        "**Formula:**\n",
        "\n",
        "```\n",
        "Cost(hθ(x), y) = -y * log(hθ(x)) - (1-y) * log(1 - hθ(x))\n",
        "```\n",
        "\n",
        "Where:\n",
        "* `hθ(x)` is the predicted probability of the positive class (output of the sigmoid function)\n",
        "* `y` is the actual label (0 or 1)\n",
        "* `log` is the natural logarithm\n",
        "\n",
        "**Interpretation:**\n",
        "\n",
        "* If `y = 1` (positive class), the cost is `-log(hθ(x))`. As `hθ(x)` approaches 1 (correct prediction), the cost approaches 0.\n",
        "* If `y = 0` (negative class), the cost is `-log(1 - hθ(x))`. As `hθ(x)` approaches 0 (correct prediction), the cost approaches 0.\n",
        "\n",
        "The goal of logistic regression is to minimize this cost function by adjusting the model's parameters (weights and bias). This is typically done using an optimization algorithm like gradient descent.\n"
      ],
      "metadata": {
        "id": "dZfUFqHgB825"
      }
    },
    {
      "cell_type": "markdown",
      "source": [
        "• How can logistic regression be extended to handle multiclass classification?\n"
      ],
      "metadata": {
        "id": "tCxETPiuDrUY"
      }
    },
    {
      "cell_type": "markdown",
      "source": [
        "Logistic regression can be extended to handle multiclass classification using two main approaches:\n",
        "\n",
        "1. **One-vs-Rest (OvR)**:\n",
        "   - This method involves training a separate binary classifier for each class. Each classifier predicts whether a sample belongs to its respective class or not. During prediction, the class with the highest probability is chosen.\n",
        "   - For example, if you have three classes (A, B, and C), you would train three classifiers: one for A vs. not A, one for B vs. not B, and one for C vs. not C¹.\n",
        "\n",
        "2. **Multinomial Logistic Regression**:\n",
        "   - This approach modifies the logistic regression model to predict probabilities for multiple classes directly. It uses the softmax function to convert the linear combination of inputs into probabilities for each class.\n",
        "   - The model is trained using a cross-entropy loss function, which is suitable for multiclass classification problems².\n"
      ],
      "metadata": {
        "id": "5U4lY07WD84T"
      }
    },
    {
      "cell_type": "markdown",
      "source": [
        "• What is the difference between L1 and L2 regularization in logistic regression?\n"
      ],
      "metadata": {
        "id": "iitx6JOoEB00"
      }
    },
    {
      "cell_type": "markdown",
      "source": [
        "L1 and L2 regularization are techniques used to prevent overfitting in logistic regression models by adding a penalty term to the loss function.\n",
        "\n",
        "### L1 Regularization (Lasso)\n",
        "* **Penalty term:** Sum of the absolute values of the coefficients.\n",
        "* **Effect:** Encourages sparsity, meaning many coefficients become zero. This acts as a feature selection process, automatically removing irrelevant features.\n",
        "* **Best suited for:** Models with many features, where feature selection is desired.\n",
        "\n",
        "### L2 Regularization (Ridge)\n",
        "* **Penalty term:** Sum of the squares of the coefficients.\n",
        "* **Effect:** Shrinks the coefficients towards zero but rarely makes them exactly zero. Improves model stability and handles multicollinearity better.\n",
        "* **Best suited for:** Models with many features that are correlated."
      ],
      "metadata": {
        "id": "lee0iA2tEDvk"
      }
    },
    {
      "cell_type": "markdown",
      "source": [
        "• What is XGBoost and how does it differ from other boosting algorithms?\n"
      ],
      "metadata": {
        "id": "ejToyYIvEOAF"
      }
    },
    {
      "cell_type": "markdown",
      "source": [
        "## XGBoost: Extreme Gradient Boosting\n",
        "\n",
        "**XGBoost** (eXtreme Gradient Boosting) is a powerful and efficient implementation of the gradient boosting algorithm. It has gained immense popularity due to its exceptional performance on a wide range of machine learning problems.\n",
        "\n",
        "### How it differs from other boosting algorithms:\n",
        "\n",
        "While XGBoost is based on the gradient boosting framework, it incorporates several enhancements:\n",
        "\n",
        "* **Regularization:** XGBoost introduces regularization techniques (L1 and L2) to prevent overfitting, making it more robust than traditional gradient boosting.\n",
        "* **System optimization:** XGBoost is optimized for performance and efficiency, handling large datasets and complex models effectively.\n",
        "* **Parallel processing:** It supports parallel computing, significantly accelerating training time.\n",
        "* **Flexibility:** XGBoost can handle various objective functions and evaluation metrics, making it adaptable to different problem types.\n",
        "* **Handling missing values:** It has built-in strategies for handling missing values, making it robust to real-world data.\n",
        "* **Tree pruning:** XGBoost employs a more sophisticated tree pruning algorithm to prevent overfitting.\n",
        "\n",
        "### Key differences from other boosting algorithms:\n",
        "* **Gradient Boosting:** XGBoost is an optimized version of gradient boosting, focusing on performance, regularization, and efficiency.\n",
        "* **AdaBoost:** While both are boosting algorithms, AdaBoost focuses on adjusting weights of misclassified instances, while XGBoost uses gradients for optimization.\n",
        "* **Random Forest:** Random Forest is a bagging ensemble, while XGBoost is a boosting ensemble. XGBoost focuses on sequentially improving the model, while Random Forest builds independent trees.\n"
      ],
      "metadata": {
        "id": "iP_M7Y9xEQLZ"
      }
    },
    {
      "cell_type": "markdown",
      "source": [
        "• Explain the concept of boosting in the context of ensemble learning.\n"
      ],
      "metadata": {
        "id": "J6zl8EXvEjPL"
      }
    },
    {
      "cell_type": "markdown",
      "source": [
        "Boosting is an ensemble learning method that combines a set of weak learners into a strong learner to minimize training errors. Boosting algorithms can improve the predictive power of your data mining initiatives.\n",
        "\n",
        "In boosting, a random sample of data is selected, fitted with a model and then trained sequentially—that is, each model tries to compensate for the weaknesses of its predecessor. With each iteration, the weak rules from each individual classifier are combined to form one, strong prediction rule."
      ],
      "metadata": {
        "id": "qJgVplmAFwp5"
      }
    },
    {
      "cell_type": "markdown",
      "source": [
        "• How does XGBoost handle missing values?\n"
      ],
      "metadata": {
        "id": "ucSq4A_kF6z5"
      }
    },
    {
      "cell_type": "markdown",
      "source": [
        "XGBoost's Handling of Missing Values\n",
        "\n",
        "**XGBoost excels at handling missing values without requiring explicit imputation**. This is one of its key advantages over many other machine learning algorithms.\n",
        "\n",
        "* **Splitting based on missing values:** When building a tree, XGBoost considers missing values as a separate category. It explores both directions (left or right) for instances with missing values and selects the direction that leads to the best split.\n",
        "* **Learning from missing data:** XGBoost learns the optimal direction for missing values during training. This means the algorithm automatically determines the best placement for instances with missing data.\n",
        "* **Efficiency:** This approach is computationally efficient as it avoids the need for imputation or creating additional dummy variables.\n"
      ],
      "metadata": {
        "id": "ak2kCLz2GBSo"
      }
    },
    {
      "cell_type": "markdown",
      "source": [
        "• What are the key hyperparameters in XGBoost and how do they affect model performance?\n"
      ],
      "metadata": {
        "id": "OLnwIOlsGH8f"
      }
    },
    {
      "cell_type": "markdown",
      "source": [
        "### General Parameters\n",
        "\n",
        "* **n_estimators:** The number of trees in the ensemble. Increasing this typically improves performance but can increase training time.\n",
        "* **learning_rate:** Controls the step size shrinkage used in updates. Lower values prevent overfitting but require more trees.\n",
        "* **objective:** Defines the loss function to be minimized.\n",
        "\n",
        "### Tree-Specific Parameters\n",
        "\n",
        "* **max_depth:** Maximum depth of a tree. Deeper trees can capture complex patterns but risk overfitting.\n",
        "* **min_child_weight:** Minimum sum of instance weight (Hessian) needed in a child node. Higher values prevent overfitting.\n",
        "* **gamma:** Minimum loss reduction required to make a further partition on a leaf node. Higher values can lead to fewer splits.\n",
        "* **subsample:** Fraction of the training data used for each tree. Subsampling helps prevent overfitting.\n",
        "* **colsample_bytree:** Fraction of columns (features) used for each tree. Helps prevent overfitting and improves efficiency.\n",
        "\n",
        "### Regularization Parameters\n",
        "\n",
        "* **lambda (reg_lambda):** L2 regularization on weights. Higher values prevent overfitting.\n",
        "* **alpha (reg_alpha):** L1 regularization on weights. Can lead to feature selection.\n",
        "\n",
        "### Impact on Model Performance\n",
        "\n",
        "* **Overfitting:** Parameters like `max_depth`, `min_child_weight`, `gamma`, `subsample`, `colsample_bytree`, `reg_lambda`, and `reg_alpha` can help control overfitting.\n",
        "* **Underfitting:** Increasing `n_estimators` or decreasing `max_depth` can help address underfitting.\n",
        "* **Computational Efficiency:** `nthread` (number of threads) can influence training speed.\n",
        "\n",
        "**Finding the optimal hyperparameter values often requires experimentation and cross-validation.** There's no one-size-fits-all solution, and the best values depend on the specific dataset and problem.\n",
        "\n"
      ],
      "metadata": {
        "id": "H2XarVDAR4zd"
      }
    },
    {
      "cell_type": "markdown",
      "source": [
        "• Describe the process of gradient boosting in XGBoost.\n"
      ],
      "metadata": {
        "id": "4n1sLCtZS2Go"
      }
    },
    {
      "cell_type": "markdown",
      "source": [
        "\n",
        "**XGBoost** is an optimized implementation of the **gradient boosting** algorithm. The core idea behind gradient boosting is to create a strong predictive model by combining multiple weak learners, typically decision trees.\n",
        "\n",
        "### The Gradient Boosting Process:\n",
        "\n",
        "1. **Initialization:** Start with a base model, often a simple model like a constant value (e.g., mean of the target variable).\n",
        "2. **Calculate Residuals:** Determine the errors or residuals between the predicted values and the actual values.\n",
        "3. **Create a New Model:** Build a weak learner (e.g., decision tree) to predict the residuals from the previous step.\n",
        "4. **Update Predictions:** Add the predictions of the new model to the predictions of the previous models.\n",
        "5. **Repeat:** Iterate steps 2-4 for a specified number of iterations or until a stopping criterion is met.\n",
        "\n",
        "\n"
      ],
      "metadata": {
        "id": "k2nwUKErS8ds"
      }
    },
    {
      "cell_type": "markdown",
      "source": [
        "• What are the advantages and disadvantages of using XGBoost?"
      ],
      "metadata": {
        "id": "W7BpDjh0USA6"
      }
    },
    {
      "cell_type": "markdown",
      "source": [
        "## Advantages of XGBoost\n",
        "\n",
        "* **High Performance:** XGBoost is known for its exceptional accuracy and speed, often outperforming other algorithms.\n",
        "* **Regularization:** It incorporates L1 and L2 regularization to prevent overfitting, making it robust.\n",
        "* **Handles Missing Values:** Built-in mechanisms for handling missing values without requiring imputation.\n",
        "* **Scalability:** Can handle large datasets efficiently due to its parallel processing capabilities.\n",
        "* **Flexibility:** Supports various objective functions and evaluation metrics, making it adaptable to different problems.\n",
        "* **Feature Importance:** Provides insights into feature importance, aiding in feature selection.\n",
        "\n",
        "## Disadvantages of XGBoost\n",
        "\n",
        "* **Complexity:** XGBoost has many hyperparameters, making it challenging to tune for optimal performance.\n",
        "* **Overfitting Potential:** Like other ensemble methods, it can overfit if not carefully tuned.\n",
        "* **Black Box Nature:** The model can be difficult to interpret, making it challenging to understand the decision-making process.\n",
        "* **Computational Intensity:** Training XGBoost models can be computationally expensive, especially for large datasets."
      ],
      "metadata": {
        "id": "C2hL3L9UUTWS"
      }
    }
  ]
}